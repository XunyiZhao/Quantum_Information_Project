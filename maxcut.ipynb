{
 "cells": [
  {
   "cell_type": "code",
   "execution_count": 22,
   "metadata": {},
   "outputs": [
    {
     "name": "stderr",
     "output_type": "stream",
     "text": [
      "Credentials are already in use. The existing account in the session will be replaced.\n"
     ]
    }
   ],
   "source": [
    "# useful additional packages \n",
    "import matplotlib.pyplot as plt\n",
    "import matplotlib.axes as axes\n",
    "%matplotlib inline\n",
    "import numpy as np\n",
    "import networkx as nx\n",
    "import itertools\n",
    "\n",
    "\n",
    "from qiskit import *\n",
    "from qiskit.tools.visualization import plot_histogram\n",
    "from qiskit.aqua import run_algorithm\n",
    "from qiskit.aqua.input import EnergyInput\n",
    "from qiskit.optimization.ising import max_cut, tsp, common\n",
    "from qiskit.aqua.algorithms import VQE, ExactEigensolver, QAOA\n",
    "from qiskit.aqua.components.optimizers import SPSA, ADAM\n",
    "from qiskit.aqua.components.variational_forms import RY\n",
    "from qiskit.aqua import QuantumInstance\n",
    "from qiskit.qasm import pi\n",
    "\n",
    "from qiskit.optimization.ising import max_cut\n",
    "\n",
    "from docplex.mp.model import Model\n",
    "from qiskit.optimization.ising import docplex\n",
    "\n",
    "# setup aqua logging\n",
    "import logging\n",
    "from qiskit.aqua import set_qiskit_aqua_logging\n",
    "# set_qiskit_aqua_logging(logging.DEBUG)  # choose INFO, DEBUG to see the log\n",
    "from qiskit import IBMQ\n",
    "provider = IBMQ.load_account()"
   ]
  },
  {
   "cell_type": "markdown",
   "metadata": {},
   "source": [
    "### Max Cut"
   ]
  },
  {
   "cell_type": "code",
   "execution_count": 320,
   "metadata": {},
   "outputs": [
    {
     "data": {
      "text/plain": [
       "array([[0., 1., 0., 0., 0., 1.],\n",
       "       [1., 0., 1., 0., 0., 0.],\n",
       "       [0., 1., 0., 1., 0., 0.],\n",
       "       [0., 0., 1., 0., 1., 0.],\n",
       "       [0., 0., 0., 1., 0., 1.],\n",
       "       [1., 0., 0., 0., 1., 0.]])"
      ]
     },
     "execution_count": 320,
     "metadata": {},
     "output_type": "execute_result"
    }
   ],
   "source": [
    "w = np.zeros([6,6])\n",
    "for i in range(5):\n",
    "    w[i, i+1] = 1\n",
    "    w[i+1, i] = 1\n",
    "w[0,5] = 1\n",
    "w[5,0] = 1\n",
    "w #ajacency matrix"
   ]
  },
  {
   "cell_type": "code",
   "execution_count": 321,
   "metadata": {},
   "outputs": [
    {
     "data": {
      "text/plain": [
       "'IIIIZZ\\t(0.5+0j)\\nIIIZZI\\t(0.5+0j)\\nIIZZII\\t(0.5+0j)\\nIZZIII\\t(0.5+0j)\\nZIIIIZ\\t(0.5+0j)\\nZZIIII\\t(0.5+0j)\\n'"
      ]
     },
     "execution_count": 321,
     "metadata": {},
     "output_type": "execute_result"
    }
   ],
   "source": [
    "qubitOp, offset = max_cut.get_operator(w)# get the qubit operator given the graph\n",
    "qubitOp.print_details()"
   ]
  },
  {
   "cell_type": "markdown",
   "metadata": {},
   "source": [
    "#### QAOA"
   ]
  },
  {
   "cell_type": "code",
   "execution_count": 14,
   "metadata": {},
   "outputs": [],
   "source": [
    "adam = ADAM(maxiter=1000)#optimizer\n",
    "qaoa = QAOA(qubitOp, adam)#QAOA solver\n",
    "\n",
    "backend = Aer.get_backend('statevector_simulator')\n",
    "quantum_instance = QuantumInstance(backend, seed_simulator=seed, seed_transpiler=seed)\n",
    "result = qaoa.run(quantum_instance)\n",
    "print('solution:', common.sample_most_likely(result['eigvecs'][0]))"
   ]
  },
  {
   "cell_type": "markdown",
   "metadata": {},
   "source": [
    "#### From Scratch"
   ]
  },
  {
   "cell_type": "code",
   "execution_count": 3,
   "metadata": {},
   "outputs": [],
   "source": [
    "class circuits:\n",
    "    def __init__(self, qbits, cbits):\n",
    "        self.qbits = qbits\n",
    "        self.cbits = cbits\n",
    "        self.circ = QuantumCircuit(qbits, cbits)\n",
    "        for i in range(qbits):\n",
    "            self.circ.h(i)\n",
    "    \n",
    "    def beta_gate(self, beta, qbit):\n",
    "        self.circ.u3(2*beta, -pi/2, pi/2, qbit)\n",
    "        \n",
    "    def gamma_gate(self, gamma, qbit0, qbit1):\n",
    "        self.circ.cnot(qbit0,qbit1)\n",
    "        self.circ.u1(-gamma,qbit1)\n",
    "        self.circ.cnot(qbit0,qbit1)\n",
    "        #Found a way for shorter depth\n",
    "#         self.circ.x(qbit1)\n",
    "#         self.circ.u1(-gamma/2, qbit1)\n",
    "#         self.circ.x(qbit1)\n",
    "#         self.circ.u1(-gamma/2, qbit1)\n",
    "#         self.circ.cnot(qbit1, qbit0)\n",
    "#         self.circ.x(qbit0)\n",
    "#         self.circ.u1(gamma/2, qbit0)\n",
    "#         self.circ.x(qbit0)\n",
    "#         self.circ.u1(-gamma/2, qbit0)\n",
    "#         self.circ.cnot(qbit1, qbit0)\n",
    "        \n",
    "    def measure(self):\n",
    "        for i in range(self.qbits):\n",
    "            self.circ.measure(i,i)"
   ]
  },
  {
   "cell_type": "code",
   "execution_count": 36,
   "metadata": {},
   "outputs": [],
   "source": [
    "class maxcut:\n",
    "    def __init__(self, G):\n",
    "        self.G = G\n",
    "        self.n = len(G)\n",
    "#         self.G = nx.Graph()\n",
    "#         self.G.add_nodes_from(np.arange(0,n,1))\n",
    "#         self.elist = elist\n",
    "#         # tuple is (i,j,weight) where (i,j) is the edge\n",
    "#         self.G.add_edges_from(elist)\n",
    "\n",
    "    def draw(self):\n",
    "        colors = ['w' for node in self.G.nodes()]\n",
    "        pos = nx.spring_layout(self.G)\n",
    "        default_axes = plt.axes(frameon=True)\n",
    "        nx.draw_networkx(self.G, node_color=colors, node_size=600, alpha=.8, ax=default_axes, pos=pos)\n",
    "        plt.show()\n",
    "        \n",
    "    def build_circuit(self, beta, gamma):\n",
    "        depth = len(beta)\n",
    "        self.circuit = circuits(self.n, self.n)\n",
    "        for i in range(depth):\n",
    "            for node in range(self.n):\n",
    "                self.circuit.beta_gate(beta[i],node)\n",
    "            for (node0, node1) in self.G.edges:\n",
    "                self.circuit.gamma_gate(gamma[i], node0, node1)\n",
    "        self.circuit.measure()\n",
    "        \n",
    "    def solve(self, sims=1024, print_counts = False):\n",
    "        backend_sim = Aer.get_backend('qasm_simulator')\n",
    "        job_sim = execute(self.circuit.circ, backend_sim, shots=sims)\n",
    "\n",
    "        # Grab the results from the job.\n",
    "        self.result_sim = job_sim.result()\n",
    "        self.counts = self.result_sim.get_counts(self.circuit.circ)\n",
    "        if print_counts:\n",
    "            print('The count of each state:', self.counts)\n",
    "        #return self.counts\n",
    "        \n",
    "    def get_value(self, state):\n",
    "        state = state[::-1]\n",
    "        return max_cut.max_cut_value(np.array(list(state), dtype= np.int), nx.adjacency_matrix(self.G).toarray())\n",
    "    \n",
    "    def expect_value(self, beta = None, gamma = None, sims = 1024):\n",
    "        #given beta and gamma, build a new circuit and solve it\n",
    "        if beta is None:\n",
    "            pass\n",
    "        else:\n",
    "            self.build_circuit(beta, gamma)\n",
    "            self.solve(sims)\n",
    "        exp_v = 0\n",
    "        for (s, i) in self.counts.items():\n",
    "            exp_v += i*self.get_value(s)\n",
    "        return exp_v/sum(self.counts.values())\n",
    "    \n",
    "    def grad(self, beta, gamma, delta = 10**(-6), sims = 1024):\n",
    "        d_beta = np.zeros_like(beta)\n",
    "        d_gamma = np.zeros_like(gamma)\n",
    "        obj = self.expect_value(beta = beta, gamma = gamma, sims = sims)\n",
    "        \n",
    "        new_gamma = np.copy(gamma)\n",
    "        for j in range(2):\n",
    "            for i in range(1,len(beta)):\n",
    "                new_beta = np.copy(beta)\n",
    "                new_beta[i] += (-1)**j*delta\n",
    "                d_beta[i] += (-1)**j*self.expect_value(beta = new_beta, gamma = gamma, sims = sims)\n",
    "\n",
    "            for i in range(len(gamma)):\n",
    "                new_gamma = np.copy(gamma)\n",
    "                new_gamma[i] += (-1)**j*delta\n",
    "                d_gamma[i] += (-1)**j*self.expect_value(beta = beta, gamma = new_gamma, sims = sims)\n",
    "            \n",
    "        return d_beta/2/delta, d_gamma/2/delta\n",
    "\n",
    "    def train(self, opt_rounds = 100, delta = 0.01, depth = 1, sims = 1024, learning_rate = 0.01):\n",
    "        self.beta = np.full(depth,.5)\n",
    "        self.gamma = np.full(depth,.5)\n",
    "        self.training_value = []\n",
    "        for i in range(opt_rounds):\n",
    "#             d_beta, d_gamma = self.grad(self.beta, self.gamma, delta = delta, sims = sims)\n",
    "            d_beta, d_gamma = self.grad(self.beta, self.gamma, delta = delta, sims = sims)\n",
    "            self.beta += d_beta*learning_rate\n",
    "            self.gamma += d_gamma*learning_rate\n",
    "            self.training_value.append(self.expect_value())\n",
    "        return self.training_value\n",
    "    \n",
    "    def heatmap(self, p, beta_range = [0, np.pi], gamma_range = [0, 2*np.pi], n_gamma = 10, n_beta = 5):\n",
    "        #heatmap of p-th layer\n",
    "        new_gamma = np.copy(self.gamma)\n",
    "        new_beta = np.copy(self.beta)\n",
    "        gmin, gmax = gamma_range\n",
    "        bmin, bmax = beta_range\n",
    "        exp_value = np.zeros([n_gamma, n_beta])\n",
    "        for i in range(n_gamma):\n",
    "            for j in range(n_beta):\n",
    "                new_gamma[p] = np.linspace(gmin, gmax, n_gamma)[i]\n",
    "                new_beta[p] = np.linspace(bmin, bmax, n_beta)[j]\n",
    "                exp_value[i,j] = self.expect_value(new_beta, new_gamma)\n",
    "        #Fancy expectation heatmap\n",
    "        plt.imshow(exp_value);\n",
    "        plt.colorbar()\n",
    "        plt.show()\n",
    "        \n",
    "    def hist(self):\n",
    "        lst = np.array(list(itertools.product([0, 1], repeat=self.n)), dtype = 'str')\n",
    "        states = []\n",
    "        counts = []\n",
    "        for l in lst:\n",
    "            states.append(''.join(l))\n",
    "            try:#sometimes there is no count of the state\n",
    "                counts.append(self.counts[states[-1]])\n",
    "            except:\n",
    "                counts.append(0)\n",
    "\n",
    "        #print(\"Optimal value:\", int(np.sum(np.outer(y,(1-y)) * A)))\n",
    "        #print(\"Total amount of difft solutions founds\", len(counts))\n",
    "\n",
    "        plt.figure(figsize=(20,10))\n",
    "        plt.bar(range(2**self.n), np.array(counts), align='center')\n",
    "        plt.xticks(range(2**self.n), states)\n",
    "        plt.xlabel('states')\n",
    "        plt.ylabel('counts')\n",
    "        plt.show()\n",
    "\n",
    "\n",
    "        # plt.figure(figsize=(20,10))\n",
    "        # plt.bar(range(len(counts)), list(counts.values()), align='center')\n",
    "        # plt.xticks(range(len(counts)), list(counts.keys()))\n",
    "        # plt.xlabel('states')\n",
    "        # plt.ylabel('counts')\n",
    "        # plt.show()\n",
    "        #y = np.array([int(x) for x in binlist.format(int(newcounts[0][0],2))])\n",
    "        #print(y)\n",
    "        #print(int(np.sum(np.outer(y,(1-y)) * A)))"
   ]
  },
  {
   "cell_type": "code",
   "execution_count": 37,
   "metadata": {},
   "outputs": [
    {
     "name": "stdout",
     "output_type": "stream",
     "text": [
      "[[0 1 1 0 0]\n",
      " [1 0 1 1 1]\n",
      " [1 1 0 0 1]\n",
      " [0 1 0 0 0]\n",
      " [0 1 1 0 0]]\n"
     ]
    },
    {
     "data": {
      "image/png": "[encoded data removed]",
      "text/plain": [
       "<Figure size 432x288 with 1 Axes>"
      ]
     },
     "metadata": {
      "needs_background": "light"
     },
     "output_type": "display_data"
    },
    {
     "name": "stdout",
     "output_type": "stream",
     "text": [
      "1e-07\n"
     ]
    }
   ],
   "source": [
    "#G = nx.Graph([(0,1),(0,2),(0,3),(1,2),(1,3),(0,4),(2,4),(3,4),(2,5),(4,5)])\n",
    "G = nx.Graph([(0,1),(1,2),(1,3),(0,2),(2,4),(1,4)])\n",
    "edges = len(G)\n",
    "A = nx.adjacency_matrix(G)\n",
    "A = np.array(A.todense())\n",
    "print(A)\n",
    "\n",
    "#mc = maxcut(edges, [[0,1], [1,2], [1,3], [2,3]])\n",
    "mc = maxcut(G)\n",
    "mc.draw()\n",
    "print(10**(-7))"
   ]
  },
  {
   "cell_type": "code",
   "execution_count": 38,
   "metadata": {},
   "outputs": [
    {
     "data": {
      "image/png": "[encoded data removed]",
      "text/plain": [
       "<Figure size 432x288 with 1 Axes>"
      ]
     },
     "metadata": {
      "needs_background": "light"
     },
     "output_type": "display_data"
    },
    {
     "name": "stdout",
     "output_type": "stream",
     "text": [
      "Wall time: 1min 30s\n"
     ]
    }
   ],
   "source": [
    "%%time\n",
    "\n",
    "curve = mc.train(opt_rounds=30, depth = 7, sims = 10000, learning_rate = 0.01)\n",
    "plt.plot(curve)\n",
    "plt.show()"
   ]
  },
  {
   "cell_type": "code",
   "execution_count": 39,
   "metadata": {},
   "outputs": [
    {
     "data": {
      "image/png": "[encoded data removed]",
      "text/plain": [
       "<Figure size 1440x720 with 1 Axes>"
      ]
     },
     "metadata": {
      "needs_background": "light"
     },
     "output_type": "display_data"
    }
   ],
   "source": [
    "mc.hist()"
   ]
  },
  {
   "cell_type": "code",
   "execution_count": 30,
   "metadata": {},
   "outputs": [
    {
     "data": {
      "image/png": "[encoded data removed]",
      "text/plain": [
       "<Figure size 432x288 with 2 Axes>"
      ]
     },
     "metadata": {
      "needs_background": "light"
     },
     "output_type": "display_data"
    }
   ],
   "source": [
    "mc.heatmap(1, n_gamma=40, n_beta=20)"
   ]
  },
  {
   "cell_type": "code",
   "execution_count": 31,
   "metadata": {},
   "outputs": [
    {
     "data": {
      "image/png": "[encoded data removed]",
      "text/plain": [
       "<Figure size 432x288 with 2 Axes>"
      ]
     },
     "metadata": {
      "needs_background": "light"
     },
     "output_type": "display_data"
    }
   ],
   "source": [
    "mc.heatmap(2, n_gamma=40, n_beta=20)"
   ]
  },
  {
   "cell_type": "code",
   "execution_count": 182,
   "metadata": {},
   "outputs": [
    {
     "name": "stdout",
     "output_type": "stream",
     "text": [
      "Optimal value: 5\n",
      "Total amount of difft solutions founds 32\n"
     ]
    },
    {
     "data": {
      "image/png": "[encoded data removed]",
      "text/plain": [
       "<Figure size 1440x720 with 1 Axes>"
      ]
     },
     "metadata": {
      "needs_background": "light"
     },
     "output_type": "display_data"
    },
    {
     "name": "stdout",
     "output_type": "stream",
     "text": [
      "[0 1 1 0 0]\n",
      "5\n"
     ]
    }
   ],
   "source": [
    "counts = mc.counts\n",
    "\n",
    "#print(counts)\n",
    "newcounts = sorted(counts.items(), key = lambda x:(x[1], x[0]), reverse=True)\n",
    "# print(np.array(newcounts)[:,1].astype(int))\n",
    "\n",
    "y = np.array([int(x) for x in binlist.format(int(newcounts[0][0],2))])\n",
    "print(\"Optimal value:\", int(np.sum(np.outer(y,(1-y)) * A)))\n",
    "print(\"Total amount of difft solutions founds\", len(counts))\n",
    "\n",
    "\n",
    "\n",
    "\n",
    "plt.figure(figsize=(20,10))\n",
    "plt.bar(range(min(len(counts),10)), list(np.array(newcounts)[0:10,1].astype(int)), align='center')\n",
    "plt.xticks(range(min(len(counts),10)), list(np.array(newcounts)[0:10,0]))\n",
    "plt.xlabel('states')\n",
    "plt.ylabel('counts')\n",
    "plt.show()\n",
    "\n",
    "\n",
    "# plt.figure(figsize=(20,10))\n",
    "# plt.bar(range(len(counts)), list(counts.values()), align='center')\n",
    "# plt.xticks(range(len(counts)), list(counts.keys()))\n",
    "# plt.xlabel('states')\n",
    "# plt.ylabel('counts')\n",
    "# plt.show()\n",
    "y = np.array([int(x) for x in binlist.format(int(newcounts[0][0],2))])\n",
    "print(y)\n",
    "print(int(np.sum(np.outer(y,(1-y)) * A)))"
   ]
  },
  {
   "cell_type": "code",
   "execution_count": 149,
   "metadata": {},
   "outputs": [
    {
     "name": "stdout",
     "output_type": "stream",
     "text": [
      "trained beta: [0.5    0.5717 0.4319 0.5599 0.6336 0.5259 0.5173 0.3363 0.5443 0.4689\n",
      " 0.5433 0.4867 0.4043 0.5566 0.5036]\n",
      "trained gamma: [0.4835 0.4923 0.5789 0.5686 0.5398 0.5012 0.5923 0.5914 0.57   0.4496\n",
      " 0.5072 0.4351 0.5483 0.4845 0.5024]\n"
     ]
    }
   ],
   "source": [
    "print('trained beta:', mc.beta)\n",
    "print('trained gamma:', mc.gamma)"
   ]
  },
  {
   "cell_type": "markdown",
   "metadata": {},
   "source": [
    "### "
   ]
  },
  {
   "cell_type": "code",
   "execution_count": 183,
   "metadata": {},
   "outputs": [
    {
     "name": "stdout",
     "output_type": "stream",
     "text": [
      "[0 2 1 3 3 3 4 4 4 4 3 3 5 3 4 2 2 4 3 5 3 3 4 4 4 4 3 3 3 1 2 0]\n"
     ]
    }
   ],
   "source": [
    "#Thingy for binary thingy\n",
    "s = list(\"{0:0eb}\")\n",
    "s[4] = str(edges)\n",
    "binlist=\"\".join(s)\n",
    "\n",
    "energy = np.zeros(2**edges, dtype=int)\n",
    "for k in range(0,2**edges):\n",
    "    y = np.array([int(x) for x in binlist.format(k)]) #btw we gotta change this part manually when we have larger graph\n",
    "    energy[k] = int(np.sum(np.outer(y,(1-y)) * A))\n",
    "\n",
    "print(energy)"
   ]
  },
  {
   "cell_type": "code",
   "execution_count": 104,
   "metadata": {},
   "outputs": [
    {
     "name": "stdout",
     "output_type": "stream",
     "text": [
      "the counts of each states: {'11010': 323, '10101': 313, '01100': 302, '00000': 291, '00011': 318, '11100': 300, '10000': 309, '00111': 316, '11011': 293, '11001': 307, '10010': 321, '01110': 335, '01000': 302, '01001': 280, '01111': 341, '10111': 292, '10110': 368, '00001': 299, '00010': 309, '10011': 289, '10100': 314, '11111': 344, '11000': 317, '01010': 319, '01101': 317, '00101': 330, '11110': 292, '00100': 332, '10001': 312, '01011': 334, '00110': 278, '11101': 303}\n"
     ]
    },
    {
     "ename": "AttributeError",
     "evalue": "'NoneType' object has no attribute 'items'",
     "output_type": "error",
     "traceback": [
      "\u001b[1;31m---------------------------------------------------------------------------\u001b[0m",
      "\u001b[1;31mAttributeError\u001b[0m                            Traceback (most recent call last)",
      "\u001b[1;32m<ipython-input-104-e3e128e5b099>\u001b[0m in \u001b[0;36m<module>\u001b[1;34m\u001b[0m\n\u001b[0;32m     47\u001b[0m \u001b[1;33m\u001b[0m\u001b[0m\n\u001b[0;32m     48\u001b[0m         \u001b[1;31m#re-ordering\u001b[0m\u001b[1;33m\u001b[0m\u001b[1;33m\u001b[0m\u001b[1;33m\u001b[0m\u001b[0m\n\u001b[1;32m---> 49\u001b[1;33m         \u001b[0mcounts\u001b[0m \u001b[1;33m=\u001b[0m \u001b[0msorted\u001b[0m\u001b[1;33m(\u001b[0m\u001b[0mcounts\u001b[0m\u001b[1;33m.\u001b[0m\u001b[0mitems\u001b[0m\u001b[1;33m(\u001b[0m\u001b[1;33m)\u001b[0m\u001b[1;33m,\u001b[0m \u001b[0mkey\u001b[0m \u001b[1;33m=\u001b[0m \u001b[1;32mlambda\u001b[0m \u001b[0mx\u001b[0m\u001b[1;33m:\u001b[0m\u001b[1;33m(\u001b[0m\u001b[0mx\u001b[0m\u001b[1;33m[\u001b[0m\u001b[1;36m0\u001b[0m\u001b[1;33m]\u001b[0m\u001b[1;33m,\u001b[0m \u001b[0mx\u001b[0m\u001b[1;33m[\u001b[0m\u001b[1;36m1\u001b[0m\u001b[1;33m]\u001b[0m\u001b[1;33m)\u001b[0m\u001b[1;33m,\u001b[0m \u001b[0mreverse\u001b[0m\u001b[1;33m=\u001b[0m\u001b[1;32mTrue\u001b[0m\u001b[1;33m)\u001b[0m\u001b[1;33m\u001b[0m\u001b[1;33m\u001b[0m\u001b[0m\n\u001b[0m\u001b[0;32m     50\u001b[0m         \u001b[0mcounts2\u001b[0m \u001b[1;33m=\u001b[0m \u001b[0mnp\u001b[0m\u001b[1;33m.\u001b[0m\u001b[0marray\u001b[0m\u001b[1;33m(\u001b[0m\u001b[0mcounts\u001b[0m\u001b[1;33m)\u001b[0m\u001b[1;33m.\u001b[0m\u001b[0mastype\u001b[0m\u001b[1;33m(\u001b[0m\u001b[0mint\u001b[0m\u001b[1;33m)\u001b[0m\u001b[1;33m[\u001b[0m\u001b[1;33m:\u001b[0m\u001b[1;33m:\u001b[0m\u001b[1;33m-\u001b[0m\u001b[1;36m1\u001b[0m\u001b[1;33m]\u001b[0m\u001b[1;33m\u001b[0m\u001b[1;33m\u001b[0m\u001b[0m\n\u001b[0;32m     51\u001b[0m \u001b[1;33m\u001b[0m\u001b[0m\n",
      "\u001b[1;31mAttributeError\u001b[0m: 'NoneType' object has no attribute 'items'"
     ]
    }
   ],
   "source": [
    "#Amount of samples from the grid\n",
    "ngamma, nbeta = (20,5)\n",
    "\n",
    "#Which part of the space are we gonna consider.\n",
    "gmin = [1,0]\n",
    "gmax = [1,1]\n",
    "bmin = [0,0]\n",
    "bmax = [0,1]\n",
    "\n",
    "\n",
    "#Initializing rando variables\n",
    "p = 2 #Depth\n",
    "expectation = np.zeros((ngamma,nbeta))\n",
    "expectation2 = np.zeros((ngamma,nbeta))\n",
    "energy = np.zeros(2**edges, dtype=int)\n",
    "gamma = np.zeros((depth,ngamma))\n",
    "beta = np.zeros((depth,nbeta))\n",
    "\n",
    "\n",
    "#Creating the grid\n",
    "for i in range(0,p):\n",
    "    gamma[i,:] = np.linspace(gmin[i]*2*pi, gmax[i]*2*pi, ngamma)\n",
    "    beta[i,:] = np.linspace(bmin[i], bmax[i], nbeta)\n",
    "\n",
    "\n",
    "\n",
    "#Thingy for binary thingy\n",
    "s = list(\"{0:0eb}\")\n",
    "s[4] = str(edges)\n",
    "binlist=\"\".join(s)\n",
    "\n",
    "\n",
    "#Amount of simulations\n",
    "shots = 10000\n",
    "\n",
    "#Calculating the energies that belong to each state. I think with a real quantum computer we could perhaps skip this.\n",
    "\n",
    "for k in range(0,2**edges):\n",
    "    y = np.array([int(x) for x in binlist.format(k)]) #btw we gotta change this part manually when we have larger graph\n",
    "    energy[k] = int(np.sum(np.outer(y,(1-y)) * A))\n",
    "\n",
    "#Find the expectation value for each point on the grid\n",
    "for i in range(0,ngamma):\n",
    "    for j in range(0,nbeta):\n",
    "        mc.build_circuit(depth = p, beta = beta[:,j], gamma = gamma[:,i])\n",
    "        counts = mc.solve(sims=shots)\n",
    "\n",
    "        #re-ordering\n",
    "        counts = sorted(counts.items(), key = lambda x:(x[0], x[1]), reverse=True)\n",
    "        counts2 = np.array(counts).astype(int)[::-1]\n",
    "\n",
    "        #Sometimes a state gets no count. This is to preserve the dimension of the energy.\n",
    "        energy2 = np.zeros(len(counts2), dtype=int)\n",
    "\n",
    "        #Prevent energy and counts2 array not same dimensions coz counts doesn't return no count states\n",
    "        for k in range(0,len(counts2)):\n",
    "            energy2[k] = energy[int(str(counts2[k,0]),2)]\n",
    "\n",
    "\n",
    "        #Fancy expectation\n",
    "        expectation[i,j] = np.dot(np.array(energy2),counts2[:,1])/shots        \n",
    "\n",
    "\n",
    "#Fancy expectation heatmap\n",
    "plt.imshow(expectation);\n",
    "plt.colorbar()\n",
    "plt.show()\n",
    "\n",
    "#Gradient\n",
    "grad = np.gradient(expectation)\n",
    "print(grad)"
   ]
  },
  {
   "cell_type": "code",
   "execution_count": null,
   "metadata": {},
   "outputs": [],
   "source": [
    "grad = np.gradient(expectation)\n",
    "plt.imshow(grad[0]);\n",
    "plt.colorbar()\n",
    "plt.show()\n",
    "print(grad)\n",
    "print(np.amax(abs(grad[0])))\n",
    "print(np.amax(abs(grad[1])))\n",
    "print(np.zeros((3,2)*2))"
   ]
  },
  {
   "cell_type": "code",
   "execution_count": 232,
   "metadata": {},
   "outputs": [
    {
     "name": "stdout",
     "output_type": "stream",
     "text": [
      "[[0.         0.15789474 0.31578947 0.47368421 0.63157895 0.78947368\n",
      "  0.94736842 1.10526316 1.26315789 1.42105263 1.57894737 1.73684211\n",
      "  1.89473684 2.05263158 2.21052632 2.36842105 2.52631579 2.68421053\n",
      "  2.84210526 3.        ]\n",
      " [2.         2.05263158 2.10526316 2.15789474 2.21052632 2.26315789\n",
      "  2.31578947 2.36842105 2.42105263 2.47368421 2.52631579 2.57894737\n",
      "  2.63157895 2.68421053 2.73684211 2.78947368 2.84210526 2.89473684\n",
      "  2.94736842 3.        ]]\n"
     ]
    }
   ],
   "source": [
    "depth = 2\n",
    "\n",
    "gamma = np.zeros((depth,ngamma))\n",
    "gmin = [0,2]\n",
    "gmax = [3,3]\n",
    "\n",
    "for i in range(0,depth):\n",
    "    gamma[i,:] = np.linspace(gmin[i], gmax[i], ngamma)\n",
    "# for j in range(0,nbeta):\n",
    "#     beta = np.linspace(bmin, bmax/sect, nbeta)\n",
    "print(gamma)"
   ]
  },
  {
   "cell_type": "code",
   "execution_count": 188,
   "metadata": {},
   "outputs": [
    {
     "data": {
      "image/png": "[encoded data removed]",
      "text/plain": [
       "<Figure size 432x288 with 1 Axes>"
      ]
     },
     "metadata": {
      "needs_background": "light"
     },
     "output_type": "display_data"
    }
   ],
   "source": [
    "#Initializing rando variables\n",
    "p = 4 #Depth\n",
    "expectation = np.zeros(2)\n",
    "energy = np.zeros(2**edges, dtype=int)\n",
    "Delta = 0.01\n",
    "\n",
    "\n",
    "#Thingy for binary thingy\n",
    "s = list(\"{0:0eb}\")\n",
    "s[4] = str(edges)\n",
    "binlist=\"\".join(s)\n",
    "\n",
    "\n",
    "#Amount of simulations\n",
    "shots = 3000\n",
    "\n",
    "#Calculating the energies that belong to each state. I think with a real quantum computer we could perhaps skip this.\n",
    "for k in range(0,2**edges):\n",
    "    y = np.array([int(x) for x in binlist.format(k)]) #btw we gotta change this part manually when we have larger graph\n",
    "    energy[k] = int(np.sum(np.outer(y,(1-y)) * A))\n",
    "\n",
    "    \n",
    "    \n",
    "#intialize beta (x) and gamma(y)\n",
    "x = np.full(p,.5)\n",
    "y = np.full(p,.5)\n",
    "dx = np.zeros(p)\n",
    "dy = np.zeros(p)\n",
    "\n",
    "#Gonna use this in the loop\n",
    "xnew = x\n",
    "ynew = y\n",
    "\n",
    "#Optimizer parameters. Correction is the step size we are gonna use for changing x and y\n",
    "OptiRounds = 20\n",
    "Expected = np.zeros(OptiRounds)\n",
    "correction = 0.01\n",
    "\n",
    "\n",
    "#This part looks super messy. Perhaps we could write a function that outputs the expectation value for given x and y\n",
    "\n",
    "#This loop is for the optimization. That's why this stuff takes ages to run.\n",
    "for m in range(0,OptiRounds):\n",
    "    \n",
    "    for l in range(0,p):\n",
    "\n",
    "        #Find the expectation value for each point on the grid for varying beta\n",
    "        for j in range(0,2):\n",
    "            xnew = x\n",
    "            #print(xnew)\n",
    "            xnew[l] = x[l]+(-1)**j*Delta\n",
    "            #print(xnew)\n",
    "            mc.build_circuit(beta = xnew, gamma = y)\n",
    "            mc.solve(sims=shots)\n",
    "            counts = mc.counts\n",
    "            xnew = 0\n",
    "            #re-ordering\n",
    "            counts = sorted(counts.items(), key = lambda x:(x[0], x[1]), reverse=True)\n",
    "            counts2 = np.array(counts).astype(int)[::-1]\n",
    "\n",
    "            #Sometimes a state gets no count. This is to preserve the dimension of the energy.\n",
    "            energy2 = np.zeros(len(counts2), dtype=int)\n",
    "\n",
    "            #Prevent energy and counts2 array not same dimensions coz counts doesn't return no count states\n",
    "            for k in range(0,len(counts2)):\n",
    "                energy2[k] = energy[int(str(counts2[k,0]),2)]\n",
    "\n",
    "            #Fancy expectation\n",
    "            expectation[j] = np.dot(np.array(energy2),counts2[:,1])/shots  \n",
    "\n",
    "        #Calculate derivative at beta central difference\n",
    "        dx = (expectation[0]-expectation[1])/(2*Delta)\n",
    "\n",
    "\n",
    "\n",
    "        #Find the expectation value for each point on the grid for varying gamma\n",
    "        for j in range(0,2):\n",
    "            ynew = y\n",
    "            ynew[l] = y[l]+(-1)**j*Delta\n",
    "            mc.build_circuit(beta = x, gamma = ynew)\n",
    "            mc.solve(sims=shots)\n",
    "            counts = mc.counts\n",
    "            ynew = 0\n",
    "            #re-ordering\n",
    "            counts = sorted(counts.items(), key = lambda x:(x[0], x[1]), reverse=True)\n",
    "            counts2 = np.array(counts).astype(int)[::-1]\n",
    "\n",
    "            #Sometimes a state gets no count. This is to preserve the dimension of the energy.\n",
    "            energy2 = np.zeros(len(counts2), dtype=int)\n",
    "\n",
    "            #Prevent energy and counts2 array not same dimensions coz counts doesn't return no count states\n",
    "            for k in range(0,len(counts2)):\n",
    "                energy2[k] = energy[int(str(counts2[k,0]),2)]\n",
    "\n",
    "            #Fancy expectation\n",
    "            expectation[j] = np.dot(np.array(energy2),counts2[:,1])/shots  \n",
    "\n",
    "        #Calculate derivative at beta central difference\n",
    "        dy = (expectation[0]-expectation[1])/(2*Delta)\n",
    "        \n",
    "        \n",
    "        #Apply correction. Notice the + sign coz we have gradient ascent.\n",
    "        x[l] = x[l]+correction*dx\n",
    "        y[l] = y[l]+correction*dy\n",
    "\n",
    "\n",
    "\n",
    "\n",
    "\n",
    "\n",
    "    #Here we output the expectation value for the corrected x and y. Just nice to see how the expectation value increases\n",
    "    mc.build_circuit(beta = x, gamma = y)\n",
    "    mc.solve(sims=shots)\n",
    "    counts = mc.counts\n",
    "    #re-ordering\n",
    "    counts = sorted(counts.items(), key = lambda x:(x[0], x[1]), reverse=True)\n",
    "    counts2 = np.array(counts).astype(int)[::-1]\n",
    "\n",
    "    #Sometimes a state gets no count. This is to preserve the dimension of the energy.\n",
    "    energy2 = np.zeros(len(counts2), dtype=int)\n",
    "\n",
    "    #Prevent energy and counts2 array not same dimensions coz counts doesn't return no count states\n",
    "    for k in range(0,len(counts2)):\n",
    "        energy2[k] = energy[int(str(counts2[k,0]),2)]\n",
    "\n",
    "    #Fancy expectation\n",
    "    Expected[m] = np.dot(np.array(energy2),counts2[:,1])/shots  \n",
    "    #print(Expected)\n",
    "        \n",
    "        \n",
    "        \n",
    "        \n",
    "        \n",
    "        \n",
    "        \n",
    "        \n",
    "        \n",
    "        \n",
    "        \n",
    "        \n",
    "#Fancy expectation heatmap\n",
    "plt.plot(Expected)\n",
    "plt.show()\n",
    "\n",
    "# #Random thingies\n",
    "# print(expectation)\n",
    "# print(dx)\n",
    "# print(x)\n",
    "# print(y)"
   ]
  }
 ],
 "metadata": {
  "kernelspec": {
   "display_name": "Python 3",
   "language": "python",
   "name": "python3"
  },
  "language_info": {
   "codemirror_mode": {
    "name": "ipython",
    "version": 3
   },
   "file_extension": ".py",
   "mimetype": "text/x-python",
   "name": "python",
   "nbconvert_exporter": "python",
   "pygments_lexer": "ipython3",
   "version": "3.7.1"
  }
 },
 "nbformat": 4,
 "nbformat_minor": 2
}

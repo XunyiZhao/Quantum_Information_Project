{
 "cells": [
  {
   "cell_type": "code",
   "execution_count": 1,
   "metadata": {},
   "outputs": [],
   "source": [
    "# useful additional packages \n",
    "import matplotlib.pyplot as plt\n",
    "import matplotlib.axes as axes\n",
    "%matplotlib inline\n",
    "import numpy as np\n",
    "import networkx as nx\n",
    "\n",
    "\n",
    "from qiskit import *\n",
    "from qiskit.tools.visualization import plot_histogram\n",
    "from qiskit.aqua import run_algorithm\n",
    "from qiskit.aqua.input import EnergyInput\n",
    "from qiskit.optimization.ising import max_cut, tsp, common\n",
    "from qiskit.aqua.algorithms import VQE, ExactEigensolver, QAOA\n",
    "from qiskit.aqua.components.optimizers import SPSA, ADAM\n",
    "from qiskit.aqua.components.variational_forms import RY\n",
    "from qiskit.aqua import QuantumInstance\n",
    "from qiskit.qasm import pi\n",
    "\n",
    "from qiskit.optimization.ising import max_cut\n",
    "\n",
    "from docplex.mp.model import Model\n",
    "from qiskit.optimization.ising import docplex\n",
    "\n",
    "# setup aqua logging\n",
    "import logging\n",
    "from qiskit.aqua import set_qiskit_aqua_logging\n",
    "# set_qiskit_aqua_logging(logging.DEBUG)  # choose INFO, DEBUG to see the log\n",
    "from qiskit import IBMQ\n",
    "provider = IBMQ.load_account()"
   ]
  },
  {
   "cell_type": "markdown",
   "metadata": {},
   "source": [
    "### Max Cut"
   ]
  },
  {
   "cell_type": "code",
   "execution_count": 320,
   "metadata": {},
   "outputs": [
    {
     "data": {
      "text/plain": [
       "array([[0., 1., 0., 0., 0., 1.],\n",
       "       [1., 0., 1., 0., 0., 0.],\n",
       "       [0., 1., 0., 1., 0., 0.],\n",
       "       [0., 0., 1., 0., 1., 0.],\n",
       "       [0., 0., 0., 1., 0., 1.],\n",
       "       [1., 0., 0., 0., 1., 0.]])"
      ]
     },
     "execution_count": 320,
     "metadata": {},
     "output_type": "execute_result"
    }
   ],
   "source": [
    "w = np.zeros([6,6])\n",
    "for i in range(5):\n",
    "    w[i, i+1] = 1\n",
    "    w[i+1, i] = 1\n",
    "w[0,5] = 1\n",
    "w[5,0] = 1\n",
    "w #ajacency matrix"
   ]
  },
  {
   "cell_type": "code",
   "execution_count": 321,
   "metadata": {},
   "outputs": [
    {
     "data": {
      "text/plain": [
       "'IIIIZZ\\t(0.5+0j)\\nIIIZZI\\t(0.5+0j)\\nIIZZII\\t(0.5+0j)\\nIZZIII\\t(0.5+0j)\\nZIIIIZ\\t(0.5+0j)\\nZZIIII\\t(0.5+0j)\\n'"
      ]
     },
     "execution_count": 321,
     "metadata": {},
     "output_type": "execute_result"
    }
   ],
   "source": [
    "qubitOp, offset = max_cut.get_operator(w)# get the qubit operator given the graph\n",
    "qubitOp.print_details()"
   ]
  },
  {
   "cell_type": "markdown",
   "metadata": {},
   "source": [
    "#### QAOA"
   ]
  },
  {
   "cell_type": "code",
   "execution_count": 14,
   "metadata": {},
   "outputs": [],
   "source": [
    "adam = ADAM(maxiter=1000)#optimizer\n",
    "qaoa = QAOA(qubitOp, adam)#QAOA solver\n",
    "\n",
    "backend = Aer.get_backend('statevector_simulator')\n",
    "quantum_instance = QuantumInstance(backend, seed_simulator=seed, seed_transpiler=seed)\n",
    "result = qaoa.run(quantum_instance)\n",
    "print('solution:', common.sample_most_likely(result['eigvecs'][0]))"
   ]
  },
  {
   "cell_type": "markdown",
   "metadata": {},
   "source": [
    "#### From Scratch"
   ]
  },
  {
   "cell_type": "code",
   "execution_count": 29,
   "metadata": {},
   "outputs": [],
   "source": [
    "class circuits:\n",
    "    def __init__(self, qbits, cbits):\n",
    "        self.qbits = qbits\n",
    "        self.cbits = cbits\n",
    "        self.circ = QuantumCircuit(qbits, cbits)\n",
    "        for i in range(qbits):\n",
    "            self.circ.h(i)\n",
    "    \n",
    "    def beta_gate(self, beta, qbit):\n",
    "        self.circ.u3(2*beta, -pi/2, pi/2, qbit)\n",
    "        \n",
    "    def gamma_gate(self, gamma, qbit0, qbit1):\n",
    "        self.circ.x(qbit1)\n",
    "        self.circ.u1(-gamma/2, qbit1)\n",
    "        self.circ.x(qbit1)\n",
    "        self.circ.u1(-gamma/2, qbit1)\n",
    "        self.circ.cnot(qbit1, qbit0)\n",
    "        self.circ.x(qbit0)\n",
    "        self.circ.u1(gamma/2, qbit0)\n",
    "        self.circ.x(qbit0)\n",
    "        self.circ.u1(-gamma/2, qbit0)\n",
    "        self.circ.cnot(qbit1, qbit0)\n",
    "        \n",
    "    def measure(self):\n",
    "        for i in range(self.qbits):\n",
    "            self.circ.measure(i,i)"
   ]
  },
  {
   "cell_type": "code",
   "execution_count": 33,
   "metadata": {},
   "outputs": [],
   "source": [
    "class maxcut:\n",
    "    def __init__(self, G):\n",
    "        self.G = G\n",
    "        self.n = len(G)\n",
    "#         self.G = nx.Graph()\n",
    "#         self.G.add_nodes_from(np.arange(0,n,1))\n",
    "#         self.elist = elist\n",
    "#         # tuple is (i,j,weight) where (i,j) is the edge\n",
    "#         self.G.add_edges_from(elist)\n",
    "\n",
    "    def draw(self):\n",
    "        colors = ['w' for node in self.G.nodes()]\n",
    "        pos = nx.spring_layout(self.G)\n",
    "        default_axes = plt.axes(frameon=True)\n",
    "        nx.draw_networkx(self.G, node_color=colors, node_size=600, alpha=.8, ax=default_axes, pos=pos)\n",
    "        plt.show()\n",
    "        \n",
    "    def build_circuit(self, depth, beta, gamma):\n",
    "        self.circuit = circuits(self.n, self.n)\n",
    "        for i in range(depth):\n",
    "            for node in range(self.n):\n",
    "                self.circuit.beta_gate(beta[i],node)\n",
    "            for (node0, node1) in self.G.edges:\n",
    "                self.circuit.gamma_gate(gamma[i], node0, node1)\n",
    "        self.circuit.measure()\n",
    "        \n",
    "    def solve(self, sims):\n",
    "        backend_sim = Aer.get_backend('qasm_simulator')\n",
    "        job_sim = execute(self.circuit.circ, backend_sim, shots=sims)\n",
    "\n",
    "        # Grab the results from the job.\n",
    "        result_sim = job_sim.result()\n",
    "        counts = result_sim.get_counts(self.circuit.circ)\n",
    "        return counts"
   ]
  },
  {
   "cell_type": "code",
   "execution_count": 268,
   "metadata": {},
   "outputs": [
    {
     "name": "stdout",
     "output_type": "stream",
     "text": [
      "[[0 1 1 1 1 0]\n",
      " [1 0 0 0 0 1]\n",
      " [1 0 0 1 0 0]\n",
      " [1 0 1 0 0 0]\n",
      " [1 0 0 0 0 0]\n",
      " [0 1 0 0 0 0]]\n"
     ]
    },
    {
     "data": {
      "image/png": "[encoded data removed]",
      "text/plain": [
       "<Figure size 432x288 with 1 Axes>"
      ]
     },
     "metadata": {},
     "output_type": "display_data"
    }
   ],
   "source": [
    "G = nx.Graph([(0,1),(0,2),(0,3),(0,4),(1,5),(2,3)])\n",
    "edges = len(G)\n",
    "A = nx.adjacency_matrix(G)\n",
    "A = np.array(A.todense())\n",
    "print(A)\n",
    "\n",
    "#mc = maxcut(edges, [[0,1], [1,2], [1,3], [2,3]])\n",
    "mc = maxcut(G)\n",
    "mc.draw()"
   ]
  },
  {
   "cell_type": "code",
   "execution_count": 6,
   "metadata": {},
   "outputs": [],
   "source": [
    "mc.build_circuit(depth = 2, beta = [0,0.3], gamma = [2,0])"
   ]
  },
  {
   "cell_type": "code",
   "execution_count": 621,
   "metadata": {},
   "outputs": [],
   "source": [
    "#mc.circuit.circ.draw(output='mpl')"
   ]
  },
  {
   "cell_type": "code",
   "execution_count": 623,
   "metadata": {},
   "outputs": [
    {
     "data": {
      "text/plain": [
       "{'0010': 1298,\n",
       " '1111': 455,\n",
       " '1101': 1310,\n",
       " '0001': 1580,\n",
       " '1100': 729,\n",
       " '1110': 1537,\n",
       " '0000': 456,\n",
       " '1010': 445,\n",
       " '0100': 29,\n",
       " '0110': 467,\n",
       " '1011': 33,\n",
       " '0011': 708,\n",
       " '0101': 436,\n",
       " '0111': 27,\n",
       " '1001': 460,\n",
       " '1000': 30}"
      ]
     },
     "execution_count": 623,
     "metadata": {},
     "output_type": "execute_result"
    }
   ],
   "source": [
    "mc.solve(sims=10000)"
   ]
  },
  {
   "cell_type": "code",
   "execution_count": 277,
   "metadata": {},
   "outputs": [
    {
     "name": "stdout",
     "output_type": "stream",
     "text": [
      "[0 1 1 2 2 3 3 4 2 3 3 4 2 3 3 4 2 1 3 2 4 3 5 4 4 3 5 4 4 3 5 4 4 5 3 4 4\n",
      " 5 3 4 4 5 3 4 2 3 1 2 4 3 3 2 4 3 3 2 4 3 3 2 2 1 1 0]\n"
     ]
    }
   ],
   "source": [
    "#Thingy for binary thingy\n",
    "s = list(\"{0:0eb}\")\n",
    "s[4] = str(edges)\n",
    "binlist=\"\".join(s)\n",
    "\n",
    "energy = np.zeros(2**edges, dtype=int)\n",
    "for k in range(0,2**edges):\n",
    "    y = np.array([int(x) for x in binlist.format(k)]) #btw we gotta change this part manually when we have larger graph\n",
    "    energy[k] = int(np.sum(np.outer(y,(1-y)) * A))\n",
    "\n",
    "print(energy)"
   ]
  },
  {
   "cell_type": "code",
   "execution_count": 282,
   "metadata": {},
   "outputs": [
    {
     "data": {
      "image/png": "[encoded data removed]",
      "text/plain": [
       "<Figure size 432x288 with 2 Axes>"
      ]
     },
     "metadata": {
      "needs_background": "light"
     },
     "output_type": "display_data"
    }
   ],
   "source": [
    "#Amount of samples from the grid\n",
    "ngamma, nbeta = (10,5)\n",
    "\n",
    "#Which part of the space are we gonna consider.\n",
    "gmin = 0\n",
    "gmax = 2*pi\n",
    "bmin = 0\n",
    "bmax = pi\n",
    "\n",
    "#Maybe only consider a section of the grid\n",
    "sect = 3\n",
    "\n",
    "#Creating the grid\n",
    "gamma = np.linspace(gmin, gmax/sect, ngamma)\n",
    "beta = np.linspace(bmin, bmax/sect, nbeta)\n",
    "\n",
    "#Initializing rando variables\n",
    "expectation = np.zeros((ngamma,nbeta))\n",
    "expectation2 = np.zeros((ngamma,nbeta))\n",
    "energy = np.zeros(2**edges, dtype=int)\n",
    "\n",
    "#Thingy for binary thingy\n",
    "s = list(\"{0:0eb}\")\n",
    "s[4] = str(edges)\n",
    "binlist=\"\".join(s)\n",
    "\n",
    "\n",
    "#Amount of simulations\n",
    "shots = 100\n",
    "\n",
    "#Calculating the energies that belong to each state. I think with a real quantum computer we could perhaps skip this.\n",
    "\n",
    "for k in range(0,2**edges):\n",
    "    y = np.array([int(x) for x in binlist.format(k)]) #btw we gotta change this part manually when we have larger graph\n",
    "    energy[k] = int(np.sum(np.outer(y,(1-y)) * A))\n",
    "\n",
    "#Find the expectation value for each point on the grid\n",
    "for i in range(0,ngamma):\n",
    "    for j in range(0,nbeta):\n",
    "        mc.build_circuit(depth = 2, beta = [0,beta[j]], gamma = [1,gamma[i]])\n",
    "        counts = mc.solve(sims=shots)\n",
    "        \n",
    "        #re-ordering\n",
    "        counts = sorted(counts.items(), key = lambda x:(x[0], x[1]), reverse=True)\n",
    "        counts2 = np.array(counts).astype(int)[::-1]\n",
    "        \n",
    "        #Sometimes a state gets no count. This is to preserve the dimension of the energy.\n",
    "        energy2 = np.zeros(len(counts2), dtype=int)\n",
    "        \n",
    "        #Prevent energy and counts2 array not same dimensions coz counts doesn't return no count states\n",
    "        for k in range(0,len(counts2)):\n",
    "            energy2[k] = energy[int(str(counts2[k,0]),2)]\n",
    "        \n",
    " \n",
    "        #Fancy expectation\n",
    "        expectation[i,j] = np.dot(np.array(energy2),counts2[:,1])/shots        \n",
    "        \n",
    "        \n",
    "#Fancy expectation heatmap\n",
    "plt.imshow(expectation);\n",
    "plt.colorbar()\n",
    "plt.show()"
   ]
  },
  {
   "cell_type": "code",
   "execution_count": 283,
   "metadata": {},
   "outputs": [
    {
     "data": {
      "image/png": "[encoded data removed]",
      "text/plain": [
       "<Figure size 432x288 with 2 Axes>"
      ]
     },
     "metadata": {
      "needs_background": "light"
     },
     "output_type": "display_data"
    },
    {
     "name": "stdout",
     "output_type": "stream",
     "text": [
      "[array([[-0.18 ,  0.05 , -0.14 ,  0.1  , -0.29 ],\n",
      "       [-0.095,  0.02 , -0.07 ,  0.015,  0.025],\n",
      "       [ 0.135, -0.12 ,  0.085,  0.015,  0.03 ],\n",
      "       [ 0.095, -0.02 ,  0.28 ,  0.   , -0.115],\n",
      "       [-0.135,  0.11 , -0.1  , -0.135, -0.035],\n",
      "       [-0.045, -0.005, -0.145, -0.08 ,  0.09 ],\n",
      "       [-0.035,  0.01 ,  0.12 ,  0.095,  0.125],\n",
      "       [-0.025,  0.025, -0.085,  0.01 , -0.115],\n",
      "       [ 0.145,  0.02 , -0.085, -0.01 , -0.02 ],\n",
      "       [ 0.18 ,  0.05 , -0.06 ,  0.14 ,  0.14 ]]), array([[ 0.59 ,  0.19 , -0.495, -0.64 , -0.5  ],\n",
      "       [ 0.82 ,  0.21 , -0.47 , -0.715, -0.89 ],\n",
      "       [ 0.82 ,  0.215, -0.5  , -0.545, -0.48 ],\n",
      "       [ 0.31 ,  0.16 , -0.335, -0.77 , -0.86 ],\n",
      "       [ 0.59 ,  0.4  , -0.48 , -0.94 , -0.71 ],\n",
      "       [ 0.8  ,  0.195, -0.58 , -0.705, -0.66 ],\n",
      "       [ 0.67 ,  0.3  , -0.555, -0.705, -0.37 ],\n",
      "       [ 0.89 ,  0.35 , -0.495, -0.7  , -0.6  ],\n",
      "       [ 0.77 ,  0.24 , -0.57 , -0.735, -0.62 ],\n",
      "       [ 0.64 ,  0.12 , -0.525, -0.635, -0.62 ]])]\n",
      "0.29000000000000004\n",
      "0.9400000000000001\n"
     ]
    }
   ],
   "source": [
    "grad = np.gradient(expectation)\n",
    "plt.imshow(grad[0]);\n",
    "plt.colorbar()\n",
    "plt.show()\n",
    "print(grad)\n",
    "print(np.amax(abs(grad[0])))\n",
    "print(np.amax(abs(grad[1])))"
   ]
  },
  {
   "cell_type": "code",
   "execution_count": 433,
   "metadata": {},
   "outputs": [
    {
     "name": "stdout",
     "output_type": "stream",
     "text": [
      "[[0. 1. 0.]\n",
      " [1. 0. 1.]\n",
      " [0. 1. 0.]]\n",
      "2.0\n",
      "2\n",
      "011\n",
      "[0 1 0]\n"
     ]
    }
   ],
   "source": [
    "G = nx.Graph([(0,1),(1,2)])\n",
    "A = nx.adjacency_matrix(G)\n",
    "A = np.array(A.todense())\n",
    "w = -np.identity(3)+np.ones([3,3])\n",
    "w[2,0] = 0\n",
    "w[0,2] = 0\n",
    "print(w)\n",
    "x = np.array([0,1,0])\n",
    "print(np.sum(np.outer(x,(1-x)) * w))\n",
    "print(np.sum(np.outer(x,(1-x)) * A))\n",
    "print('{0:03b}'.format(3))\n",
    "print(np.array([int(x) for x in '{0:03b}'.format(2)]))"
   ]
  },
  {
   "cell_type": "code",
   "execution_count": null,
   "metadata": {},
   "outputs": [],
   "source": []
  },
  {
   "cell_type": "code",
   "execution_count": null,
   "metadata": {},
   "outputs": [],
   "source": []
  },
  {
   "cell_type": "code",
   "execution_count": null,
   "metadata": {},
   "outputs": [],
   "source": []
  },
  {
   "cell_type": "code",
   "execution_count": null,
   "metadata": {},
   "outputs": [],
   "source": []
  }
 ],
 "metadata": {
  "kernelspec": {
   "display_name": "Python 3",
   "language": "python",
   "name": "python3"
  },
  "language_info": {
   "codemirror_mode": {
    "name": "ipython",
    "version": 3
   },
   "file_extension": ".py",
   "mimetype": "text/x-python",
   "name": "python",
   "nbconvert_exporter": "python",
   "pygments_lexer": "ipython3",
   "version": "3.7.6"
  }
 },
 "nbformat": 4,
 "nbformat_minor": 2
}

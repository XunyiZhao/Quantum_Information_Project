{
 "cells": [
  {
   "cell_type": "code",
   "execution_count": 84,
   "metadata": {},
   "outputs": [
    {
     "name": "stderr",
     "output_type": "stream",
     "text": [
      "Credentials are already in use. The existing account in the session will be replaced.\n"
     ]
    }
   ],
   "source": [
    "# useful additional packages \n",
    "import matplotlib.pyplot as plt\n",
    "import matplotlib.axes as axes\n",
    "%matplotlib inline\n",
    "import numpy as np\n",
    "import networkx as nx\n",
    "\n",
    "from qiskit import *\n",
    "from qiskit.tools.visualization import plot_histogram\n",
    "from qiskit.aqua import run_algorithm\n",
    "from qiskit.aqua.input import EnergyInput\n",
    "from qiskit.optimization.ising import max_cut, tsp, common\n",
    "from qiskit.aqua.algorithms import VQE, ExactEigensolver, QAOA\n",
    "from qiskit.aqua.components.optimizers import SPSA, ADAM\n",
    "from qiskit.aqua.components.variational_forms import RY\n",
    "from qiskit.aqua import QuantumInstance\n",
    "from qiskit.qasm import pi\n",
    "\n",
    "from docplex.mp.model import Model\n",
    "from qiskit.optimization.ising import docplex\n",
    "\n",
    "# setup aqua logging\n",
    "import logging\n",
    "from qiskit.aqua import set_qiskit_aqua_logging\n",
    "# set_qiskit_aqua_logging(logging.DEBUG)  # choose INFO, DEBUG to see the log\n",
    "from qiskit import IBMQ\n",
    "provider = IBMQ.load_account()"
   ]
  },
  {
   "cell_type": "markdown",
   "metadata": {},
   "source": [
    "### Max Cut"
   ]
  },
  {
   "cell_type": "code",
   "execution_count": 3,
   "metadata": {},
   "outputs": [
    {
     "data": {
      "text/plain": [
       "array([[0., 1., 0., 0., 0., 1.],\n",
       "       [1., 0., 1., 0., 0., 0.],\n",
       "       [0., 1., 0., 1., 0., 0.],\n",
       "       [0., 0., 1., 0., 1., 0.],\n",
       "       [0., 0., 0., 1., 0., 1.],\n",
       "       [1., 0., 0., 0., 1., 0.]])"
      ]
     },
     "execution_count": 3,
     "metadata": {},
     "output_type": "execute_result"
    }
   ],
   "source": [
    "w = np.zeros([6,6])\n",
    "for i in range(5):\n",
    "    w[i, i+1] = 1\n",
    "    w[i+1, i] = 1\n",
    "w[0,5] = 1\n",
    "w[5,0] = 1\n",
    "w #ajacency matrix"
   ]
  },
  {
   "cell_type": "code",
   "execution_count": 10,
   "metadata": {},
   "outputs": [
    {
     "data": {
      "text/plain": [
       "'IIIIZZ\\t(0.5+0j)\\nIIIZZI\\t(0.5+0j)\\nIIZZII\\t(0.5+0j)\\nIZZIII\\t(0.5+0j)\\nZIIIIZ\\t(0.5+0j)\\nZZIIII\\t(0.5+0j)\\n'"
      ]
     },
     "execution_count": 10,
     "metadata": {},
     "output_type": "execute_result"
    }
   ],
   "source": [
    "qubitOp, offset = max_cut.get_operator(w)# get the qubit operator given the graph\n",
    "qubitOp.print_details()"
   ]
  },
  {
   "cell_type": "markdown",
   "metadata": {},
   "source": [
    "#### QAOA"
   ]
  },
  {
   "cell_type": "code",
   "execution_count": 14,
   "metadata": {},
   "outputs": [],
   "source": [
    "adam = ADAM(maxiter=1000)#optimizer\n",
    "qaoa = QAOA(qubitOp, adam)#QAOA solver\n",
    "\n",
    "backend = Aer.get_backend('statevector_simulator')\n",
    "quantum_instance = QuantumInstance(backend, seed_simulator=seed, seed_transpiler=seed)\n",
    "result = qaoa.run(quantum_instance)\n",
    "print('solution:', common.sample_most_likely(result['eigvecs'][0]))"
   ]
  },
  {
   "cell_type": "markdown",
   "metadata": {},
   "source": [
    "#### From Scratch"
   ]
  },
  {
   "cell_type": "code",
   "execution_count": 68,
   "metadata": {},
   "outputs": [],
   "source": [
    "class circuits:\n",
    "    def __init__(self, qbits, cbits):\n",
    "        self.qbits = qbits\n",
    "        self.cbits = cbits\n",
    "        self.circ = QuantumCircuit(qbits, cbits)\n",
    "        for i in range(qbits):\n",
    "            self.circ.h(i)\n",
    "    \n",
    "    def beta_gate(self, beta, qbit):\n",
    "        self.circ.u3(2*beta, -pi/2, pi/2, qbit)\n",
    "        \n",
    "    def gamma_gate(self, gamma, qbit0, qbit1):\n",
    "        self.circ.x(qbit1)\n",
    "        self.circ.u1(-gamma/2, qbit1)\n",
    "        self.circ.x(qbit1)\n",
    "        self.circ.u1(-gamma/2, qbit1)\n",
    "        self.circ.cnot(qbit1, qbit0)\n",
    "        self.circ.x(qbit0)\n",
    "        self.circ.u1(gamma/2, qbit0)\n",
    "        self.circ.x(qbit0)\n",
    "        self.circ.u1(-gamma/2, qbit0)\n",
    "        self.circ.cnot(qbit1, qbit0)\n",
    "        \n",
    "    def measure(self):\n",
    "        for i in range(self.qbits):\n",
    "            self.circ.measure(i,i)"
   ]
  },
  {
   "cell_type": "code",
   "execution_count": 95,
   "metadata": {},
   "outputs": [],
   "source": [
    "class max_cut:\n",
    "    def __init__(self, n, elist):\n",
    "        self.n = n\n",
    "        self.G = nx.Graph()\n",
    "        self.G.add_nodes_from(np.arange(0,n,1))\n",
    "        self.elist = elist\n",
    "        # tuple is (i,j,weight) where (i,j) is the edge\n",
    "        self.G.add_edges_from(elist)\n",
    "\n",
    "    def draw(self):\n",
    "        colors = ['w' for node in self.G.nodes()]\n",
    "        pos = nx.spring_layout(self.G)\n",
    "        default_axes = plt.axes(frameon=True)\n",
    "        nx.draw_networkx(self.G, node_color=colors, node_size=600, alpha=.8, ax=default_axes, pos=pos)\n",
    "        plt.show()\n",
    "        \n",
    "    def build_circuit(self, depth, beta, gamma):\n",
    "        self.circuit = circuits(self.n, self.n)\n",
    "        for i in range(depth):\n",
    "            for node in range(self.n):\n",
    "                self.circuit.beta_gate(beta[i],node)\n",
    "            for (node0, node1) in self.G.edges:\n",
    "                self.circuit.gamma_gate(gamma[i], node0, node1)\n",
    "        self.circuit.measure()\n",
    "        \n",
    "    def solve(self, sims = 1024):\n",
    "        backend_sim = Aer.get_backend('qasm_simulator')\n",
    "        job_sim = execute(self.circuit.circ, backend_sim, shots=sims)\n",
    "\n",
    "        # Grab the results from the job.\n",
    "        result_sim = job_sim.result()\n",
    "        counts = result_sim.get_counts(self.circuit.circ)\n",
    "        print(counts)"
   ]
  },
  {
   "cell_type": "code",
   "execution_count": 88,
   "metadata": {},
   "outputs": [
    {
     "name": "stderr",
     "output_type": "stream",
     "text": [
      "C:\\Users\\Shawn\\AppData\\Local\\Continuum\\anaconda3\\lib\\site-packages\\networkx\\drawing\\nx_pylab.py:611: MatplotlibDeprecationWarning: isinstance(..., numbers.Number)\n",
      "  if cb.is_numlike(alpha):\n"
     ]
    },
    {
     "data": {
      "image/png": "[encoded data removed]",
      "text/plain": [
       "<Figure size 432x288 with 1 Axes>"
      ]
     },
     "metadata": {
      "needs_background": "light"
     },
     "output_type": "display_data"
    }
   ],
   "source": [
    "mc = max_cut(3, [[0,1], [1,2]])\n",
    "mc.draw()"
   ]
  },
  {
   "cell_type": "code",
   "execution_count": 92,
   "metadata": {},
   "outputs": [],
   "source": [
    "mc.build_circuit(depth = 1, beta = [0], gamma = [2])"
   ]
  },
  {
   "cell_type": "code",
   "execution_count": 93,
   "metadata": {},
   "outputs": [
    {
     "data": {
      "image/png": "[encoded data removed]",
      "text/plain": [
       "<Figure size 1502.59x264.88 with 1 Axes>"
      ]
     },
     "execution_count": 93,
     "metadata": {},
     "output_type": "execute_result"
    }
   ],
   "source": [
    "mc.circuit.circ.draw(output='mpl')"
   ]
  },
  {
   "cell_type": "code",
   "execution_count": 94,
   "metadata": {},
   "outputs": [
    {
     "name": "stdout",
     "output_type": "stream",
     "text": [
      "{'101': 149, '000': 114, '110': 126, '011': 140, '001': 129, '010': 113, '100': 126, '111': 127}\n"
     ]
    }
   ],
   "source": [
    "mc.solve()"
   ]
  },
  {
   "cell_type": "code",
   "execution_count": null,
   "metadata": {},
   "outputs": [],
   "source": []
  }
 ],
 "metadata": {
  "kernelspec": {
   "display_name": "Python 3",
   "language": "python",
   "name": "python3"
  },
  "language_info": {
   "codemirror_mode": {
    "name": "ipython",
    "version": 3
   },
   "file_extension": ".py",
   "mimetype": "text/x-python",
   "name": "python",
   "nbconvert_exporter": "python",
   "pygments_lexer": "ipython3",
   "version": "3.7.1"
  }
 },
 "nbformat": 4,
 "nbformat_minor": 2
}

{
 "cells": [
  {
   "cell_type": "code",
   "execution_count": 84,
   "metadata": {},
   "outputs": [
    {
     "name": "stderr",
     "output_type": "stream",
     "text": [
      "Credentials are already in use. The existing account in the session will be replaced.\n"
     ]
    }
   ],
   "source": [
    "# useful additional packages \n",
    "import matplotlib.pyplot as plt\n",
    "import matplotlib.axes as axes\n",
    "%matplotlib inline\n",
    "import numpy as np\n",
    "import networkx as nx\n",
    "\n",
    "from qiskit import *\n",
    "from qiskit.tools.visualization import plot_histogram\n",
    "from qiskit.aqua import run_algorithm\n",
    "from qiskit.aqua.input import EnergyInput\n",
    "from qiskit.optimization.ising import max_cut, tsp, common\n",
    "from qiskit.aqua.algorithms import VQE, ExactEigensolver, QAOA\n",
    "from qiskit.aqua.components.optimizers import SPSA, ADAM\n",
    "from qiskit.aqua.components.variational_forms import RY\n",
    "from qiskit.aqua import QuantumInstance\n",
    "from qiskit.qasm import pi\n",
    "\n",
    "from docplex.mp.model import Model\n",
    "from qiskit.optimization.ising import docplex\n",
    "\n",
    "# setup aqua logging\n",
    "import logging\n",
    "from qiskit.aqua import set_qiskit_aqua_logging\n",
    "# set_qiskit_aqua_logging(logging.DEBUG)  # choose INFO, DEBUG to see the log\n",
    "from qiskit import IBMQ\n",
    "provider = IBMQ.load_account()"
   ]
  },
  {
   "cell_type": "markdown",
   "metadata": {},
   "source": [
    "### Max Cut"
   ]
  },
  {
   "cell_type": "code",
   "execution_count": 3,
   "metadata": {},
   "outputs": [
    {
     "data": {
      "text/plain": [
       "array([[0., 1., 0., 0., 0., 1.],\n",
       "       [1., 0., 1., 0., 0., 0.],\n",
       "       [0., 1., 0., 1., 0., 0.],\n",
       "       [0., 0., 1., 0., 1., 0.],\n",
       "       [0., 0., 0., 1., 0., 1.],\n",
       "       [1., 0., 0., 0., 1., 0.]])"
      ]
     },
     "execution_count": 3,
     "metadata": {},
     "output_type": "execute_result"
    }
   ],
   "source": [
    "w = np.zeros([6,6])\n",
    "for i in range(5):\n",
    "    w[i, i+1] = 1\n",
    "    w[i+1, i] = 1\n",
    "w[0,5] = 1\n",
    "w[5,0] = 1\n",
    "w #ajacency matrix"
   ]
  },
  {
   "cell_type": "code",
   "execution_count": 10,
   "metadata": {},
   "outputs": [
    {
     "data": {
      "text/plain": [
       "'IIIIZZ\\t(0.5+0j)\\nIIIZZI\\t(0.5+0j)\\nIIZZII\\t(0.5+0j)\\nIZZIII\\t(0.5+0j)\\nZIIIIZ\\t(0.5+0j)\\nZZIIII\\t(0.5+0j)\\n'"
      ]
     },
     "execution_count": 10,
     "metadata": {},
     "output_type": "execute_result"
    }
   ],
   "source": [
    "qubitOp, offset = max_cut.get_operator(w)# get the qubit operator given the graph\n",
    "qubitOp.print_details()"
   ]
  },
  {
   "cell_type": "markdown",
   "metadata": {},
   "source": [
    "#### QAOA"
   ]
  },
  {
   "cell_type": "code",
   "execution_count": 14,
   "metadata": {},
   "outputs": [],
   "source": [
    "adam = ADAM(maxiter=1000)#optimizer\n",
    "qaoa = QAOA(qubitOp, adam)#QAOA solver\n",
    "\n",
    "backend = Aer.get_backend('statevector_simulator')\n",
    "quantum_instance = QuantumInstance(backend, seed_simulator=seed, seed_transpiler=seed)\n",
    "result = qaoa.run(quantum_instance)\n",
    "print('solution:', common.sample_most_likely(result['eigvecs'][0]))"
   ]
  },
  {
   "cell_type": "markdown",
   "metadata": {},
   "source": [
    "#### From Scratch"
   ]
  },
  {
   "cell_type": "code",
   "execution_count": 68,
   "metadata": {},
   "outputs": [],
   "source": [
    "class circuits:\n",
    "    def __init__(self, qbits, cbits):\n",
    "        self.qbits = qbits\n",
    "        self.cbits = cbits\n",
    "        self.circ = QuantumCircuit(qbits, cbits)\n",
    "        for i in range(qbits):\n",
    "            self.circ.h(i)\n",
    "    \n",
    "    def beta_gate(self, beta, qbit):\n",
    "        self.circ.u3(2*beta, -pi/2, pi/2, qbit)\n",
    "        \n",
    "    def gamma_gate(self, gamma, qbit0, qbit1):\n",
    "        self.circ.x(qbit1)\n",
    "        self.circ.u1(-gamma/2, qbit1)\n",
    "        self.circ.x(qbit1)\n",
    "        self.circ.u1(-gamma/2, qbit1)\n",
    "        self.circ.cnot(qbit1, qbit0)\n",
    "        self.circ.x(qbit0)\n",
    "        self.circ.u1(gamma/2, qbit0)\n",
    "        self.circ.x(qbit0)\n",
    "        self.circ.u1(-gamma/2, qbit0)\n",
    "        self.circ.cnot(qbit1, qbit0)\n",
    "        \n",
    "    def measure(self):\n",
    "        for i in range(self.qbits):\n",
    "            self.circ.measure(i,i)"
   ]
  },
  {
   "cell_type": "code",
<<<<<<< Updated upstream
   "execution_count": 95,
=======
   "execution_count": 226,
>>>>>>> Stashed changes
   "metadata": {},
   "outputs": [],
   "source": [
    "class max_cut:\n",
    "    def __init__(self, n, elist):\n",
    "        self.n = n\n",
    "        self.G = nx.Graph()\n",
    "        self.G.add_nodes_from(np.arange(0,n,1))\n",
    "        self.elist = elist\n",
    "        # tuple is (i,j,weight) where (i,j) is the edge\n",
    "        self.G.add_edges_from(elist)\n",
    "\n",
    "    def draw(self):\n",
    "        colors = ['w' for node in self.G.nodes()]\n",
    "        pos = nx.spring_layout(self.G)\n",
    "        default_axes = plt.axes(frameon=True)\n",
    "        nx.draw_networkx(self.G, node_color=colors, node_size=600, alpha=.8, ax=default_axes, pos=pos)\n",
    "        plt.show()\n",
    "        \n",
    "    def build_circuit(self, beta, gamma):\n",
    "        depth = len(beta)\n",
    "        self.circuit = circuits(self.n, self.n)\n",
    "        for i in range(depth):\n",
    "            for node in range(self.n):\n",
    "                self.circuit.beta_gate(beta[i],node)\n",
    "            for (node0, node1) in self.G.edges:\n",
    "                self.circuit.gamma_gate(gamma[i], node0, node1)\n",
    "        self.circuit.measure()\n",
    "        \n",
<<<<<<< Updated upstream
    "    def solve(self, sims = 1024):\n",
=======
    "    def solve(self, sims=1024, print_counts = False):\n",
>>>>>>> Stashed changes
    "        backend_sim = Aer.get_backend('qasm_simulator')\n",
    "        job_sim = execute(self.circuit.circ, backend_sim, shots=sims)\n",
    "\n",
    "        # Grab the results from the job.\n",
<<<<<<< Updated upstream
    "        result_sim = job_sim.result()\n",
    "        counts = result_sim.get_counts(self.circuit.circ)\n",
    "        print(counts)"
=======
    "        self.result_sim = job_sim.result()\n",
    "        self.counts = self.result_sim.get_counts(self.circuit.circ)\n",
    "        if print_counts:\n",
    "            print('The count of each state:', self.counts)\n",
    "        #return self.counts\n",
    "        \n",
    "    def get_value(self, state):\n",
    "        return max_cut.max_cut_value(np.array(list(state), dtype= np.int), nx.adjacency_matrix(self.G).toarray())\n",
    "    \n",
    "    def expect_value(self, beta = None, gamma = None, sims = 1024):\n",
    "        #given beta and gamma, build a new circuit and solve it\n",
    "        if beta is None:\n",
    "            pass\n",
    "        else:\n",
    "            self.build_circuit(beta, gamma)\n",
    "            self.solve(sims)\n",
    "        exp_v = 0\n",
    "        for (s, i) in self.counts.items():\n",
    "            exp_v += i*self.get_value(s)\n",
    "        return exp_v/sum(self.counts.values())\n",
    "    \n",
    "    def grad(self, beta, gamma, delta = 0.01, sims = 1024):\n",
    "        d_beta = np.zeros_like(beta)\n",
    "        d_gamma = np.zeros_like(gamma)\n",
    "        obj = self.expect_value(beta = beta, gamma = gamma, sims = sims)\n",
    "        \n",
    "        new_gamma = np.copy(gamma)\n",
    "        for j in range(2):\n",
    "            for i in range(len(beta)):\n",
    "                new_beta = np.copy(beta)\n",
    "                new_beta[i] += (-1)**j*delta\n",
    "                d_beta[i] += (-1)**j*self.expect_value(beta = new_beta, gamma = gamma, sims = sims)\n",
    "\n",
    "            for i in range(len(gamma)):\n",
    "                new_gamma = np.copy(gamma)\n",
    "                new_gamma[i] += (-1)**j*delta\n",
    "                d_gamma[i] += (-1)**j*self.expect_value(beta = beta, gamma = new_gamma, sims = sims)\n",
    "            \n",
    "        return d_beta/2/delta, d_gamma/2/delta\n",
    "\n",
    "    def train(self, opt_rounds = 100, delta = 0.01, depth = 1, sims = 1024, learning_rate = 0.01):\n",
    "        self.beta = np.full(depth,.5)\n",
    "        self.gamma = np.full(depth,.5)\n",
    "        self.training_value = []\n",
    "        for i in range(opt_rounds):\n",
    "            d_beta, d_gamma = self.grad(self.beta, self.gamma, delta = delta, sims = sims)\n",
    "            self.beta += d_beta*learning_rate\n",
    "            self.gamma += d_gamma*learning_rate\n",
    "            self.training_value.append(self.expect_value())\n",
    "        return self.training_value"
>>>>>>> Stashed changes
   ]
  },
  {
   "cell_type": "code",
<<<<<<< Updated upstream
   "execution_count": 88,
=======
   "execution_count": 227,
>>>>>>> Stashed changes
   "metadata": {},
   "outputs": [
    {
     "name": "stderr",
     "output_type": "stream",
     "text": [
      "C:\\Users\\Shawn\\AppData\\Local\\Continuum\\anaconda3\\lib\\site-packages\\networkx\\drawing\\nx_pylab.py:611: MatplotlibDeprecationWarning: isinstance(..., numbers.Number)\n",
      "  if cb.is_numlike(alpha):\n"
     ]
    },
    {
     "name": "stderr",
     "output_type": "stream",
     "text": [
      "C:\\Users\\Shawn\\AppData\\Local\\Continuum\\anaconda3\\lib\\site-packages\\networkx\\drawing\\nx_pylab.py:611: MatplotlibDeprecationWarning: isinstance(..., numbers.Number)\n",
      "  if cb.is_numlike(alpha):\n"
     ]
    },
    {
     "data": {
<<<<<<< Updated upstream
      "image/png": "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\n",
=======
      "image/png": "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\n",
>>>>>>> Stashed changes
      "text/plain": [
       "<Figure size 432x288 with 1 Axes>"
      ]
     },
     "metadata": {
      "needs_background": "light"
     },
     "output_type": "display_data"
    }
   ],
   "source": [
    "mc = max_cut(3, [[0,1], [1,2]])\n",
    "mc.draw()"
   ]
  },
  {
   "cell_type": "code",
<<<<<<< Updated upstream
   "execution_count": 92,
=======
   "execution_count": 229,
>>>>>>> Stashed changes
   "metadata": {},
   "outputs": [
    {
     "data": {
      "image/png": "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\n",
      "text/plain": [
       "<Figure size 432x288 with 1 Axes>"
      ]
     },
     "metadata": {
      "needs_background": "light"
     },
     "output_type": "display_data"
    }
   ],
   "source": [
<<<<<<< Updated upstream
    "mc.build_circuit(depth = 1, beta = [0], gamma = [2])"
=======
    "curve = mc.train(opt_rounds=20, depth = 4, learning_rate = 0.01)\n",
    "plt.plot(curve)\n",
    "plt.show()"
>>>>>>> Stashed changes
   ]
  },
  {
   "cell_type": "code",
<<<<<<< Updated upstream
   "execution_count": 93,
=======
   "execution_count": 181,
>>>>>>> Stashed changes
   "metadata": {},
   "outputs": [
    {
     "data": {
      "image/png": "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\n",
      "text/plain": [
<<<<<<< Updated upstream
       "<Figure size 1502.59x264.88 with 1 Axes>"
      ]
     },
     "execution_count": 93,
=======
       "{'01000': 7,\n",
       " '01001': 18,\n",
       " '01111': 11,\n",
       " '11010': 14,\n",
       " '10111': 5,\n",
       " '10101': 15,\n",
       " '10110': 7,\n",
       " '00001': 11,\n",
       " '00010': 12,\n",
       " '10011': 45,\n",
       " '11111': 5,\n",
       " '01100': 41,\n",
       " '11000': 40,\n",
       " '00000': 5,\n",
       " '01010': 9,\n",
       " '11001': 118,\n",
       " '01101': 29,\n",
       " '00011': 68,\n",
       " '11100': 75,\n",
       " '00101': 28,\n",
       " '11110': 13,\n",
       " '10000': 12,\n",
       " '00100': 11,\n",
       " '10001': 113,\n",
       " '00111': 44,\n",
       " '11011': 8,\n",
       " '01011': 2,\n",
       " '00110': 107,\n",
       " '10010': 29,\n",
       " '01110': 108,\n",
       " '11101': 14}"
      ]
     },
     "execution_count": 181,
>>>>>>> Stashed changes
     "metadata": {},
     "output_type": "execute_result"
    }
   ],
   "source": [
<<<<<<< Updated upstream
    "mc.circuit.circ.draw(output='mpl')"
=======
    "mc.counts"
   ]
  },
  {
   "cell_type": "markdown",
   "metadata": {},
   "source": [
    "### "
   ]
  },
  {
   "cell_type": "code",
   "execution_count": 103,
   "metadata": {},
   "outputs": [
    {
     "name": "stdout",
     "output_type": "stream",
     "text": [
      "[0 2 2 4 2 2 4 4 3 3 3 3 5 3 5 3 3 5 3 5 3 3 3 3 4 4 2 2 4 2 2 0]\n"
     ]
    }
   ],
   "source": [
    "#Thingy for binary thingy\n",
    "s = list(\"{0:0eb}\")\n",
    "s[4] = str(edges)\n",
    "binlist=\"\".join(s)\n",
    "\n",
    "energy = np.zeros(2**edges, dtype=int)\n",
    "for k in range(0,2**edges):\n",
    "    y = np.array([int(x) for x in binlist.format(k)]) #btw we gotta change this part manually when we have larger graph\n",
    "    energy[k] = int(np.sum(np.outer(y,(1-y)) * A))\n",
    "\n",
    "print(energy)"
   ]
  },
  {
   "cell_type": "code",
   "execution_count": 104,
   "metadata": {},
   "outputs": [
    {
     "name": "stdout",
     "output_type": "stream",
     "text": [
      "the counts of each states: {'11010': 323, '10101': 313, '01100': 302, '00000': 291, '00011': 318, '11100': 300, '10000': 309, '00111': 316, '11011': 293, '11001': 307, '10010': 321, '01110': 335, '01000': 302, '01001': 280, '01111': 341, '10111': 292, '10110': 368, '00001': 299, '00010': 309, '10011': 289, '10100': 314, '11111': 344, '11000': 317, '01010': 319, '01101': 317, '00101': 330, '11110': 292, '00100': 332, '10001': 312, '01011': 334, '00110': 278, '11101': 303}\n"
     ]
    },
    {
     "ename": "AttributeError",
     "evalue": "'NoneType' object has no attribute 'items'",
     "output_type": "error",
     "traceback": [
      "\u001b[1;31m---------------------------------------------------------------------------\u001b[0m",
      "\u001b[1;31mAttributeError\u001b[0m                            Traceback (most recent call last)",
      "\u001b[1;32m<ipython-input-104-e3e128e5b099>\u001b[0m in \u001b[0;36m<module>\u001b[1;34m\u001b[0m\n\u001b[0;32m     47\u001b[0m \u001b[1;33m\u001b[0m\u001b[0m\n\u001b[0;32m     48\u001b[0m         \u001b[1;31m#re-ordering\u001b[0m\u001b[1;33m\u001b[0m\u001b[1;33m\u001b[0m\u001b[1;33m\u001b[0m\u001b[0m\n\u001b[1;32m---> 49\u001b[1;33m         \u001b[0mcounts\u001b[0m \u001b[1;33m=\u001b[0m \u001b[0msorted\u001b[0m\u001b[1;33m(\u001b[0m\u001b[0mcounts\u001b[0m\u001b[1;33m.\u001b[0m\u001b[0mitems\u001b[0m\u001b[1;33m(\u001b[0m\u001b[1;33m)\u001b[0m\u001b[1;33m,\u001b[0m \u001b[0mkey\u001b[0m \u001b[1;33m=\u001b[0m \u001b[1;32mlambda\u001b[0m \u001b[0mx\u001b[0m\u001b[1;33m:\u001b[0m\u001b[1;33m(\u001b[0m\u001b[0mx\u001b[0m\u001b[1;33m[\u001b[0m\u001b[1;36m0\u001b[0m\u001b[1;33m]\u001b[0m\u001b[1;33m,\u001b[0m \u001b[0mx\u001b[0m\u001b[1;33m[\u001b[0m\u001b[1;36m1\u001b[0m\u001b[1;33m]\u001b[0m\u001b[1;33m)\u001b[0m\u001b[1;33m,\u001b[0m \u001b[0mreverse\u001b[0m\u001b[1;33m=\u001b[0m\u001b[1;32mTrue\u001b[0m\u001b[1;33m)\u001b[0m\u001b[1;33m\u001b[0m\u001b[1;33m\u001b[0m\u001b[0m\n\u001b[0m\u001b[0;32m     50\u001b[0m         \u001b[0mcounts2\u001b[0m \u001b[1;33m=\u001b[0m \u001b[0mnp\u001b[0m\u001b[1;33m.\u001b[0m\u001b[0marray\u001b[0m\u001b[1;33m(\u001b[0m\u001b[0mcounts\u001b[0m\u001b[1;33m)\u001b[0m\u001b[1;33m.\u001b[0m\u001b[0mastype\u001b[0m\u001b[1;33m(\u001b[0m\u001b[0mint\u001b[0m\u001b[1;33m)\u001b[0m\u001b[1;33m[\u001b[0m\u001b[1;33m:\u001b[0m\u001b[1;33m:\u001b[0m\u001b[1;33m-\u001b[0m\u001b[1;36m1\u001b[0m\u001b[1;33m]\u001b[0m\u001b[1;33m\u001b[0m\u001b[1;33m\u001b[0m\u001b[0m\n\u001b[0;32m     51\u001b[0m \u001b[1;33m\u001b[0m\u001b[0m\n",
      "\u001b[1;31mAttributeError\u001b[0m: 'NoneType' object has no attribute 'items'"
     ]
    }
   ],
   "source": [
    "#Amount of samples from the grid\n",
    "ngamma, nbeta = (20,5)\n",
    "\n",
    "#Which part of the space are we gonna consider.\n",
    "gmin = [1,0]\n",
    "gmax = [1,1]\n",
    "bmin = [0,0]\n",
    "bmax = [0,1]\n",
    "\n",
    "\n",
    "#Initializing rando variables\n",
    "p = 2 #Depth\n",
    "expectation = np.zeros((ngamma,nbeta))\n",
    "expectation2 = np.zeros((ngamma,nbeta))\n",
    "energy = np.zeros(2**edges, dtype=int)\n",
    "gamma = np.zeros((depth,ngamma))\n",
    "beta = np.zeros((depth,nbeta))\n",
    "\n",
    "\n",
    "#Creating the grid\n",
    "for i in range(0,p):\n",
    "    gamma[i,:] = np.linspace(gmin[i]*2*pi, gmax[i]*2*pi, ngamma)\n",
    "    beta[i,:] = np.linspace(bmin[i], bmax[i], nbeta)\n",
    "\n",
    "\n",
    "\n",
    "#Thingy for binary thingy\n",
    "s = list(\"{0:0eb}\")\n",
    "s[4] = str(edges)\n",
    "binlist=\"\".join(s)\n",
    "\n",
    "\n",
    "#Amount of simulations\n",
    "shots = 10000\n",
    "\n",
    "#Calculating the energies that belong to each state. I think with a real quantum computer we could perhaps skip this.\n",
    "\n",
    "for k in range(0,2**edges):\n",
    "    y = np.array([int(x) for x in binlist.format(k)]) #btw we gotta change this part manually when we have larger graph\n",
    "    energy[k] = int(np.sum(np.outer(y,(1-y)) * A))\n",
    "\n",
    "#Find the expectation value for each point on the grid\n",
    "for i in range(0,ngamma):\n",
    "    for j in range(0,nbeta):\n",
    "        mc.build_circuit(depth = p, beta = beta[:,j], gamma = gamma[:,i])\n",
    "        counts = mc.solve(sims=shots)\n",
    "\n",
    "        #re-ordering\n",
    "        counts = sorted(counts.items(), key = lambda x:(x[0], x[1]), reverse=True)\n",
    "        counts2 = np.array(counts).astype(int)[::-1]\n",
    "\n",
    "        #Sometimes a state gets no count. This is to preserve the dimension of the energy.\n",
    "        energy2 = np.zeros(len(counts2), dtype=int)\n",
    "\n",
    "        #Prevent energy and counts2 array not same dimensions coz counts doesn't return no count states\n",
    "        for k in range(0,len(counts2)):\n",
    "            energy2[k] = energy[int(str(counts2[k,0]),2)]\n",
    "\n",
    "\n",
    "        #Fancy expectation\n",
    "        expectation[i,j] = np.dot(np.array(energy2),counts2[:,1])/shots        \n",
    "\n",
    "\n",
    "#Fancy expectation heatmap\n",
    "plt.imshow(expectation);\n",
    "plt.colorbar()\n",
    "plt.show()\n",
    "\n",
    "#Gradient\n",
    "grad = np.gradient(expectation)\n",
    "print(grad)"
   ]
  },
  {
   "cell_type": "code",
   "execution_count": null,
   "metadata": {},
   "outputs": [],
   "source": [
    "grad = np.gradient(expectation)\n",
    "plt.imshow(grad[0]);\n",
    "plt.colorbar()\n",
    "plt.show()\n",
    "print(grad)\n",
    "print(np.amax(abs(grad[0])))\n",
    "print(np.amax(abs(grad[1])))\n",
    "print(np.zeros((3,2)*2))"
>>>>>>> Stashed changes
   ]
  },
  {
   "cell_type": "code",
<<<<<<< Updated upstream
   "execution_count": 94,
   "metadata": {},
   "outputs": [
    {
     "name": "stdout",
     "output_type": "stream",
     "text": [
      "{'101': 149, '000': 114, '110': 126, '011': 140, '001': 129, '010': 113, '100': 126, '111': 127}\n"
=======
   "execution_count": 105,
   "metadata": {},
   "outputs": [
    {
     "ename": "NameError",
     "evalue": "name 'sect' is not defined",
     "output_type": "error",
     "traceback": [
      "\u001b[1;31m---------------------------------------------------------------------------\u001b[0m",
      "\u001b[1;31mNameError\u001b[0m                                 Traceback (most recent call last)",
      "\u001b[1;32m<ipython-input-105-acb4f151f480>\u001b[0m in \u001b[0;36m<module>\u001b[1;34m\u001b[0m\n\u001b[0;32m      8\u001b[0m     \u001b[0mgamma\u001b[0m\u001b[1;33m[\u001b[0m\u001b[0mi\u001b[0m\u001b[1;33m,\u001b[0m\u001b[1;33m:\u001b[0m\u001b[1;33m]\u001b[0m \u001b[1;33m=\u001b[0m \u001b[0mnp\u001b[0m\u001b[1;33m.\u001b[0m\u001b[0mlinspace\u001b[0m\u001b[1;33m(\u001b[0m\u001b[0mgmin\u001b[0m\u001b[1;33m[\u001b[0m\u001b[0mi\u001b[0m\u001b[1;33m]\u001b[0m\u001b[1;33m,\u001b[0m \u001b[0mgmax\u001b[0m\u001b[1;33m[\u001b[0m\u001b[0mi\u001b[0m\u001b[1;33m]\u001b[0m\u001b[1;33m,\u001b[0m \u001b[0mngamma\u001b[0m\u001b[1;33m)\u001b[0m\u001b[1;33m\u001b[0m\u001b[1;33m\u001b[0m\u001b[0m\n\u001b[0;32m      9\u001b[0m \u001b[1;32mfor\u001b[0m \u001b[0mj\u001b[0m \u001b[1;32min\u001b[0m \u001b[0mrange\u001b[0m\u001b[1;33m(\u001b[0m\u001b[1;36m0\u001b[0m\u001b[1;33m,\u001b[0m\u001b[0mnbeta\u001b[0m\u001b[1;33m)\u001b[0m\u001b[1;33m:\u001b[0m\u001b[1;33m\u001b[0m\u001b[1;33m\u001b[0m\u001b[0m\n\u001b[1;32m---> 10\u001b[1;33m     \u001b[0mbeta\u001b[0m \u001b[1;33m=\u001b[0m \u001b[0mnp\u001b[0m\u001b[1;33m.\u001b[0m\u001b[0mlinspace\u001b[0m\u001b[1;33m(\u001b[0m\u001b[0mbmin\u001b[0m\u001b[1;33m,\u001b[0m \u001b[0mbmax\u001b[0m\u001b[1;33m/\u001b[0m\u001b[0msect\u001b[0m\u001b[1;33m,\u001b[0m \u001b[0mnbeta\u001b[0m\u001b[1;33m)\u001b[0m\u001b[1;33m\u001b[0m\u001b[1;33m\u001b[0m\u001b[0m\n\u001b[0m\u001b[0;32m     11\u001b[0m \u001b[0mprint\u001b[0m\u001b[1;33m(\u001b[0m\u001b[0mgamma\u001b[0m\u001b[1;33m)\u001b[0m\u001b[1;33m\u001b[0m\u001b[1;33m\u001b[0m\u001b[0m\n",
      "\u001b[1;31mNameError\u001b[0m: name 'sect' is not defined"
>>>>>>> Stashed changes
     ]
    }
   ],
   "source": [
<<<<<<< Updated upstream
    "mc.solve()"
=======
    "depth = 2\n",
    "\n",
    "gamma = np.zeros((depth,ngamma))\n",
    "gmin = [0,2]\n",
    "gmax = [3,3]\n",
    "\n",
    "for i in range(0,depth):\n",
    "    gamma[i,:] = np.linspace(gmin[i], gmax[i], ngamma)\n",
    "for j in range(0,nbeta):\n",
    "    beta = np.linspace(bmin, bmax/sect, nbeta)\n",
    "print(gamma)"
>>>>>>> Stashed changes
   ]
  },
  {
   "cell_type": "code",
<<<<<<< Updated upstream
   "execution_count": null,
=======
   "execution_count": 188,
   "metadata": {},
   "outputs": [
    {
     "data": {
      "image/png": "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\n",
      "text/plain": [
       "<Figure size 432x288 with 1 Axes>"
      ]
     },
     "metadata": {
      "needs_background": "light"
     },
     "output_type": "display_data"
    }
   ],
   "source": [
    "#Initializing rando variables\n",
    "p = 4 #Depth\n",
    "expectation = np.zeros(2)\n",
    "energy = np.zeros(2**edges, dtype=int)\n",
    "Delta = 0.01\n",
    "\n",
    "\n",
    "#Thingy for binary thingy\n",
    "s = list(\"{0:0eb}\")\n",
    "s[4] = str(edges)\n",
    "binlist=\"\".join(s)\n",
    "\n",
    "\n",
    "#Amount of simulations\n",
    "shots = 3000\n",
    "\n",
    "#Calculating the energies that belong to each state. I think with a real quantum computer we could perhaps skip this.\n",
    "for k in range(0,2**edges):\n",
    "    y = np.array([int(x) for x in binlist.format(k)]) #btw we gotta change this part manually when we have larger graph\n",
    "    energy[k] = int(np.sum(np.outer(y,(1-y)) * A))\n",
    "\n",
    "    \n",
    "    \n",
    "#intialize beta (x) and gamma(y)\n",
    "x = np.full(p,.5)\n",
    "y = np.full(p,.5)\n",
    "dx = np.zeros(p)\n",
    "dy = np.zeros(p)\n",
    "\n",
    "#Gonna use this in the loop\n",
    "xnew = x\n",
    "ynew = y\n",
    "\n",
    "#Optimizer parameters. Correction is the step size we are gonna use for changing x and y\n",
    "OptiRounds = 20\n",
    "Expected = np.zeros(OptiRounds)\n",
    "correction = 0.01\n",
    "\n",
    "\n",
    "#This part looks super messy. Perhaps we could write a function that outputs the expectation value for given x and y\n",
    "\n",
    "#This loop is for the optimization. That's why this stuff takes ages to run.\n",
    "for m in range(0,OptiRounds):\n",
    "    \n",
    "    for l in range(0,p):\n",
    "\n",
    "        #Find the expectation value for each point on the grid for varying beta\n",
    "        for j in range(0,2):\n",
    "            xnew = x\n",
    "            #print(xnew)\n",
    "            xnew[l] = x[l]+(-1)**j*Delta\n",
    "            #print(xnew)\n",
    "            mc.build_circuit(beta = xnew, gamma = y)\n",
    "            mc.solve(sims=shots)\n",
    "            counts = mc.counts\n",
    "            xnew = 0\n",
    "            #re-ordering\n",
    "            counts = sorted(counts.items(), key = lambda x:(x[0], x[1]), reverse=True)\n",
    "            counts2 = np.array(counts).astype(int)[::-1]\n",
    "\n",
    "            #Sometimes a state gets no count. This is to preserve the dimension of the energy.\n",
    "            energy2 = np.zeros(len(counts2), dtype=int)\n",
    "\n",
    "            #Prevent energy and counts2 array not same dimensions coz counts doesn't return no count states\n",
    "            for k in range(0,len(counts2)):\n",
    "                energy2[k] = energy[int(str(counts2[k,0]),2)]\n",
    "\n",
    "            #Fancy expectation\n",
    "            expectation[j] = np.dot(np.array(energy2),counts2[:,1])/shots  \n",
    "\n",
    "        #Calculate derivative at beta central difference\n",
    "        dx = (expectation[0]-expectation[1])/(2*Delta)\n",
    "\n",
    "\n",
    "\n",
    "        #Find the expectation value for each point on the grid for varying gamma\n",
    "        for j in range(0,2):\n",
    "            ynew = y\n",
    "            ynew[l] = y[l]+(-1)**j*Delta\n",
    "            mc.build_circuit(beta = x, gamma = ynew)\n",
    "            mc.solve(sims=shots)\n",
    "            counts = mc.counts\n",
    "            ynew = 0\n",
    "            #re-ordering\n",
    "            counts = sorted(counts.items(), key = lambda x:(x[0], x[1]), reverse=True)\n",
    "            counts2 = np.array(counts).astype(int)[::-1]\n",
    "\n",
    "            #Sometimes a state gets no count. This is to preserve the dimension of the energy.\n",
    "            energy2 = np.zeros(len(counts2), dtype=int)\n",
    "\n",
    "            #Prevent energy and counts2 array not same dimensions coz counts doesn't return no count states\n",
    "            for k in range(0,len(counts2)):\n",
    "                energy2[k] = energy[int(str(counts2[k,0]),2)]\n",
    "\n",
    "            #Fancy expectation\n",
    "            expectation[j] = np.dot(np.array(energy2),counts2[:,1])/shots  \n",
    "\n",
    "        #Calculate derivative at beta central difference\n",
    "        dy = (expectation[0]-expectation[1])/(2*Delta)\n",
    "        \n",
    "        \n",
    "        #Apply correction. Notice the + sign coz we have gradient ascent.\n",
    "        x[l] = x[l]+correction*dx\n",
    "        y[l] = y[l]+correction*dy\n",
    "\n",
    "\n",
    "\n",
    "\n",
    "\n",
    "\n",
    "    #Here we output the expectation value for the corrected x and y. Just nice to see how the expectation value increases\n",
    "    mc.build_circuit(beta = x, gamma = y)\n",
    "    mc.solve(sims=shots)\n",
    "    counts = mc.counts\n",
    "    #re-ordering\n",
    "    counts = sorted(counts.items(), key = lambda x:(x[0], x[1]), reverse=True)\n",
    "    counts2 = np.array(counts).astype(int)[::-1]\n",
    "\n",
    "    #Sometimes a state gets no count. This is to preserve the dimension of the energy.\n",
    "    energy2 = np.zeros(len(counts2), dtype=int)\n",
    "\n",
    "    #Prevent energy and counts2 array not same dimensions coz counts doesn't return no count states\n",
    "    for k in range(0,len(counts2)):\n",
    "        energy2[k] = energy[int(str(counts2[k,0]),2)]\n",
    "\n",
    "    #Fancy expectation\n",
    "    Expected[m] = np.dot(np.array(energy2),counts2[:,1])/shots  \n",
    "    #print(Expected)\n",
    "        \n",
    "        \n",
    "        \n",
    "        \n",
    "        \n",
    "        \n",
    "        \n",
    "        \n",
    "        \n",
    "        \n",
    "        \n",
    "        \n",
    "#Fancy expectation heatmap\n",
    "plt.plot(Expected)\n",
    "plt.show()\n",
    "\n",
    "# #Random thingies\n",
    "# print(expectation)\n",
    "# print(dx)\n",
    "# print(x)\n",
    "# print(y)"
   ]
  },
  {
   "cell_type": "code",
   "execution_count": 210,
   "metadata": {},
   "outputs": [
    {
     "data": {
      "text/plain": [
       "4.120666666666667"
      ]
     },
     "execution_count": 210,
     "metadata": {},
     "output_type": "execute_result"
    }
   ],
   "source": [
    "Expected[-1]"
   ]
  },
  {
   "cell_type": "code",
   "execution_count": 219,
>>>>>>> Stashed changes
   "metadata": {},
   "outputs": [
    {
     "data": {
      "text/plain": [
       "array([4.14133333, 4.139     ])"
      ]
     },
     "execution_count": 219,
     "metadata": {},
     "output_type": "execute_result"
    }
   ],
   "source": [
    "expectation"
   ]
  }
 ],
 "metadata": {
  "kernelspec": {
   "display_name": "Python 3",
   "language": "python",
   "name": "python3"
  },
  "language_info": {
   "codemirror_mode": {
    "name": "ipython",
    "version": 3
   },
   "file_extension": ".py",
   "mimetype": "text/x-python",
   "name": "python",
   "nbconvert_exporter": "python",
   "pygments_lexer": "ipython3",
   "version": "3.7.1"
  }
 },
 "nbformat": 4,
 "nbformat_minor": 2
}

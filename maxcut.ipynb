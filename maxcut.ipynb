{
 "cells": [
  {
   "cell_type": "code",
   "execution_count": 1,
   "metadata": {},
   "outputs": [],
   "source": [
    "# useful additional packages \n",
    "import matplotlib.pyplot as plt\n",
    "import matplotlib.axes as axes\n",
    "%matplotlib inline\n",
    "import numpy as np\n",
    "import networkx as nx\n",
    "\n",
    "\n",
    "from qiskit import *\n",
    "from qiskit.tools.visualization import plot_histogram\n",
    "from qiskit.aqua import run_algorithm\n",
    "from qiskit.aqua.input import EnergyInput\n",
    "from qiskit.optimization.ising import max_cut, tsp, common\n",
    "from qiskit.aqua.algorithms import VQE, ExactEigensolver, QAOA\n",
    "from qiskit.aqua.components.optimizers import SPSA, ADAM\n",
    "from qiskit.aqua.components.variational_forms import RY\n",
    "from qiskit.aqua import QuantumInstance\n",
    "from qiskit.qasm import pi\n",
    "\n",
    "from qiskit.optimization.ising import max_cut\n",
    "\n",
    "from docplex.mp.model import Model\n",
    "from qiskit.optimization.ising import docplex\n",
    "\n",
    "# setup aqua logging\n",
    "import logging\n",
    "from qiskit.aqua import set_qiskit_aqua_logging\n",
    "# set_qiskit_aqua_logging(logging.DEBUG)  # choose INFO, DEBUG to see the log\n",
    "from qiskit import IBMQ\n",
    "provider = IBMQ.load_account()"
   ]
  },
  {
   "cell_type": "markdown",
   "metadata": {},
   "source": [
    "### Max Cut"
   ]
  },
  {
   "cell_type": "code",
   "execution_count": 320,
   "metadata": {},
   "outputs": [
    {
     "data": {
      "text/plain": [
       "array([[0., 1., 0., 0., 0., 1.],\n",
       "       [1., 0., 1., 0., 0., 0.],\n",
       "       [0., 1., 0., 1., 0., 0.],\n",
       "       [0., 0., 1., 0., 1., 0.],\n",
       "       [0., 0., 0., 1., 0., 1.],\n",
       "       [1., 0., 0., 0., 1., 0.]])"
      ]
     },
     "execution_count": 320,
     "metadata": {},
     "output_type": "execute_result"
    }
   ],
   "source": [
    "w = np.zeros([6,6])\n",
    "for i in range(5):\n",
    "    w[i, i+1] = 1\n",
    "    w[i+1, i] = 1\n",
    "w[0,5] = 1\n",
    "w[5,0] = 1\n",
    "w #ajacency matrix"
   ]
  },
  {
   "cell_type": "code",
   "execution_count": 321,
   "metadata": {},
   "outputs": [
    {
     "data": {
      "text/plain": [
       "'IIIIZZ\\t(0.5+0j)\\nIIIZZI\\t(0.5+0j)\\nIIZZII\\t(0.5+0j)\\nIZZIII\\t(0.5+0j)\\nZIIIIZ\\t(0.5+0j)\\nZZIIII\\t(0.5+0j)\\n'"
      ]
     },
     "execution_count": 321,
     "metadata": {},
     "output_type": "execute_result"
    }
   ],
   "source": [
    "qubitOp, offset = max_cut.get_operator(w)# get the qubit operator given the graph\n",
    "qubitOp.print_details()"
   ]
  },
  {
   "cell_type": "markdown",
   "metadata": {},
   "source": [
    "#### QAOA"
   ]
  },
  {
   "cell_type": "code",
   "execution_count": 14,
   "metadata": {},
   "outputs": [],
   "source": [
    "adam = ADAM(maxiter=1000)#optimizer\n",
    "qaoa = QAOA(qubitOp, adam)#QAOA solver\n",
    "\n",
    "backend = Aer.get_backend('statevector_simulator')\n",
    "quantum_instance = QuantumInstance(backend, seed_simulator=seed, seed_transpiler=seed)\n",
    "result = qaoa.run(quantum_instance)\n",
    "print('solution:', common.sample_most_likely(result['eigvecs'][0]))"
   ]
  },
  {
   "cell_type": "markdown",
   "metadata": {},
   "source": [
    "#### From Scratch"
   ]
  },
  {
   "cell_type": "code",
   "execution_count": 29,
   "metadata": {},
   "outputs": [],
   "source": [
    "class circuits:\n",
    "    def __init__(self, qbits, cbits):\n",
    "        self.qbits = qbits\n",
    "        self.cbits = cbits\n",
    "        self.circ = QuantumCircuit(qbits, cbits)\n",
    "        for i in range(qbits):\n",
    "            self.circ.h(i)\n",
    "    \n",
    "    def beta_gate(self, beta, qbit):\n",
    "        self.circ.u3(2*beta, -pi/2, pi/2, qbit)\n",
    "        \n",
    "    def gamma_gate(self, gamma, qbit0, qbit1):\n",
    "        self.circ.x(qbit1)\n",
    "        self.circ.u1(-gamma/2, qbit1)\n",
    "        self.circ.x(qbit1)\n",
    "        self.circ.u1(-gamma/2, qbit1)\n",
    "        self.circ.cnot(qbit1, qbit0)\n",
    "        self.circ.x(qbit0)\n",
    "        self.circ.u1(gamma/2, qbit0)\n",
    "        self.circ.x(qbit0)\n",
    "        self.circ.u1(-gamma/2, qbit0)\n",
    "        self.circ.cnot(qbit1, qbit0)\n",
    "        \n",
    "    def measure(self):\n",
    "        for i in range(self.qbits):\n",
    "            self.circ.measure(i,i)"
   ]
  },
  {
   "cell_type": "code",
   "execution_count": 33,
   "metadata": {},
   "outputs": [],
   "source": [
    "class maxcut:\n",
    "    def __init__(self, G):\n",
    "        self.G = G\n",
    "        self.n = len(G)\n",
    "#         self.G = nx.Graph()\n",
    "#         self.G.add_nodes_from(np.arange(0,n,1))\n",
    "#         self.elist = elist\n",
    "#         # tuple is (i,j,weight) where (i,j) is the edge\n",
    "#         self.G.add_edges_from(elist)\n",
    "\n",
    "    def draw(self):\n",
    "        colors = ['w' for node in self.G.nodes()]\n",
    "        pos = nx.spring_layout(self.G)\n",
    "        default_axes = plt.axes(frameon=True)\n",
    "        nx.draw_networkx(self.G, node_color=colors, node_size=600, alpha=.8, ax=default_axes, pos=pos)\n",
    "        plt.show()\n",
    "        \n",
    "    def build_circuit(self, depth, beta, gamma):\n",
    "        self.circuit = circuits(self.n, self.n)\n",
    "        for i in range(depth):\n",
    "            for node in range(self.n):\n",
    "                self.circuit.beta_gate(beta[i],node)\n",
    "            for (node0, node1) in self.G.edges:\n",
    "                self.circuit.gamma_gate(gamma[i], node0, node1)\n",
    "        self.circuit.measure()\n",
    "        \n",
    "    def solve(self, sims):\n",
    "        backend_sim = Aer.get_backend('qasm_simulator')\n",
    "        job_sim = execute(self.circuit.circ, backend_sim, shots=sims)\n",
    "\n",
    "        # Grab the results from the job.\n",
    "        result_sim = job_sim.result()\n",
    "        counts = result_sim.get_counts(self.circuit.circ)\n",
    "        return counts"
   ]
  },
  {
   "cell_type": "code",
   "execution_count": 585,
   "metadata": {},
   "outputs": [
    {
     "name": "stdout",
     "output_type": "stream",
     "text": [
      "[[0 1 1 1 0]\n",
      " [1 0 0 1 1]\n",
      " [1 0 0 0 1]\n",
      " [1 1 0 0 0]\n",
      " [0 1 1 0 0]]\n"
     ]
    },
    {
     "data": {
      "image/png": "[encoded data removed]",
      "text/plain": [
       "<Figure size 432x288 with 1 Axes>"
      ]
     },
     "metadata": {},
     "output_type": "display_data"
    }
   ],
   "source": [
    "G = nx.Graph([(0,1),(0,2),(0,3),(1,3),(1,4),(2,4)])\n",
    "edges = len(G)\n",
    "A = nx.adjacency_matrix(G)\n",
    "A = np.array(A.todense())\n",
    "print(A)\n",
    "\n",
    "#mc = maxcut(edges, [[0,1], [1,2], [1,3], [2,3]])\n",
    "mc = maxcut(G)\n",
    "mc.draw()"
   ]
  },
  {
   "cell_type": "code",
   "execution_count": 6,
   "metadata": {},
   "outputs": [],
   "source": [
    "mc.build_circuit(depth = 2, beta = [0,0.3], gamma = [2,0])"
   ]
  },
  {
   "cell_type": "code",
   "execution_count": 621,
   "metadata": {},
   "outputs": [],
   "source": [
    "#mc.circuit.circ.draw(output='mpl')"
   ]
  },
  {
   "cell_type": "code",
   "execution_count": 623,
   "metadata": {},
   "outputs": [
    {
     "data": {
      "text/plain": [
       "{'0010': 1298,\n",
       " '1111': 455,\n",
       " '1101': 1310,\n",
       " '0001': 1580,\n",
       " '1100': 729,\n",
       " '1110': 1537,\n",
       " '0000': 456,\n",
       " '1010': 445,\n",
       " '0100': 29,\n",
       " '0110': 467,\n",
       " '1011': 33,\n",
       " '0011': 708,\n",
       " '0101': 436,\n",
       " '0111': 27,\n",
       " '1001': 460,\n",
       " '1000': 30}"
      ]
     },
     "execution_count": 623,
     "metadata": {},
     "output_type": "execute_result"
    }
   ],
   "source": [
    "mc.solve(sims=10000)"
   ]
  },
  {
   "cell_type": "code",
   "execution_count": 586,
   "metadata": {},
   "outputs": [
    {
     "name": "stdout",
     "output_type": "stream",
     "text": [
      "[0 2 2 4 2 2 4 4 3 3 3 3 5 3 5 3 3 5 3 5 3 3 3 3 4 4 2 2 4 2 2 0]\n"
     ]
    }
   ],
   "source": [
    "#Thingy for binary thingy\n",
    "s = list(\"{0:0eb}\")\n",
    "s[4] = str(edges)\n",
    "binlist=\"\".join(s)\n",
    "\n",
    "energy = np.zeros(2**edges, dtype=int)\n",
    "for k in range(0,2**edges):\n",
    "    y = np.array([int(x) for x in binlist.format(k)]) #btw we gotta change this part manually when we have larger graph\n",
    "    energy[k] = int(np.sum(np.outer(y,(1-y)) * A))\n",
    "\n",
    "print(energy)"
   ]
  },
  {
   "cell_type": "code",
   "execution_count": 558,
   "metadata": {},
   "outputs": [
    {
     "data": {
      "image/png": "[encoded data removed]",
      "text/plain": [
       "<Figure size 432x288 with 2 Axes>"
      ]
     },
     "metadata": {
      "needs_background": "light"
     },
     "output_type": "display_data"
    },
    {
     "name": "stdout",
     "output_type": "stream",
     "text": [
      "[array([[-1.90e-03, -3.10e-03, -1.87e-02, -1.80e-02, -1.00e-03],\n",
      "       [-1.75e-03, -4.55e-03, -4.20e-03, -8.45e-03,  1.50e-03],\n",
      "       [ 2.20e-03,  1.95e-03,  6.85e-03,  6.70e-03,  5.35e-03],\n",
      "       [ 7.60e-03,  5.25e-03, -1.50e-03, -3.70e-03,  9.50e-04],\n",
      "       [ 2.80e-03, -4.60e-03, -6.55e-03,  4.20e-03,  1.60e-03],\n",
      "       [-5.65e-03,  3.90e-03,  5.00e-05,  2.60e-03,  1.55e-03],\n",
      "       [-4.20e-03,  2.80e-03,  7.70e-03, -8.75e-03, -6.25e-03],\n",
      "       [ 2.95e-03, -3.10e-03,  5.00e-04,  5.60e-03,  2.50e-03],\n",
      "       [ 2.50e-04, -1.50e-03, -3.50e-04,  5.30e-03,  9.70e-03],\n",
      "       [-3.85e-03,  4.00e-04, -1.05e-03,  1.90e-03, -2.60e-03],\n",
      "       [ 3.05e-03, -8.50e-04, -1.50e-03, -4.40e-03, -9.60e-03],\n",
      "       [-4.00e-04, -5.50e-03, -1.30e-03, -3.40e-03, -2.65e-03],\n",
      "       [-8.70e-03, -2.75e-03,  5.50e-04,  1.75e-03,  8.00e-03],\n",
      "       [ 1.10e-03, -2.00e-03, -5.50e-04,  6.00e-04,  8.00e-04],\n",
      "       [ 7.15e-03, -3.15e-03,  3.95e-03, -1.35e-03, -6.35e-03],\n",
      "       [-1.60e-03,  1.25e-03,  1.45e-03,  3.00e-03,  1.10e-03],\n",
      "       [ 5.20e-03,  9.15e-03, -4.25e-03,  2.95e-03,  3.00e-04],\n",
      "       [-6.00e-04,  3.85e-03, -3.60e-03, -5.30e-03, -6.55e-03],\n",
      "       [-7.80e-03, -4.00e-04, -2.60e-03, -3.35e-03,  2.00e-03],\n",
      "       [ 2.40e-03, -8.00e-04,  9.30e-03,  2.40e-03,  1.53e-02]]), array([[ 2.40e-03,  5.20e-03,  3.25e-03, -8.15e-03, -1.48e-02],\n",
      "       [ 1.20e-03, -3.20e-03, -4.20e-03,  7.00e-04,  2.20e-03],\n",
      "       [-3.20e-03,  2.75e-03, -6.50e-04, -2.45e-03,  5.10e-03],\n",
      "       [ 7.00e-04,  1.45e-03,  5.50e-04, -8.00e-04, -5.00e-04],\n",
      "       [-7.90e-03, -6.35e-03, -9.60e-03,  0.00e+00,  1.44e-02],\n",
      "       [-1.41e-02, -7.90e-03,  9.35e-03,  7.35e-03, -5.70e-03],\n",
      "       [ 1.12e-02, -6.50e-04, -1.09e-02,  1.50e-03,  1.23e-02],\n",
      "       [-1.00e-04,  4.00e-03, -2.20e-03, -6.60e-03, -7.00e-04],\n",
      "       [-9.00e-04, -3.10e-03, -2.20e-03,  3.50e-03,  6.10e-03],\n",
      "       [-3.60e-03,  3.40e-03,  4.60e-03,  3.45e-03,  8.10e-03],\n",
      "       [ 7.60e-03, -3.00e-04, -7.00e-04,  1.95e-03, -2.90e-03],\n",
      "       [-1.14e-02, -1.15e-03,  1.05e-03, -4.65e-03, -2.30e-03],\n",
      "       [-2.60e-03, -1.20e-03,  1.40e-03,  6.00e-04, -1.40e-03],\n",
      "       [ 5.00e-04,  8.10e-03,  5.55e-03,  2.80e-03,  1.02e-02],\n",
      "       [-8.80e-03, -2.85e-03,  4.00e-03,  1.95e-03, -1.00e-03],\n",
      "       [-2.01e-02,  4.90e-03,  7.35e-03, -7.50e-03,  2.00e-04],\n",
      "       [-3.10e-03,  2.00e-04,  5.75e-03,  1.60e-03, -4.80e-03],\n",
      "       [-1.22e-02, -4.55e-03,  1.15e-03, -2.95e-03, -5.10e-03],\n",
      "       [ 5.80e-03, -2.80e-03, -3.40e-03, -1.35e-03, -7.30e-03],\n",
      "       [ 2.60e-03,  6.50e-04, -1.80e-03,  1.65e-03,  5.60e-03]])]\n"
     ]
    }
   ],
   "source": [
    "#Amount of samples from the grid\n",
    "ngamma, nbeta = (20,5)\n",
    "\n",
    "#Which part of the space are we gonna consider.\n",
    "gmin = [1,0]\n",
    "gmax = [1,1]\n",
    "bmin = [0,0]\n",
    "bmax = [0,1]\n",
    "\n",
    "\n",
    "#Initializing rando variables\n",
    "p = 2 #Depth\n",
    "expectation = np.zeros((ngamma,nbeta))\n",
    "expectation2 = np.zeros((ngamma,nbeta))\n",
    "energy = np.zeros(2**edges, dtype=int)\n",
    "gamma = np.zeros((depth,ngamma))\n",
    "beta = np.zeros((depth,nbeta))\n",
    "\n",
    "\n",
    "#Creating the grid\n",
    "for i in range(0,p):\n",
    "    gamma[i,:] = np.linspace(gmin[i]*2*pi, gmax[i]*2*pi, ngamma)\n",
    "    beta[i,:] = np.linspace(bmin[i], bmax[i], nbeta)\n",
    "\n",
    "\n",
    "\n",
    "#Thingy for binary thingy\n",
    "s = list(\"{0:0eb}\")\n",
    "s[4] = str(edges)\n",
    "binlist=\"\".join(s)\n",
    "\n",
    "\n",
    "#Amount of simulations\n",
    "shots = 10000\n",
    "\n",
    "#Calculating the energies that belong to each state. I think with a real quantum computer we could perhaps skip this.\n",
    "\n",
    "for k in range(0,2**edges):\n",
    "    y = np.array([int(x) for x in binlist.format(k)]) #btw we gotta change this part manually when we have larger graph\n",
    "    energy[k] = int(np.sum(np.outer(y,(1-y)) * A))\n",
    "\n",
    "#Find the expectation value for each point on the grid\n",
    "for i in range(0,ngamma):\n",
    "    for j in range(0,nbeta):\n",
    "        mc.build_circuit(depth = p, beta = beta[:,j], gamma = gamma[:,i])\n",
    "        counts = mc.solve(sims=shots)\n",
    "\n",
    "        #re-ordering\n",
    "        counts = sorted(counts.items(), key = lambda x:(x[0], x[1]), reverse=True)\n",
    "        counts2 = np.array(counts).astype(int)[::-1]\n",
    "\n",
    "        #Sometimes a state gets no count. This is to preserve the dimension of the energy.\n",
    "        energy2 = np.zeros(len(counts2), dtype=int)\n",
    "\n",
    "        #Prevent energy and counts2 array not same dimensions coz counts doesn't return no count states\n",
    "        for k in range(0,len(counts2)):\n",
    "            energy2[k] = energy[int(str(counts2[k,0]),2)]\n",
    "\n",
    "\n",
    "        #Fancy expectation\n",
    "        expectation[i,j] = np.dot(np.array(energy2),counts2[:,1])/shots        \n",
    "\n",
    "\n",
    "#Fancy expectation heatmap\n",
    "plt.imshow(expectation);\n",
    "plt.colorbar()\n",
    "plt.show()\n",
    "\n",
    "#Gradient\n",
    "grad = np.gradient(expectation)\n",
    "print(grad)"
   ]
  },
  {
   "cell_type": "code",
   "execution_count": 405,
   "metadata": {},
   "outputs": [
    {
     "data": {
      "image/png": "[encoded data removed]",
      "text/plain": [
       "<Figure size 432x288 with 2 Axes>"
      ]
     },
     "metadata": {
      "needs_background": "light"
     },
     "output_type": "display_data"
    },
    {
     "name": "stdout",
     "output_type": "stream",
     "text": [
      "[array([[0., 0., 0.],\n",
      "       [0., 0., 0.],\n",
      "       [0., 0., 0.]]), array([[0., 0., 0.],\n",
      "       [0., 0., 0.],\n",
      "       [0., 0., 0.]])]\n",
      "0.0\n",
      "0.0\n",
      "[[[[0. 0.]\n",
      "   [0. 0.]\n",
      "   [0. 0.]]\n",
      "\n",
      "  [[0. 0.]\n",
      "   [0. 0.]\n",
      "   [0. 0.]]]\n",
      "\n",
      "\n",
      " [[[0. 0.]\n",
      "   [0. 0.]\n",
      "   [0. 0.]]\n",
      "\n",
      "  [[0. 0.]\n",
      "   [0. 0.]\n",
      "   [0. 0.]]]\n",
      "\n",
      "\n",
      " [[[0. 0.]\n",
      "   [0. 0.]\n",
      "   [0. 0.]]\n",
      "\n",
      "  [[0. 0.]\n",
      "   [0. 0.]\n",
      "   [0. 0.]]]]\n"
     ]
    }
   ],
   "source": [
    "grad = np.gradient(expectation)\n",
    "plt.imshow(grad[0]);\n",
    "plt.colorbar()\n",
    "plt.show()\n",
    "print(grad)\n",
    "print(np.amax(abs(grad[0])))\n",
    "print(np.amax(abs(grad[1])))\n",
    "print(np.zeros((3,2)*2))"
   ]
  },
  {
   "cell_type": "code",
   "execution_count": 301,
   "metadata": {},
   "outputs": [
    {
     "name": "stdout",
     "output_type": "stream",
     "text": [
      "[[0.         0.26179939 0.52359878 0.78539816 1.04719755 0.\n",
      "  0.26179939 0.52359878 0.78539816 1.04719755]\n",
      " [0.         0.26179939 0.52359878 0.78539816 1.04719755 0.\n",
      "  0.26179939 0.52359878 0.78539816 1.04719755]]\n"
     ]
    },
    {
     "ename": "IndexError",
     "evalue": "index 5 is out of bounds for axis 0 with size 2",
     "output_type": "error",
     "traceback": [
      "\u001b[1;31m---------------------------------------------------------------------------\u001b[0m",
      "\u001b[1;31mIndexError\u001b[0m                                Traceback (most recent call last)",
      "\u001b[1;32m<ipython-input-301-283bc3bcf7f7>\u001b[0m in \u001b[0;36m<module>\u001b[1;34m\u001b[0m\n\u001b[0;32m      1\u001b[0m \u001b[0mx\u001b[0m \u001b[1;33m=\u001b[0m \u001b[0mnp\u001b[0m\u001b[1;33m.\u001b[0m\u001b[0mvstack\u001b[0m\u001b[1;33m(\u001b[0m\u001b[1;33m(\u001b[0m\u001b[0mbeta\u001b[0m\u001b[1;33m,\u001b[0m\u001b[0mbeta\u001b[0m\u001b[1;33m)\u001b[0m\u001b[1;33m)\u001b[0m\u001b[1;33m.\u001b[0m\u001b[0mT\u001b[0m\u001b[1;33m\u001b[0m\u001b[1;33m\u001b[0m\u001b[0m\n\u001b[0;32m      2\u001b[0m \u001b[0mprint\u001b[0m\u001b[1;33m(\u001b[0m\u001b[0mx\u001b[0m\u001b[1;33m)\u001b[0m\u001b[1;33m\u001b[0m\u001b[1;33m\u001b[0m\u001b[0m\n\u001b[1;32m----> 3\u001b[1;33m \u001b[0mprint\u001b[0m\u001b[1;33m(\u001b[0m\u001b[0mx\u001b[0m\u001b[1;33m[\u001b[0m\u001b[1;36m5\u001b[0m\u001b[1;33m,\u001b[0m\u001b[1;36m1\u001b[0m\u001b[1;33m]\u001b[0m\u001b[1;33m)\u001b[0m\u001b[1;33m\u001b[0m\u001b[1;33m\u001b[0m\u001b[0m\n\u001b[0m",
      "\u001b[1;31mIndexError\u001b[0m: index 5 is out of bounds for axis 0 with size 2"
     ]
    }
   ],
   "source": [
    "x = np.vstack((beta,beta)).T\n",
    "print(x)\n",
    "print(x[5,1])"
   ]
  },
  {
   "cell_type": "code",
   "execution_count": 323,
   "metadata": {},
   "outputs": [
    {
     "name": "stdout",
     "output_type": "stream",
     "text": [
      "[[0.         0.33333333 0.66666667 1.         1.33333333 1.66666667\n",
      "  2.         2.33333333 2.66666667 3.        ]\n",
      " [2.         2.11111111 2.22222222 2.33333333 2.44444444 2.55555556\n",
      "  2.66666667 2.77777778 2.88888889 3.        ]]\n"
     ]
    }
   ],
   "source": [
    "depth = 2\n",
    "\n",
    "gamma = np.zeros((depth,ngamma))\n",
    "gmin = [0,2]\n",
    "gmax = [3,3]\n",
    "\n",
    "for i in range(0,depth):\n",
    "    gamma[i,:] = np.linspace(gmin[i], gmax[i], ngamma)\n",
    "for j in range(0,nbeta):\n",
    "    beta = np.linspace(bmin, bmax/sect, nbeta)\n",
    "print(gamma)"
   ]
  },
  {
   "cell_type": "code",
   "execution_count": 595,
   "metadata": {},
   "outputs": [
    {
     "data": {
      "image/png": "[encoded data removed]",
      "text/plain": [
       "<Figure size 432x288 with 1 Axes>"
      ]
     },
     "metadata": {
      "needs_background": "light"
     },
     "output_type": "display_data"
    },
    {
     "name": "stdout",
     "output_type": "stream",
     "text": [
      "[4.392 4.378]\n",
      "-0.7166666666666544\n",
      "[0.45816667 0.4275     0.23166667 0.24916667]\n",
      "[0.495      0.62333333 0.73716667 0.5775    ]\n"
     ]
    }
   ],
   "source": [
    "#Initializing rando variables\n",
    "p = 4 #Depth\n",
    "expectation = np.zeros(2)\n",
    "energy = np.zeros(2**edges, dtype=int)\n",
    "Delta = 0.01\n",
    "\n",
    "\n",
    "#Thingy for binary thingy\n",
    "s = list(\"{0:0eb}\")\n",
    "s[4] = str(edges)\n",
    "binlist=\"\".join(s)\n",
    "\n",
    "\n",
    "#Amount of simulations\n",
    "shots = 3000\n",
    "\n",
    "#Calculating the energies that belong to each state. I think with a real quantum computer we could perhaps skip this.\n",
    "for k in range(0,2**edges):\n",
    "    y = np.array([int(x) for x in binlist.format(k)]) #btw we gotta change this part manually when we have larger graph\n",
    "    energy[k] = int(np.sum(np.outer(y,(1-y)) * A))\n",
    "\n",
    "    \n",
    "    \n",
    "#intialize beta (x) and gamma(y)\n",
    "x = np.full(p,.5)\n",
    "y = np.full(p,.5)\n",
    "dx = np.zeros(p)\n",
    "dy = np.zeros(p)\n",
    "\n",
    "#Gonna use this in the loop\n",
    "xnew = x\n",
    "ynew = y\n",
    "\n",
    "#Optimizer parameters. Correction is the step size we are gonna use for changing x and y\n",
    "OptiRounds = 100\n",
    "Expected = np.zeros(OptiRounds)\n",
    "correction = 0.01\n",
    "\n",
    "\n",
    "#This part looks super messy. Perhaps we could write a function that outputs the expectation value for given x and y\n",
    "\n",
    "#This loop is for the optimization. That's why this stuff takes ages to run.\n",
    "for m in range(0,OptiRounds):\n",
    "    \n",
    "    for l in range(0,p):\n",
    "\n",
    "        #Find the expectation value for each point on the grid for varying beta\n",
    "        for j in range(0,2):\n",
    "            xnew = x\n",
    "            #print(xnew)\n",
    "            xnew[l] = x[l]+(-1)**j*Delta\n",
    "            #print(xnew)\n",
    "            mc.build_circuit(depth = p, beta = xnew, gamma = y)\n",
    "            counts = mc.solve(sims=shots)\n",
    "            xnew = 0\n",
    "            #re-ordering\n",
    "            counts = sorted(counts.items(), key = lambda x:(x[0], x[1]), reverse=True)\n",
    "            counts2 = np.array(counts).astype(int)[::-1]\n",
    "\n",
    "            #Sometimes a state gets no count. This is to preserve the dimension of the energy.\n",
    "            energy2 = np.zeros(len(counts2), dtype=int)\n",
    "\n",
    "            #Prevent energy and counts2 array not same dimensions coz counts doesn't return no count states\n",
    "            for k in range(0,len(counts2)):\n",
    "                energy2[k] = energy[int(str(counts2[k,0]),2)]\n",
    "\n",
    "            #Fancy expectation\n",
    "            expectation[j] = np.dot(np.array(energy2),counts2[:,1])/shots  \n",
    "\n",
    "        #Calculate derivative at beta central difference\n",
    "        dx = (expectation[0]-expectation[1])/(2*Delta)\n",
    "\n",
    "\n",
    "\n",
    "        #Find the expectation value for each point on the grid for varying gamma\n",
    "        for j in range(0,2):\n",
    "            ynew = y\n",
    "            ynew[l] = y[l]+(-1)**j*Delta\n",
    "            mc.build_circuit(depth = p, beta = x, gamma = ynew)\n",
    "            counts = mc.solve(sims=shots)\n",
    "            ynew = 0\n",
    "            #re-ordering\n",
    "            counts = sorted(counts.items(), key = lambda x:(x[0], x[1]), reverse=True)\n",
    "            counts2 = np.array(counts).astype(int)[::-1]\n",
    "\n",
    "            #Sometimes a state gets no count. This is to preserve the dimension of the energy.\n",
    "            energy2 = np.zeros(len(counts2), dtype=int)\n",
    "\n",
    "            #Prevent energy and counts2 array not same dimensions coz counts doesn't return no count states\n",
    "            for k in range(0,len(counts2)):\n",
    "                energy2[k] = energy[int(str(counts2[k,0]),2)]\n",
    "\n",
    "            #Fancy expectation\n",
    "            expectation[j] = np.dot(np.array(energy2),counts2[:,1])/shots  \n",
    "\n",
    "        #Calculate derivative at beta central difference\n",
    "        dy = (expectation[0]-expectation[1])/(2*Delta)\n",
    "        \n",
    "        \n",
    "        #Apply correction. Notice the + sign coz we have gradient ascent.\n",
    "        x[l] = x[l]+correction*dx\n",
    "        y[l] = y[l]+correction*dy\n",
    "\n",
    "\n",
    "\n",
    "\n",
    "\n",
    "\n",
    "    #Here we output the expectation value for the corrected x and y. Just nice to see how the expectation value increases\n",
    "    mc.build_circuit(depth = p, beta = x, gamma = y)\n",
    "    counts = mc.solve(sims=shots)\n",
    "    #re-ordering\n",
    "    counts = sorted(counts.items(), key = lambda x:(x[0], x[1]), reverse=True)\n",
    "    counts2 = np.array(counts).astype(int)[::-1]\n",
    "\n",
    "    #Sometimes a state gets no count. This is to preserve the dimension of the energy.\n",
    "    energy2 = np.zeros(len(counts2), dtype=int)\n",
    "\n",
    "    #Prevent energy and counts2 array not same dimensions coz counts doesn't return no count states\n",
    "    for k in range(0,len(counts2)):\n",
    "        energy2[k] = energy[int(str(counts2[k,0]),2)]\n",
    "\n",
    "    #Fancy expectation\n",
    "    Expected[m] = np.dot(np.array(energy2),counts2[:,1])/shots  \n",
    "    #print(Expected)\n",
    "        \n",
    "        \n",
    "        \n",
    "        \n",
    "        \n",
    "        \n",
    "        \n",
    "        \n",
    "        \n",
    "        \n",
    "        \n",
    "        \n",
    "#Fancy expectation heatmap\n",
    "plt.plot(Expected)\n",
    "plt.show()\n",
    "\n",
    "# #Random thingies\n",
    "# print(expectation)\n",
    "# print(dx)\n",
    "# print(x)\n",
    "# print(y)"
   ]
  },
  {
   "cell_type": "code",
   "execution_count": null,
   "metadata": {},
   "outputs": [],
   "source": []
  },
  {
   "cell_type": "code",
   "execution_count": null,
   "metadata": {},
   "outputs": [],
   "source": []
  },
  {
   "cell_type": "code",
   "execution_count": null,
   "metadata": {},
   "outputs": [],
   "source": []
  },
  {
   "cell_type": "code",
   "execution_count": null,
   "metadata": {},
   "outputs": [],
   "source": []
  }
 ],
 "metadata": {
  "kernelspec": {
   "display_name": "Python 3",
   "language": "python",
   "name": "python3"
  },
  "language_info": {
   "codemirror_mode": {
    "name": "ipython",
    "version": 3
   },
   "file_extension": ".py",
   "mimetype": "text/x-python",
   "name": "python",
   "nbconvert_exporter": "python",
   "pygments_lexer": "ipython3",
   "version": "3.7.6"
  }
 },
 "nbformat": 4,
 "nbformat_minor": 2
}

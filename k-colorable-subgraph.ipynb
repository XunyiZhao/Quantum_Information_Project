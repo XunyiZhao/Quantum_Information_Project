{
 "cells": [
  {
   "cell_type": "code",
   "execution_count": 21,
   "metadata": {},
   "outputs": [
    {
     "name": "stderr",
     "output_type": "stream",
     "text": [
      "Credentials are already in use. The existing account in the session will be replaced.\n"
     ]
    }
   ],
   "source": [
    "# useful additional packages \n",
    "import matplotlib.pyplot as plt\n",
    "import matplotlib.axes as axes\n",
    "import matplotlib.colors as mcolors\n",
    "%matplotlib inline\n",
    "import numpy as np\n",
    "import networkx as nx\n",
    "\n",
    "from qiskit import *\n",
    "from qiskit.tools.visualization import plot_histogram\n",
    "from qiskit.aqua import run_algorithm\n",
    "from qiskit.aqua.input import EnergyInput\n",
    "from qiskit.optimization.ising import max_cut, tsp, common\n",
    "from qiskit.aqua.algorithms import VQE, ExactEigensolver, QAOA\n",
    "from qiskit.aqua.components.optimizers import SPSA, ADAM\n",
    "from qiskit.aqua.components.variational_forms import RY\n",
    "from qiskit.aqua import QuantumInstance\n",
    "from qiskit.qasm import pi\n",
    "\n",
    "from docplex.mp.model import Model\n",
    "from qiskit.optimization.ising import docplex\n",
    "\n",
    "# setup aqua logging\n",
    "import logging\n",
    "from qiskit.aqua import set_qiskit_aqua_logging\n",
    "# set_qiskit_aqua_logging(logging.DEBUG)  # choose INFO, DEBUG to see the log\n",
    "from qiskit import IBMQ\n",
    "provider = IBMQ.load_account()"
   ]
  },
  {
   "cell_type": "code",
   "execution_count": null,
   "metadata": {},
   "outputs": [],
   "source": [
    "class circuits:\n",
    "    def __init__(self, qbits, cbits):\n",
    "        self.qbits = qbits\n",
    "        self.cbits = cbits\n",
    "        self.circ = QuantumCircuit(qbits+1, cbits)\n",
    "        for i in range(qbits):\n",
    "            self.circ.h(i)\n",
    "    \n",
    "    def beta_gate(self, beta, qbit):\n",
    "        self.circ.u3(2*beta, -pi/2, pi/2, qbit)\n",
    "        \n",
    "    def gamma_gate(self, gamma, qbit0, qbit1):\n",
    "        self.circ.x(qbit1)\n",
    "        self.circ.u1(-gamma/2, qbit1)\n",
    "        self.circ.x(qbit1)\n",
    "        self.circ.u1(-gamma/2, qbit1)\n",
    "        self.circ.cnot(qbit1, qbit0)\n",
    "        self.circ.x(qbit0)\n",
    "        self.circ.u1(gamma/2, qbit0)\n",
    "        self.circ.x(qbit0)\n",
    "        self.circ.u1(-gamma/2, qbit0)\n",
    "        self.circ.cnot(qbit1, qbit0)\n",
    "        \n",
    "    def measure(self):\n",
    "        for i in range(self.qbits):\n",
    "            self.circ.measure(i,i)"
   ]
  },
  {
   "cell_type": "code",
   "execution_count": 289,
   "metadata": {},
   "outputs": [],
   "source": [
    "class k_color:\n",
    "    def __init__(self, G):\n",
    "        self.G = G\n",
    "        self.n = len(G)\n",
    "        \n",
    "    def build_circuit(self, k):\n",
    "        self.k = k\n",
    "        self.circ = QuantumCircuit(self.n*k+1, self.n*k+1)\n",
    "        for j in range(self.n):\n",
    "            theta = np.zeros(k)\n",
    "            for i in range(k):\n",
    "                theta[i] = 2*np.arcsin(1/np.sqrt(k-i))\n",
    "                self.circ.cx(j*k+i, j*k+i+1)\n",
    "                self.circ.x(j*k+i+1)\n",
    "                self.circ.cry(theta[i], j*k+i+1,j*k+i)\n",
    "                self.circ.x(j*k+i+1)\n",
    "                self.circ.cx(j*k+i, j*k+i+1)\n",
    "                self.circ.swap(j*k+i+1, j*k+i)\n",
    "            self.circ.x(j*k+k)\n",
    "        self.circ.measure(list(np.arange(self.n*k+1)), list(np.arange(self.n*k+1)))\n",
    "\n",
    "    def draw(self, color = False):\n",
    "        if color:\n",
    "            base_colors = mcolors.BASE_COLORS.keys()\n",
    "            colors = [np.where(self.solution)[1][node] for node in self.G.nodes()]\n",
    "        else:\n",
    "            colors = ['w' for node in self.G.nodes()]\n",
    "        pos = nx.spring_layout(self.G)\n",
    "        default_axes = plt.axes(frameon=True)\n",
    "        nx.draw_networkx(self.G, node_color=colors, node_size=600, alpha=.8, ax=default_axes, pos=pos)\n",
    "        plt.show()\n",
    "        \n",
    "    def built_in_solve(self, k):\n",
    "        self.k = k\n",
    "        # Create an instance of a model and variables\n",
    "        mdl = Model(name='k-color')\n",
    "        x = {(i,k): mdl.binary_var(name='x_{0}_{1}'.format(i, k)) for i in range(self.n) for k in range(self.K)}\n",
    "\n",
    "        # Object function\n",
    "        knapsack_func = mdl.sum(x[(i,k)] * x[(j,k)] for (i,j,w) in self.elist for k in range(self.K))\n",
    "        mdl.minimize(knapsack_func)\n",
    "\n",
    "        # Constrains\n",
    "        for i in range(self.n):\n",
    "            mdl.add_constraint(mdl.sum(x[(i,k)] for k in range(self.K)) == 1)\n",
    "        \n",
    "        # Get operator\n",
    "        qubitOp_docplex, offset_docplex = docplex.get_operator(mdl, auto_penalty=False, default_penalty=1e5)\n",
    "        \n",
    "        # Solve\n",
    "        adam = SPSA()#optimizer\n",
    "        qaoa = QAOA(qubitOp_docplex, adam)#QAOA solver\n",
    "\n",
    "        backend = Aer.get_backend('statevector_simulator')\n",
    "        quantum_instance = QuantumInstance(backend)\n",
    "        self.result = qaoa.run(quantum_instance)\n",
    "        self.solution = np.array(common.sample_most_likely(self.result['eigvecs'][0])).reshape([-1,self.K])\n",
    "        print('solution:', self.solution)\n"
   ]
  },
  {
   "cell_type": "code",
   "execution_count": 292,
   "metadata": {},
   "outputs": [],
   "source": [
    "G = nx.Graph([(0,1),(0,2)])\n",
    "k_col = k_color(G)\n",
    "k_col.build_circuit(k=3)"
   ]
  },
  {
   "cell_type": "code",
   "execution_count": 293,
   "metadata": {},
   "outputs": [
    {
     "data": {
      "image/png": "[encoded data removed]",
      "text/plain": [
       "<Figure size 504x360 with 1 Axes>"
      ]
     },
     "execution_count": 293,
     "metadata": {},
     "output_type": "execute_result"
    }
   ],
   "source": [
    "simulator = Aer.get_backend('qasm_simulator')\n",
    "# Execute and get counts\n",
    "result = execute(k_col.circ, simulator).result()\n",
    "counts = result.get_counts(k_col.circ)\n",
    "plot_histogram(counts, title=\"Bell initial statevector\")"
   ]
  },
  {
   "cell_type": "code",
   "execution_count": null,
   "metadata": {},
   "outputs": [],
   "source": []
  }
 ],
 "metadata": {
  "kernelspec": {
   "display_name": "Python 3",
   "language": "python",
   "name": "python3"
  },
  "language_info": {
   "codemirror_mode": {
    "name": "ipython",
    "version": 3
   },
   "file_extension": ".py",
   "mimetype": "text/x-python",
   "name": "python",
   "nbconvert_exporter": "python",
   "pygments_lexer": "ipython3",
   "version": "3.7.1"
  }
 },
 "nbformat": 4,
 "nbformat_minor": 2
}

{
 "cells": [
  {
   "cell_type": "code",
   "execution_count": 1,
   "metadata": {},
   "outputs": [],
   "source": [
    "# useful additional packages \n",
    "import matplotlib.pyplot as plt\n",
    "import matplotlib.axes as axes\n",
    "import matplotlib.colors as mcolors\n",
    "%matplotlib inline\n",
    "import numpy as np\n",
    "import networkx as nx\n",
    "import itertools\n",
    "\n",
    "from qiskit import *\n",
    "from qiskit.tools.visualization import plot_histogram\n",
    "from qiskit.aqua import run_algorithm\n",
    "from qiskit.aqua.input import EnergyInput\n",
    "from qiskit.optimization.ising import max_cut, tsp, common\n",
    "from qiskit.aqua.algorithms import VQE, ExactEigensolver, QAOA\n",
    "from qiskit.aqua.components.optimizers import SPSA, ADAM\n",
    "from qiskit.aqua.components.variational_forms import RY\n",
    "from qiskit.aqua import QuantumInstance\n",
    "from qiskit.qasm import pi\n",
    "\n",
    "from docplex.mp.model import Model\n",
    "from qiskit.optimization.ising import docplex\n",
    "\n",
    "# setup aqua logging\n",
    "import logging\n",
    "from qiskit.aqua import set_qiskit_aqua_logging\n",
    "# set_qiskit_aqua_logging(logging.DEBUG)  # choose INFO, DEBUG to see the log\n",
    "from qiskit import IBMQ\n",
    "provider = IBMQ.load_account()"
   ]
  },
  {
   "cell_type": "code",
   "execution_count": 41,
   "metadata": {},
   "outputs": [],
   "source": [
    "class circuits:\n",
    "    def __init__(self, n, k):\n",
    "        self.n = n\n",
    "        self.k = k\n",
    "        self.circ = QuantumCircuit(self.n*k+1, self.n*k+1)\n",
    "        for j in range(self.n):\n",
    "            theta = np.zeros(k)\n",
    "            for i in range(k):\n",
    "                theta[i] = 2*np.arcsin(1/np.sqrt(k-i))\n",
    "                self.circ.cx(j*k+i, j*k+i+1)\n",
    "                self.circ.x(j*k+i+1)\n",
    "                self.circ.cry(theta[i], j*k+i+1,j*k+i)\n",
    "                self.circ.x(j*k+i+1)\n",
    "                self.circ.cx(j*k+i, j*k+i+1)\n",
    "                self.circ.swap(j*k+i+1, j*k+i)\n",
    "            self.circ.x(j*k+k)\n",
    "    \n",
    "    def XY_mixers(self, beta, qbit):\n",
    "        # X mixers\n",
    "        for i in range(self.k-1): \n",
    "            for j in range(i+1,self.k):\n",
    "#             #XY COMPLETE GRAPH MIXER\n",
    "                #Perhaps this could be further simplified. So many gates...\n",
    "                self.circ.cnot(i,j)\n",
    "                self.circ.h(i)\n",
    "                self.circ.u1(beta,i)\n",
    "                self.circ.u1(-beta,j)\n",
    "                self.circ.h(i)\n",
    "                self.circ.h(j)\n",
    "                self.circ.cnot(i,j)\n",
    "                self.circ.h(i)\n",
    "                self.circ.h(j)\n",
    "                self.circ.u1(-beta,i)\n",
    "                self.circ.h(i)\n",
    "                self.circ.cnot(i,j)\n",
    "                self.circ.u1(-2*beta,i)\n",
    "                self.circ.u1(2*beta,j)\n",
    "                \n",
    "    def X_mixers(self, beta, qbit):\n",
    "        for i in range(self.k):\n",
    "            self.circ.u3(2*beta, -pi/2, pi/2, qbit)\n",
    "        \n",
    "    def separator(self, gamma, qbit0, qbit1):\n",
    "        k = self.k\n",
    "        for i in range(self.k):\n",
    "            self.circ.cnot(qbit0*k+i,qbit1*k+i)\n",
    "            self.circ.cnot(qbit1*k+i,qbit0*k+i)\n",
    "            self.circ.u1(-gamma/2,qbit1*k+i)\n",
    "            self.circ.cnot(qbit0*k+i,qbit1*k+i)\n",
    "            #The old stuff took too long, found a much simpler implementation!\n",
    "#             self.circ.x(qbit1*k+i)\n",
    "#             self.circ.u1(-gamma/2, qbit1*k+i)\n",
    "#             self.circ.x(qbit1*k+i)\n",
    "#             self.circ.u1(-gamma/2, qbit1*k+i)\n",
    "#             self.circ.cnot(qbit1*k+i, qbit0*k+i)\n",
    "#             self.circ.x(qbit0*k+i)\n",
    "#             self.circ.u1(gamma/2, qbit0*k+i)\n",
    "#             self.circ.x(qbit0*k+i)\n",
    "#             self.circ.u1(-gamma/2, qbit0*k+i)\n",
    "#             self.circ.cnot(qbit1*k+i, qbit0*k+i)"
   ]
  },
  {
   "cell_type": "code",
   "execution_count": 64,
   "metadata": {},
   "outputs": [],
   "source": [
    "class k_color:\n",
    "    def __init__(self, G):\n",
    "        self.G = G\n",
    "        self.n = len(G)\n",
    "        \n",
    "    def build_circuit(self, k, beta, gamma):\n",
    "        self.circuit_calls += 1\n",
    "        depth = len(beta)\n",
    "        self.circuit = circuits(self.n, k)\n",
    "\n",
    "        for i in range(depth):\n",
    "            for node in range(self.n):\n",
    "                self.circuit.XY_mixers(beta[i],node)\n",
    "            for (node0, node1) in self.G.edges:\n",
    "                self.circuit.separator(gamma[i], node0, node1)\n",
    "\n",
    "        self.circuit.circ.measure(list(np.arange(self.n*k+1)), list(np.arange(self.n*k+1)))\n",
    "\n",
    "    def draw(self, color = False):\n",
    "        if color:\n",
    "            base_colors = mcolors.BASE_COLORS.keys()\n",
    "            colors = [np.where(self.solution)[1][node] for node in self.G.nodes()]\n",
    "        else:\n",
    "            colors = ['w' for node in self.G.nodes()]\n",
    "        pos = nx.spring_layout(self.G)\n",
    "        default_axes = plt.axes(frameon=True)\n",
    "        nx.draw_networkx(self.G, node_color=colors, node_size=600, alpha=.8, ax=default_axes, pos=pos)\n",
    "        plt.show()\n",
    "        \n",
    "        \n",
    "    def solve(self, sims=1024, print_counts = False):\n",
    "        backend_sim = Aer.get_backend('qasm_simulator')\n",
    "        job_sim = execute(self.circuit.circ, backend_sim, shots=sims)\n",
    "\n",
    "        # Grab the results from the job.\n",
    "        self.result_sim = job_sim.result()\n",
    "        self.counts = self.result_sim.get_counts(self.circuit.circ)\n",
    "        if print_counts:\n",
    "            print('The count of each state:', self.counts)\n",
    "        #return self.counts\n",
    "        \n",
    "    def get_value(self, k):\n",
    "        lst = np.array(list(itertools.product([0, 1], repeat=self.n*k+1)), dtype = 'str')\n",
    "        states = []\n",
    "        for l in lst:\n",
    "            states.append(''.join(l))\n",
    "        self.state2value = {}\n",
    "        for state in states:\n",
    "            color = np.argmax(np.array(list(state)[1:], dtype= np.int)[::-1].reshape(self.n, -1), axis = 1)\n",
    "            value = 0\n",
    "            for i,j in self.G.edges:\n",
    "                if color[i] != color [j]:\n",
    "                    value += 1\n",
    "            self.state2value[state] = value\n",
    "    \n",
    "    def expect_value(self, k, beta = None, gamma = None, sims = 1024):\n",
    "        #given beta and gamma, build a new circuit and solve it\n",
    "        if beta is None:\n",
    "            pass\n",
    "        else:\n",
    "            self.build_circuit(k, beta, gamma)\n",
    "            self.solve(sims)\n",
    "        exp_v = 0\n",
    "        for (s, i) in self.counts.items():\n",
    "            exp_v += i*self.state2value[s]\n",
    "        return exp_v/sum(self.counts.values())\n",
    "    \n",
    "    def grad(self, k, beta, gamma, delta = 0.01, sims = 1024):\n",
    "        d_beta = np.zeros_like(beta)\n",
    "        d_gamma = np.zeros_like(gamma)\n",
    "        obj = self.expect_value(k, beta = beta, gamma = gamma, sims = sims)\n",
    "        \n",
    "        new_gamma = np.copy(gamma)\n",
    "        for j in range(2):\n",
    "            for i in range(len(beta)):\n",
    "                new_beta = np.copy(beta)\n",
    "                new_beta[i] += (-1)**j*delta\n",
    "                d_beta[i] += (-1)**j*self.expect_value(k, beta = new_beta, gamma = gamma, sims = sims)\n",
    "\n",
    "            for i in range(len(gamma)):\n",
    "                new_gamma = np.copy(gamma)\n",
    "                new_gamma[i] += (-1)**j*delta\n",
    "                d_gamma[i] += (-1)**j*self.expect_value(k, beta = beta, gamma = new_gamma, sims = sims)\n",
    "            \n",
    "        return d_beta/2/delta, d_gamma/2/delta\n",
    "\n",
    "    def train(self, k, opt_rounds = 100, delta = 0.01, depth = 1, sims = 1024, learning_rate = 0.01, start_over = True):\n",
    "        self.get_value(k)\n",
    "        if start_over:\n",
    "            self.beta = np.full(depth,0.5)\n",
    "            self.gamma = np.full(depth,0.5)\n",
    "            self.training_value = []\n",
    "            self.circuit_calls = 0\n",
    "        for i in range(opt_rounds):\n",
    "            d_beta, d_gamma = self.grad(k, self.beta, self.gamma, delta = delta, sims = sims)\n",
    "            self.beta += d_beta*learning_rate\n",
    "            self.gamma += d_gamma*learning_rate\n",
    "            self.training_value.append(self.expect_value(k))\n",
    "        return self.training_value\n",
    "    \n",
    "    def heatmap(self, k, p, beta_range = [0, np.pi], gamma_range = [0, 2*np.pi], n_gamma = 10, n_beta = 5):\n",
    "        #heatmap of p-th layer\n",
    "        new_gamma = np.copy(self.gamma)\n",
    "        new_beta = np.copy(self.beta)\n",
    "        gmin, gmax = gamma_range\n",
    "        bmin, bmax = beta_range\n",
    "        exp_value = np.zeros([n_gamma, n_beta])\n",
    "        for i in range(n_gamma):\n",
    "            for j in range(n_beta):\n",
    "                new_gamma[p] = np.linspace(gmin, gmax, n_gamma)[i]\n",
    "                new_beta[p] = np.linspace(bmin, bmax, n_beta)[j]\n",
    "                exp_value[i,j] = self.expect_value(k, new_beta, new_gamma)\n",
    "        #Fancy expectation heatmap\n",
    "        plt.figure(dpi = 100)\n",
    "        plt.imshow(exp_value,extent=[0,1,0,2]);\n",
    "        plt.ylabel(r'$\\beta/\\pi$')\n",
    "        plt.xlabel(r'$\\gamma/\\pi$')\n",
    "        plt.colorbar()\n",
    "        plt.show()\n",
    "        \n",
    "    def hist(self, k):\n",
    "        counts = self.counts\n",
    "        n=self.n\n",
    "\n",
    "        #print(counts)\n",
    "        newcounts = sorted(counts.items(), key = lambda x:(x[1], x[0]), reverse=True)\n",
    "        optimum = newcounts[0][0]\n",
    "        print(\"optimal as bitstring:\", optimum)\n",
    "        # print(newcounts)\n",
    "        # print(np.array(newcounts)[:,1].astype(int))\n",
    "        for i in range(n):\n",
    "            print(\"node \", i, \" has colour \", optimum[i*k+1:i*k+k+1])\n",
    "\n",
    "\n",
    "        bars = 20\n",
    "\n",
    "        print(\"total possible answers\", len(counts))\n",
    "\n",
    "        print('trained beta:', self.beta)\n",
    "        print('trained gamma:', self.gamma)\n",
    "\n",
    "        color = np.argmax(np.array(list(optimum)[1:], dtype= np.int)[::-1].reshape(n, -1), axis = 1)\n",
    "        value = 0\n",
    "        for i,j in G.edges:\n",
    "            if color[i] != color [j]:\n",
    "                value += 1\n",
    "        print(\"Optimal amount of properly colored edges:\", value)\n",
    "\n",
    "\n",
    "        plt.figure(figsize=(20,7))\n",
    "        plt.bar(range(min(len(counts),bars)), list(np.array(newcounts)[0:bars,1].astype(int)), align='center')\n",
    "        plt.xticks(range(min(len(counts),bars)), list(np.array(newcounts)[0:bars,0]))\n",
    "        plt.xlabel('states')\n",
    "        plt.ylabel('counts')\n",
    "        plt.show()"
   ]
  },
  {
   "cell_type": "code",
   "execution_count": 65,
   "metadata": {
    "scrolled": false
   },
   "outputs": [
    {
     "name": "stderr",
     "output_type": "stream",
     "text": [
      "C:\\Users\\Shawn\\AppData\\Local\\Continuum\\anaconda3\\lib\\site-packages\\networkx\\drawing\\nx_pylab.py:611: MatplotlibDeprecationWarning: isinstance(..., numbers.Number)\n",
      "  if cb.is_numlike(alpha):\n"
     ]
    },
    {
     "data": {
      "image/png": "[encoded data removed]",
      "text/plain": [
       "<Figure size 432x288 with 1 Axes>"
      ]
     },
     "metadata": {
      "needs_background": "light"
     },
     "output_type": "display_data"
    }
   ],
   "source": [
    "#Hard to color: Prism\n",
    "#G = nx.Graph([(0,1),(1,2),(2,3),(0,3),(0,4),(3,4),(2,5),(1,5),(4,5)])\n",
    "G = nx.Graph([(0,1),(1,2),(2,3)])\n",
    "\n",
    "#G = nx.Graph([(0,1),(0,2),(1,2),(0,3),(1,3)])\n",
    "k_col = k_color(G)\n",
    "k_col.draw()\n",
    "# k_col.build_circuit(2,[0],[0])\n",
    "# k_col.circuit.circ.draw()\n"
   ]
  },
  {
   "cell_type": "code",
   "execution_count": 66,
   "metadata": {},
   "outputs": [
    {
     "data": {
      "image/png": "[encoded data removed]",
      "text/plain": [
       "<Figure size 432x288 with 1 Axes>"
      ]
     },
     "metadata": {
      "needs_background": "light"
     },
     "output_type": "display_data"
    },
    {
     "name": "stdout",
     "output_type": "stream",
     "text": [
      "Wall time: 9.61 s\n"
     ]
    }
   ],
   "source": [
    "%%time\n",
    "curve = k_col.train(k = 2, opt_rounds=4, depth = 3, sims = 10000, learning_rate = 0.01)\n",
    "plt.plot(curve)\n",
    "plt.ylabel('expect value')\n",
    "plt.xlabel('opt_rounds')\n",
    "plt.show()"
   ]
  },
  {
   "cell_type": "code",
   "execution_count": 67,
   "metadata": {},
   "outputs": [
    {
     "name": "stdout",
     "output_type": "stream",
     "text": [
      "optimal as bitstring: 010011001\n",
      "node  0  has colour  10\n",
      "node  1  has colour  01\n",
      "node  2  has colour  10\n",
      "node  3  has colour  01\n",
      "total possible answers 16\n",
      "trained beta: [0.4799  0.42475 0.46265]\n",
      "trained gamma: [0.5007 0.486  0.4769]\n",
      "Optimal amount of properly colored edges: 3\n"
     ]
    },
    {
     "data": {
      "image/png": "[encoded data removed]",
      "text/plain": [
       "<Figure size 1440x504 with 1 Axes>"
      ]
     },
     "metadata": {
      "needs_background": "light"
     },
     "output_type": "display_data"
    }
   ],
   "source": [
    "k_col.hist(k)"
   ]
  },
  {
   "cell_type": "code",
   "execution_count": 68,
   "metadata": {},
   "outputs": [
    {
     "data": {
      "text/plain": [
       "{2: 3625, 3: 1287, 1: 3763, 0: 1325}"
      ]
     },
     "execution_count": 68,
     "metadata": {},
     "output_type": "execute_result"
    }
   ],
   "source": [
    "counts = k_col.counts\n",
    "dist = {}\n",
    "for c in counts.keys():\n",
    "    try:\n",
    "        dist[k_col.state2value[c]] += counts[c]\n",
    "    except:\n",
    "        dist[k_col.state2value[c]] = counts[c]\n",
    "dist"
   ]
  },
  {
   "cell_type": "code",
   "execution_count": 69,
   "metadata": {},
   "outputs": [
    {
     "data": {
      "text/plain": [
       "157"
      ]
     },
     "execution_count": 69,
     "metadata": {},
     "output_type": "execute_result"
    }
   ],
   "source": [
    "k_col.circuit.circ.depth()"
   ]
  },
  {
   "cell_type": "markdown",
   "metadata": {},
   "source": [
    "## Runtime test"
   ]
  },
  {
   "cell_type": "code",
   "execution_count": 63,
   "metadata": {},
   "outputs": [
    {
     "name": "stdout",
     "output_type": "stream",
     "text": [
      "Wall time: 4min 9s\n"
     ]
    }
   ],
   "source": [
    "%%time\n",
    "backend = Aer.get_backend('qasm_simulator')\n",
    "for i in range(660):\n",
    "    job_sim = execute(circ, backend, shots=10000)\n",
    "    # Grab the results from the job.\n",
    "    result_sim = job_sim.result()\n",
    "    counts = result_sim.get_counts(circ)"
   ]
  },
  {
   "cell_type": "code",
   "execution_count": null,
   "metadata": {},
   "outputs": [],
   "source": []
  }
 ],
 "metadata": {
  "kernelspec": {
   "display_name": "Python 3",
   "language": "python",
   "name": "python3"
  },
  "language_info": {
   "codemirror_mode": {
    "name": "ipython",
    "version": 3
   },
   "file_extension": ".py",
   "mimetype": "text/x-python",
   "name": "python",
   "nbconvert_exporter": "python",
   "pygments_lexer": "ipython3",
   "version": "3.7.1"
  }
 },
 "nbformat": 4,
 "nbformat_minor": 2
}

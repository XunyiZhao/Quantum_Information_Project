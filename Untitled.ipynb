{
 "cells": [
  {
   "cell_type": "code",
   "execution_count": 26,
   "metadata": {},
   "outputs": [
    {
     "name": "stderr",
     "output_type": "stream",
     "text": [
      "Credentials already present. Set overwrite=True to overwrite.\n",
      "Credentials are already in use. The existing account in the session will be replaced.\n"
     ]
    }
   ],
   "source": [
    "# useful additional packages\n",
    "import matplotlib.pyplot as plt\n",
    "import matplotlib.axes as axes\n",
    "%matplotlib inline\n",
    "import numpy as np\n",
    "import networkx as nx\n",
    "from math import pi\n",
    "\n",
    "\n",
    "\n",
    "from qiskit import QuantumCircuit, ClassicalRegister, QuantumRegister, execute\n",
    "from qiskit.tools.visualization import circuit_drawer\n",
    "from qiskit.quantum_info import state_fidelity\n",
    "from qiskit import BasicAer\n",
    "from qiskit.visualization import plot_state_city\n",
    "\n",
    "backend = BasicAer.get_backend('unitary_simulator')\n",
    "from qiskit import Aer\n",
    "from qiskit import *\n",
    "from qiskit.tools.visualization import plot_histogram\n",
    "from qiskit.aqua import run_algorithm\n",
    "from qiskit.aqua.input import EnergyInput\n",
    "from qiskit.optimization.ising import max_cut, tsp, common\n",
    "from qiskit.aqua.algorithms import VQE, ExactEigensolver\n",
    "from qiskit.aqua.components.optimizers import SPSA\n",
    "from qiskit.aqua.components.variational_forms import RY\n",
    "from qiskit.aqua import QuantumInstance\n",
    "\n",
    "from docplex.mp.model import Model\n",
    "from qiskit.optimization.ising import docplex\n",
    "\n",
    "# setup aqua logging\n",
    "import logging\n",
    "from qiskit.aqua import set_qiskit_aqua_logging\n",
    "# set_qiskit_aqua_logging(logging.DEBUG)  # choose INFO, DEBUG to see the log\n",
    "from qiskit import IBMQ\n",
    "\n",
    "IBMQ.save_account('decf871cc04559d386d78129e8dae8ef10e9ca1ed3a957db5217ba028ec6252c74d61f3d2a39e2aa92bc56815c171dc20013bb347f7961696913461c3b72cba4')\n",
    "provider = IBMQ.load_account()"
   ]
  },
  {
   "cell_type": "code",
   "execution_count": null,
   "metadata": {},
   "outputs": [],
   "source": [
    "# Create a Quantum Circuit acting on a quantum register of three qubits\n",
    "circ = QuantumCircuit(3)\n",
    "\n",
    "# Add a H gate on qubit 0, putting this qubit in superposition.\n",
    "circ.h(0)\n",
    "# Add a CX (CNOT) gate on control qubit 0 and target qubit 1, putting\n",
    "# the qubits in a Bell state.\n",
    "circ.cx(0, 1)\n",
    "# Add a CX (CNOT) gate on control qubit 0 and target qubit 2, putting\n",
    "# the qubits in a GHZ state.\n",
    "circ.cx(0, 2)\n",
    "\n",
    "circ.draw()"
   ]
  },
  {
   "cell_type": "code",
   "execution_count": 24,
   "metadata": {},
   "outputs": [
    {
     "name": "stdout",
     "output_type": "stream",
     "text": [
      "[[0, 1], [1, 0]]\n",
      "1\n",
      "2\n"
     ]
    }
   ],
   "source": [
    "G = [[0, 1],\n",
    "     [1, 0]]\n",
    "print(G)\n",
    "print(G[0][1])"
   ]
  },
  {
   "cell_type": "code",
   "execution_count": 46,
   "metadata": {},
   "outputs": [
    {
     "data": {
      "text/plain": [
       "<qiskit.circuit.instructionset.InstructionSet at 0x143b3c9af48>"
      ]
     },
     "execution_count": 46,
     "metadata": {},
     "output_type": "execute_result"
    }
   ],
   "source": [
    "#beta = 0.0785\n",
    "#gamma = 0.6283\n",
    "#beta2 = 0.3142\n",
    "#gamma2 = 0.1571\n",
    "\n",
    "beta = 2*2*pi/8\n",
    "gamma = 6*pi/8\n",
    "\n",
    "#Initialization\n",
    "#q = QuantumRegister(2)\n",
    "qc = QuantumCircuit(3,3)\n",
    "qc.h(0)\n",
    "qc.h(1)\n",
    "\n",
    "qc.h(2)\n",
    "\n",
    "#first beta\n",
    "qc.u3(2*beta,-pi/2,pi/2,0)\n",
    "qc.u3(2*beta,-pi/2,pi/2,1)\n",
    "\n",
    "qc.u3(2*beta,-pi/2,pi/2,1)\n",
    "\n",
    "\n",
    "\n",
    "#first gamma\n",
    "qc.x(1)\n",
    "qc.u1(-gamma/2,1)\n",
    "qc.x(1)\n",
    "qc.u1(-gamma/2,1)\n",
    "qc.cx(1,0)\n",
    "qc.x(0)\n",
    "qc.u1(gamma/2,0)\n",
    "qc.x(0)\n",
    "qc.u1(-gamma/2,0)\n",
    "qc.cx(1,0)\n",
    "\n",
    "\n",
    "qc.x(1)\n",
    "qc.u1(-gamma/2,1)\n",
    "qc.x(1)\n",
    "qc.u1(-gamma/2,1)\n",
    "qc.cx(1,2)\n",
    "qc.x(2)\n",
    "qc.u1(gamma/2,2)\n",
    "qc.x(2)\n",
    "qc.u1(-gamma/2,2)\n",
    "qc.cx(1,2)\n",
    "\n",
    "\n",
    "# # NOW DO IT AGAIN\n",
    "# #first beta\n",
    "# qc.u3(2*beta2,-pi/2,pi/2,0)\n",
    "# qc.u3(2*beta2,-pi/2,pi/2,1)\n",
    "\n",
    "# qc.u3(2*beta2,-pi/2,pi/2,1)\n",
    "\n",
    "\n",
    "\n",
    "# #first gamma\n",
    "# qc.x(1)\n",
    "# qc.u1(-gamma2/2,1)\n",
    "# qc.x(1)\n",
    "# qc.u1(-gamma2/2,1)\n",
    "# qc.cx(1,0)\n",
    "# qc.x(0)\n",
    "# qc.u1(gamma2/2,0)\n",
    "# qc.x(0)\n",
    "# qc.u1(-gamma2/2,0)\n",
    "# qc.cx(1,0)\n",
    "\n",
    "\n",
    "# qc.x(1)\n",
    "# qc.u1(-gamma2/2,1)\n",
    "# qc.x(1)\n",
    "# qc.u1(-gamma2/2,1)\n",
    "# qc.cx(1,2)\n",
    "# qc.x(2)\n",
    "# qc.u1(gamma2/2,2)\n",
    "# qc.x(2)\n",
    "# qc.u1(-gamma2/2,2)\n",
    "# qc.cx(1,2)\n",
    "\n",
    "\n",
    "\n",
    "#qc.draw()\n"
   ]
  },
  {
   "cell_type": "code",
   "execution_count": null,
   "metadata": {},
   "outputs": [],
   "source": []
  },
  {
   "cell_type": "code",
   "execution_count": 47,
   "metadata": {},
   "outputs": [
    {
     "name": "stdout",
     "output_type": "stream",
     "text": [
      "[0.00000000e+00+0.j 0.00000000e+00+0.j 0.00000000e+00+0.j\n",
      " 0.00000000e+00+0.j 0.00000000e+00+0.j 0.00000000e+00+0.j\n",
      " 0.00000000e+00+0.j 7.85046229e-17-1.j]\n"
     ]
    }
   ],
   "source": [
    "qc.measure([0,1,2], [0,1,2])\n",
    "\n",
    "# Select the StatevectorSimulator from the Aer provider\n",
    "simulator = Aer.get_backend('statevector_simulator')\n",
    "\n",
    "# Execute and get counts\n",
    "result = execute(qc, simulator).result()\n",
    "statevector = result.get_statevector(qc)\n",
    "plot_state_city(statevector, title='poop')\n",
    "print(statevector)\n"
   ]
  },
  {
   "cell_type": "code",
   "execution_count": 45,
   "metadata": {},
   "outputs": [
    {
     "data": {
      "image/png": "[encoded data removed]",
      "text/plain": [
       "<Figure size 504x360 with 1 Axes>"
      ]
     },
     "execution_count": 45,
     "metadata": {},
     "output_type": "execute_result"
    }
   ],
   "source": [
    "qc.measure([0,1,2], [0,1,2])\n",
    "\n",
    "# Select the QasmSimulator from the Aer provider\n",
    "simulator = Aer.get_backend('qasm_simulator')\n",
    "\n",
    "sims = 300000\n",
    "\n",
    "# Execute and get counts\n",
    "result = execute(qc, simulator, shots=sims).result()\n",
    "counts = result.get_counts(qc)\n",
    "plot_histogram(counts, title=\"Bell initial statevector\")\n",
    "# counts = sorted(counts.items(), key = lambda x:(x[1], x[0]), reverse=True)\n",
    "# optimal = counts[0][0]\n",
    "\n",
    "# X=sims/2**3\n",
    "# X2=0\n",
    "# Variance = 0\n",
    "\n",
    "# for i in range(0,2**3):\n",
    "#     Variance = Variance + ((counts[i][1]-X)**2)*(2**3)/sims\n",
    "    \n",
    "# print(Variance/sims)\n",
    "# for i in range(0,2**3):\n",
    "#     X2 = X2+counts[i][1]**2\n",
    "#     X = X+counts[i][1]\n",
    "    \n",
    "# X2 = X2/(2**3)\n",
    "# X = X/(2**3)\n",
    "# Variance = X2-X**2\n",
    "# print(Variance/sims)"
   ]
  },
  {
   "cell_type": "code",
   "execution_count": 49,
   "metadata": {},
   "outputs": [
    {
     "name": "stdout",
     "output_type": "stream",
     "text": [
      "Result(backend_name='statevector_simulator', backend_version='0.4.1', date=datetime.datetime(2020, 3, 23, 18, 51, 10, 165218), header=Obj(backend_name='statevector_simulator', backend_version='0.4.1'), job_id='45d2012a-c7c6-4463-9593-3783a43fe170', metadata={'max_memory_mb': 8117, 'omp_enabled': True, 'parallel_experiments': 1, 'time_taken': 0.0007223}, qobj_id='974b110d-ea57-4af0-b87f-5ceceb64559c', results=[ExperimentResult(data=ExperimentResultData(counts=Obj(0x6=1), statevector=array([ 0.        +0.j        ,  0.        +0.j        ,\n",
      "        0.        +0.j        ,  0.        +0.j        ,\n",
      "        0.        +0.j        ,  0.        +0.j        ,\n",
      "       -0.70710678+0.70710678j,  0.        +0.j        ])), header=Obj(clbit_labels=[['c', 0], ['c', 1], ['c', 2]], creg_sizes=[['c', 3]], memory_slots=3, n_qubits=3, name='circuit5', qreg_sizes=[['q', 3]], qubit_labels=[['q', 0], ['q', 1], ['q', 2]]), meas_level=<MeasLevel.CLASSIFIED: 2>, metadata={'parallel_shots': 1, 'parallel_state_update': 12}, seed_simulator=2320917652, shots=1, status='DONE', success=True, time_taken=0.000228)], status='COMPLETED', success=True, time_taken=0.06244325637817383)\n"
     ]
    }
   ],
   "source": [
    "qc.measure([0,1,2], [0,1,2])\n",
    "simulator = Aer.get_backend('statevector_simulator')\n",
    "\n",
    "job = execute(qc, simulator)\n",
    "result = job.result()\n",
    "print(result)\n",
    "outputstate = result.get_statevector(qc, decimals=3)\n",
    "print(outputstate)"
   ]
  },
  {
   "cell_type": "code",
   "execution_count": null,
   "metadata": {},
   "outputs": [],
   "source": []
  },
  {
   "cell_type": "code",
   "execution_count": 848,
   "metadata": {},
   "outputs": [
    {
     "name": "stdout",
     "output_type": "stream",
     "text": [
      "[[0. 0. 0. 0. 0.]\n",
      " [0. 5. 0. 0. 5.]\n",
      " [0. 0. 0. 0. 0.]\n",
      " [0. 0. 5. 5. 0.]\n",
      " [5. 0. 5. 0. 0.]]\n",
      "6\n"
     ]
    },
    {
     "data": {
      "image/png": "[encoded data removed]",
      "text/plain": [
       "<Figure size 432x288 with 2 Axes>"
      ]
     },
     "metadata": {
      "needs_background": "light"
     },
     "output_type": "display_data"
    }
   ],
   "source": [
    "ngamma, nbeta = (5,5)\n",
    "\n",
    "gamma = np.linspace(0, pi*2/40, ngamma)\n",
    "beta = np.linspace(0, pi/40, nbeta)\n",
    "\n",
    "# Select the QasmSimulator from the Aer provider\n",
    "simulator = Aer.get_backend('qasm_simulator')\n",
    "sims = 3000\n",
    "X=sims/2**3\n",
    "\n",
    "variance = np.zeros((ngamma,nbeta))\n",
    "optimal = np.zeros((ngamma,nbeta))\n",
    "\n",
    "\n",
    "for i in range(0,ngamma):\n",
    "    for j in range(0,nbeta):\n",
    "        #Initialization\n",
    "        #q = QuantumRegister(2)\n",
    "        qc = QuantumCircuit(3,3)\n",
    "        qc.h(0)\n",
    "        qc.h(1)\n",
    "\n",
    "        qc.h(2)\n",
    "\n",
    "        #first beta\n",
    "        qc.u3(2*beta[j],-pi/2,pi/2,0)\n",
    "        qc.u3(2*beta[j],-pi/2,pi/2,1)\n",
    "\n",
    "        qc.u3(2*beta[j],-pi/2,pi/2,1)\n",
    "\n",
    "\n",
    "\n",
    "        #first gamma\n",
    "        qc.x(1)\n",
    "        qc.u1(-gamma[i]/2,1)\n",
    "        qc.x(1)\n",
    "        qc.u1(-gamma[i]/2,1)\n",
    "        qc.cx(1,0)\n",
    "        qc.x(0)\n",
    "        qc.u1(gamma[i]/2,0)\n",
    "        qc.x(0)\n",
    "        qc.u1(-gamma[i]/2,0)\n",
    "        qc.cx(1,0)\n",
    "\n",
    "\n",
    "        qc.x(1)\n",
    "        qc.u1(-gamma[i]/2,1)\n",
    "        qc.x(1)\n",
    "        qc.u1(-gamma[i]/2,1)\n",
    "        qc.cx(1,2)\n",
    "        qc.x(2)\n",
    "        qc.u1(gamma[i]/2,2)\n",
    "        qc.x(2)\n",
    "        qc.u1(-gamma[i]/2,2)\n",
    "        qc.cx(1,2)\n",
    "        \n",
    "        qc.measure([0,1,2], [0,1,2])\n",
    "\n",
    "\n",
    "\n",
    "\n",
    "\n",
    "        # Execute and get counts\n",
    "        result = execute(qc, simulator, shots=sims).result()\n",
    "        counts = result.get_counts(qc)\n",
    "        \n",
    "        variance[i,j] = np.sqrt(np.var(np.array(list(counts.values()))))\n",
    "        \n",
    "        \n",
    "#         plot_histogram(counts, title=\"Bell initial statevector\")\n",
    "        counts = sorted(counts.items(), key = lambda x:(x[1], x[0]), reverse=True)\n",
    "        optimal[i,j] = int(counts[0][0],2)\n",
    "        \n",
    "        \n",
    "        \n",
    "#         for k in range(0,2**3):\n",
    "#             variance[i,j] = variance[i,j] + ((counts[k][1]-X)**2)*(2**3)/sims\n",
    "\n",
    "\n",
    "#print(variance)\n",
    "#variance[ (variance/sims <= 0.000) ] = 0\n",
    "#print(variance/sims)\n",
    "optimal = np.around(optimal)\n",
    "optimal[~(optimal == int('010',2)) & ~(optimal == int('101',2))]= 0\n",
    "print(optimal)\n",
    "print(np.count_nonzero(optimal))\n",
    "plt.imshow(variance);\n",
    "plt.colorbar()\n",
    "plt.show()"
   ]
  },
  {
   "cell_type": "code",
   "execution_count": 825,
   "metadata": {},
   "outputs": [
    {
     "name": "stdout",
     "output_type": "stream",
     "text": [
      "[379 357 356 405 360 381 395 367]\n",
      "0.09691666666666666\n"
     ]
    }
   ],
   "source": [
    "counts = result.get_counts(qc)\n",
    "print(np.array(list(counts.values())))\n",
    "print(np.var(np.array(list(counts.values()))))"
   ]
  },
  {
   "cell_type": "code",
   "execution_count": 39,
   "metadata": {},
   "outputs": [
    {
     "ename": "TypeError",
     "evalue": "'module' object is not callable",
     "output_type": "error",
     "traceback": [
      "\u001b[1;31m---------------------------------------------------------------------------\u001b[0m",
      "\u001b[1;31mTypeError\u001b[0m                                 Traceback (most recent call last)",
      "\u001b[1;32m<ipython-input-39-6837137060c9>\u001b[0m in \u001b[0;36m<module>\u001b[1;34m\u001b[0m\n\u001b[1;32m----> 1\u001b[1;33m \u001b[0mmc\u001b[0m \u001b[1;33m=\u001b[0m \u001b[0mmaxcut\u001b[0m\u001b[1;33m.\u001b[0m\u001b[0mmax_cut\u001b[0m\u001b[1;33m(\u001b[0m\u001b[1;36m3\u001b[0m\u001b[1;33m,\u001b[0m \u001b[1;33m[\u001b[0m\u001b[1;33m[\u001b[0m\u001b[1;36m0\u001b[0m\u001b[1;33m,\u001b[0m\u001b[1;36m1\u001b[0m\u001b[1;33m]\u001b[0m\u001b[1;33m,\u001b[0m \u001b[1;33m[\u001b[0m\u001b[1;36m1\u001b[0m\u001b[1;33m,\u001b[0m\u001b[1;36m2\u001b[0m\u001b[1;33m]\u001b[0m\u001b[1;33m]\u001b[0m\u001b[1;33m)\u001b[0m\u001b[1;33m\u001b[0m\u001b[1;33m\u001b[0m\u001b[0m\n\u001b[0m\u001b[0;32m      2\u001b[0m \u001b[0mmc\u001b[0m\u001b[1;33m.\u001b[0m\u001b[0mdraw\u001b[0m\u001b[1;33m(\u001b[0m\u001b[1;33m)\u001b[0m\u001b[1;33m\u001b[0m\u001b[1;33m\u001b[0m\u001b[0m\n",
      "\u001b[1;31mTypeError\u001b[0m: 'module' object is not callable"
     ]
    }
   ],
   "source": [
    "mc = maxcut.max_cut(3, [[0,1], [1,2]])\n",
    "mc.draw()"
   ]
  },
  {
   "cell_type": "code",
   "execution_count": 36,
   "metadata": {},
   "outputs": [
    {
     "data": {
      "text/plain": [
       "True"
      ]
     },
     "execution_count": 36,
     "metadata": {},
     "output_type": "execute_result"
    }
   ],
   "source": [
    "'maxcut' in sys.modules"
   ]
  },
  {
   "cell_type": "code",
   "execution_count": 139,
   "metadata": {},
   "outputs": [
    {
     "data": {
      "text/html": [
       "<pre style=\"word-wrap: normal;white-space: pre;background: #fff0;line-height: 1.1;font-family: &quot;Courier New&quot;,Courier,monospace\">             ┌─────────────────┐┌───┐┌──────────────────┐┌───┐             »\n",
       "q_0: |0>──■──┤ U3(0.61548,0,0) ├┤ X ├┤ U3(-0.61548,0,0) ├┤ X ├───────■───X─»\n",
       "        ┌─┴─┐└──────┬───┬──────┘└─┬─┘└──────────────────┘└─┬─┘┌───┐┌─┴─┐ │ »\n",
       "q_1: |0>┤ X ├───────┤ X ├─────────■────────────────────────■──┤ X ├┤ X ├─X─»\n",
       "        └───┘       └───┘                                     └───┘└───┘   »\n",
       "q_2: |0>───────────────────────────────────────────────────────────────────»\n",
       "                                                                           »\n",
       "q_3: |0>───────────────────────────────────────────────────────────────────»\n",
       "                                                                           »\n",
       " c_0: 0 ═══════════════════════════════════════════════════════════════════»\n",
       "                                                                           »\n",
       " c_1: 0 ═══════════════════════════════════════════════════════════════════»\n",
       "                                                                           »\n",
       " c_2: 0 ═══════════════════════════════════════════════════════════════════»\n",
       "                                                                           »\n",
       " c_3: 0 ═══════════════════════════════════════════════════════════════════»\n",
       "                                                                           »\n",
       "«                                                                       »\n",
       "«q_0: ──────────────────────────────────────────────────────────────────»\n",
       "«          ┌──────────────┐┌───┐┌───────────────┐┌───┐                  »\n",
       "«q_1: ──■──┤ U3(pi/4,0,0) ├┤ X ├┤ U3(-pi/4,0,0) ├┤ X ├───────■───X──────»\n",
       "«     ┌─┴─┐└────┬───┬─────┘└─┬─┘└───────────────┘└─┬─┘┌───┐┌─┴─┐ │      »\n",
       "«q_2: ┤ X ├─────┤ X ├────────■─────────────────────■──┤ X ├┤ X ├─X───■──»\n",
       "«     └───┘     └───┘                                 └───┘└───┘   ┌─┴─┐»\n",
       "«q_3: ─────────────────────────────────────────────────────────────┤ X ├»\n",
       "«                                                                  └───┘»\n",
       "«c_0: ══════════════════════════════════════════════════════════════════»\n",
       "«                                                                       »\n",
       "«c_1: ══════════════════════════════════════════════════════════════════»\n",
       "«                                                                       »\n",
       "«c_2: ══════════════════════════════════════════════════════════════════»\n",
       "«                                                                       »\n",
       "«c_3: ══════════════════════════════════════════════════════════════════»\n",
       "«                                                                       »\n",
       "«                                                             \n",
       "«q_0: ────────────────────────────────────────────────────────\n",
       "«                                                             \n",
       "«q_1: ────────────────────────────────────────────────────────\n",
       "«     ┌──────────────┐┌───┐┌───────────────┐┌───┐             \n",
       "«q_2: ┤ U3(pi/2,0,0) ├┤ X ├┤ U3(-pi/2,0,0) ├┤ X ├───────■───X─\n",
       "«     └────┬───┬─────┘└─┬─┘└───────────────┘└─┬─┘┌───┐┌─┴─┐ │ \n",
       "«q_3: ─────┤ X ├────────■─────────────────────■──┤ X ├┤ X ├─X─\n",
       "«          └───┘                                 └───┘└───┘   \n",
       "«c_0: ════════════════════════════════════════════════════════\n",
       "«                                                             \n",
       "«c_1: ════════════════════════════════════════════════════════\n",
       "«                                                             \n",
       "«c_2: ════════════════════════════════════════════════════════\n",
       "«                                                             \n",
       "«c_3: ════════════════════════════════════════════════════════\n",
       "«                                                             </pre>"
      ],
      "text/plain": [
       "             ┌─────────────────┐┌───┐┌──────────────────┐┌───┐             »\n",
       "q_0: |0>──■──┤ U3(0.61548,0,0) ├┤ X ├┤ U3(-0.61548,0,0) ├┤ X ├───────■───X─»\n",
       "        ┌─┴─┐└──────┬───┬──────┘└─┬─┘└──────────────────┘└─┬─┘┌───┐┌─┴─┐ │ »\n",
       "q_1: |0>┤ X ├───────┤ X ├─────────■────────────────────────■──┤ X ├┤ X ├─X─»\n",
       "        └───┘       └───┘                                     └───┘└───┘   »\n",
       "q_2: |0>───────────────────────────────────────────────────────────────────»\n",
       "                                                                           »\n",
       "q_3: |0>───────────────────────────────────────────────────────────────────»\n",
       "                                                                           »\n",
       " c_0: 0 ═══════════════════════════════════════════════════════════════════»\n",
       "                                                                           »\n",
       " c_1: 0 ═══════════════════════════════════════════════════════════════════»\n",
       "                                                                           »\n",
       " c_2: 0 ═══════════════════════════════════════════════════════════════════»\n",
       "                                                                           »\n",
       " c_3: 0 ═══════════════════════════════════════════════════════════════════»\n",
       "                                                                           »\n",
       "«                                                                       »\n",
       "«q_0: ──────────────────────────────────────────────────────────────────»\n",
       "«          ┌──────────────┐┌───┐┌───────────────┐┌───┐                  »\n",
       "«q_1: ──■──┤ U3(pi/4,0,0) ├┤ X ├┤ U3(-pi/4,0,0) ├┤ X ├───────■───X──────»\n",
       "«     ┌─┴─┐└────┬───┬─────┘└─┬─┘└───────────────┘└─┬─┘┌───┐┌─┴─┐ │      »\n",
       "«q_2: ┤ X ├─────┤ X ├────────■─────────────────────■──┤ X ├┤ X ├─X───■──»\n",
       "«     └───┘     └───┘                                 └───┘└───┘   ┌─┴─┐»\n",
       "«q_3: ─────────────────────────────────────────────────────────────┤ X ├»\n",
       "«                                                                  └───┘»\n",
       "«c_0: ══════════════════════════════════════════════════════════════════»\n",
       "«                                                                       »\n",
       "«c_1: ══════════════════════════════════════════════════════════════════»\n",
       "«                                                                       »\n",
       "«c_2: ══════════════════════════════════════════════════════════════════»\n",
       "«                                                                       »\n",
       "«c_3: ══════════════════════════════════════════════════════════════════»\n",
       "«                                                                       »\n",
       "«                                                             \n",
       "«q_0: ────────────────────────────────────────────────────────\n",
       "«                                                             \n",
       "«q_1: ────────────────────────────────────────────────────────\n",
       "«     ┌──────────────┐┌───┐┌───────────────┐┌───┐             \n",
       "«q_2: ┤ U3(pi/2,0,0) ├┤ X ├┤ U3(-pi/2,0,0) ├┤ X ├───────■───X─\n",
       "«     └────┬───┬─────┘└─┬─┘└───────────────┘└─┬─┘┌───┐┌─┴─┐ │ \n",
       "«q_3: ─────┤ X ├────────■─────────────────────■──┤ X ├┤ X ├─X─\n",
       "«          └───┘                                 └───┘└───┘   \n",
       "«c_0: ════════════════════════════════════════════════════════\n",
       "«                                                             \n",
       "«c_1: ════════════════════════════════════════════════════════\n",
       "«                                                             \n",
       "«c_2: ════════════════════════════════════════════════════════\n",
       "«                                                             \n",
       "«c_3: ════════════════════════════════════════════════════════\n",
       "«                                                             "
      ]
     },
     "execution_count": 139,
     "metadata": {},
     "output_type": "execute_result"
    }
   ],
   "source": [
    "qc = QuantumCircuit(4,4)\n",
    "theta1 = 2*np.arcsin(1/np.sqrt(3+1-1))\n",
    "theta2 = 2*np.arcsin(1/np.sqrt(3+1-2))\n",
    "theta3 = 2*np.arcsin(1/np.sqrt(3+1-3))\n",
    "phi = 0\n",
    "lam = 0\n",
    "\n",
    "\n",
    "\n",
    "\n",
    "qc.cx(0,1)\n",
    "qc.x(1)\n",
    "qc.cry(theta1,1,0)\n",
    "qc.x(1)\n",
    "qc.cx(0,1)\n",
    "qc.swap(1,0)\n",
    "\n",
    "qc.cx(1,2)\n",
    "qc.x(2)\n",
    "qc.cry(theta2,2,1)\n",
    "qc.x(2)\n",
    "qc.cx(1,2)\n",
    "qc.swap(1,2)\n",
    "\n",
    "qc.cx(2,3)\n",
    "qc.x(3)\n",
    "qc.cry(theta3,3,2)\n",
    "qc.x(3)\n",
    "qc.cx(2,3)\n",
    "qc.swap(3,2)\n",
    "\n",
    "qc.draw()\n"
   ]
  },
  {
   "cell_type": "code",
   "execution_count": 140,
   "metadata": {},
   "outputs": [
    {
     "name": "stdout",
     "output_type": "stream",
     "text": [
      "[0.+0.000000e+00j 0.+0.000000e+00j 0.+0.000000e+00j 0.+0.000000e+00j\n",
      " 0.+0.000000e+00j 0.+0.000000e+00j 0.+0.000000e+00j 0.+0.000000e+00j\n",
      " 0.+0.000000e+00j 0.+0.000000e+00j 0.+0.000000e+00j 0.+0.000000e+00j\n",
      " 1.+6.123234e-17j 0.+0.000000e+00j 0.+0.000000e+00j 0.+0.000000e+00j]\n"
     ]
    }
   ],
   "source": [
    "qc.measure([0,1,2,3], [0,1,2,3])\n",
    "\n",
    "# Select the StatevectorSimulator from the Aer provider\n",
    "simulator = Aer.get_backend('statevector_simulator')\n",
    "\n",
    "# Execute and get counts\n",
    "result = execute(qc, simulator).result()\n",
    "statevector = result.get_statevector(qc)\n",
    "plot_state_city(statevector, title='poop')\n",
    "print(statevector)\n"
   ]
  },
  {
   "cell_type": "code",
   "execution_count": 141,
   "metadata": {},
   "outputs": [
    {
     "data": {
      "image/png": "[encoded data removed]",
      "text/plain": [
       "<Figure size 504x360 with 1 Axes>"
      ]
     },
     "execution_count": 141,
     "metadata": {},
     "output_type": "execute_result"
    }
   ],
   "source": [
    "simulator = Aer.get_backend('qasm_simulator')\n",
    "\n",
    "sims = 300\n",
    "\n",
    "# Execute and get counts\n",
    "result = execute(qc, simulator, shots=sims).result()\n",
    "counts = result.get_counts(qc)\n",
    "plot_histogram(counts, title=\"Bell initial statevector\")"
   ]
  },
  {
   "cell_type": "code",
   "execution_count": null,
   "metadata": {},
   "outputs": [],
   "source": []
  }
 ],
 "metadata": {
  "kernelspec": {
   "display_name": "Python 3",
   "language": "python",
   "name": "python3"
  },
  "language_info": {
   "codemirror_mode": {
    "name": "ipython",
    "version": 3
   },
   "file_extension": ".py",
   "mimetype": "text/x-python",
   "name": "python",
   "nbconvert_exporter": "python",
   "pygments_lexer": "ipython3",
   "version": "3.7.6"
  }
 },
 "nbformat": 4,
 "nbformat_minor": 4
}

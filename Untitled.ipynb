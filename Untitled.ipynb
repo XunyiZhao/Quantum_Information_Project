{
 "cells": [
  {
   "cell_type": "code",
   "execution_count": 666,
   "metadata": {},
   "outputs": [
    {
     "name": "stderr",
     "output_type": "stream",
     "text": [
      "Credentials already present. Set overwrite=True to overwrite.\n",
      "Credentials are already in use. The existing account in the session will be replaced.\n"
     ]
    }
   ],
   "source": [
    "# useful additional packages\n",
    "import matplotlib.pyplot as plt\n",
    "import matplotlib.axes as axes\n",
    "%matplotlib inline\n",
    "import numpy as np\n",
    "import networkx as nx\n",
    "from math import pi\n",
    "\n",
    "from qiskit import QuantumCircuit, ClassicalRegister, QuantumRegister, execute\n",
    "from qiskit.tools.visualization import circuit_drawer\n",
    "from qiskit.quantum_info import state_fidelity\n",
    "from qiskit import BasicAer\n",
    "from qiskit.visualization import plot_state_city\n",
    "\n",
    "backend = BasicAer.get_backend('unitary_simulator')\n",
    "from qiskit import Aer\n",
    "from qiskit import *\n",
    "from qiskit.tools.visualization import plot_histogram\n",
    "from qiskit.aqua import run_algorithm\n",
    "from qiskit.aqua.input import EnergyInput\n",
    "from qiskit.optimization.ising import max_cut, tsp, common\n",
    "from qiskit.aqua.algorithms import VQE, ExactEigensolver\n",
    "from qiskit.aqua.components.optimizers import SPSA\n",
    "from qiskit.aqua.components.variational_forms import RY\n",
    "from qiskit.aqua import QuantumInstance\n",
    "\n",
    "from docplex.mp.model import Model\n",
    "from qiskit.optimization.ising import docplex\n",
    "\n",
    "# setup aqua logging\n",
    "import logging\n",
    "from qiskit.aqua import set_qiskit_aqua_logging\n",
    "# set_qiskit_aqua_logging(logging.DEBUG)  # choose INFO, DEBUG to see the log\n",
    "from qiskit import IBMQ\n",
    "\n",
    "IBMQ.save_account('decf871cc04559d386d78129e8dae8ef10e9ca1ed3a957db5217ba028ec6252c74d61f3d2a39e2aa92bc56815c171dc20013bb347f7961696913461c3b72cba4')\n",
    "provider = IBMQ.load_account()"
   ]
  },
  {
   "cell_type": "code",
   "execution_count": null,
   "metadata": {},
   "outputs": [],
   "source": [
    "# Create a Quantum Circuit acting on a quantum register of three qubits\n",
    "circ = QuantumCircuit(3)\n",
    "\n",
    "# Add a H gate on qubit 0, putting this qubit in superposition.\n",
    "circ.h(0)\n",
    "# Add a CX (CNOT) gate on control qubit 0 and target qubit 1, putting\n",
    "# the qubits in a Bell state.\n",
    "circ.cx(0, 1)\n",
    "# Add a CX (CNOT) gate on control qubit 0 and target qubit 2, putting\n",
    "# the qubits in a GHZ state.\n",
    "circ.cx(0, 2)\n",
    "\n",
    "circ.draw()"
   ]
  },
  {
   "cell_type": "code",
   "execution_count": 24,
   "metadata": {},
   "outputs": [
    {
     "name": "stdout",
     "output_type": "stream",
     "text": [
      "[[0, 1], [1, 0]]\n",
      "1\n",
      "2\n"
     ]
    }
   ],
   "source": [
    "G = [[0, 1],\n",
    "     [1, 0]]\n",
    "print(G)\n",
    "print(G[0][1])"
   ]
  },
  {
   "cell_type": "code",
   "execution_count": 725,
   "metadata": {},
   "outputs": [
    {
     "data": {
      "text/plain": [
       "<qiskit.circuit.instructionset.InstructionSet at 0x1f3f00e4648>"
      ]
     },
     "execution_count": 725,
     "metadata": {},
     "output_type": "execute_result"
    }
   ],
   "source": [
    "#beta = 0.0785\n",
    "#gamma = 0.6283\n",
    "#beta2 = 0.3142\n",
    "#gamma2 = 0.1571\n",
    "\n",
    "beta = 2*2*pi/8\n",
    "gamma = 6*pi/8\n",
    "\n",
    "#Initialization\n",
    "#q = QuantumRegister(2)\n",
    "qc = QuantumCircuit(3,3)\n",
    "qc.h(0)\n",
    "qc.h(1)\n",
    "\n",
    "qc.h(2)\n",
    "\n",
    "#first beta\n",
    "qc.u3(2*beta,-pi/2,pi/2,0)\n",
    "qc.u3(2*beta,-pi/2,pi/2,1)\n",
    "\n",
    "qc.u3(2*beta,-pi/2,pi/2,1)\n",
    "\n",
    "\n",
    "\n",
    "#first gamma\n",
    "qc.x(1)\n",
    "qc.u1(-gamma/2,1)\n",
    "qc.x(1)\n",
    "qc.u1(-gamma/2,1)\n",
    "qc.cx(1,0)\n",
    "qc.x(0)\n",
    "qc.u1(gamma/2,0)\n",
    "qc.x(0)\n",
    "qc.u1(-gamma/2,0)\n",
    "qc.cx(1,0)\n",
    "\n",
    "\n",
    "qc.x(1)\n",
    "qc.u1(-gamma/2,1)\n",
    "qc.x(1)\n",
    "qc.u1(-gamma/2,1)\n",
    "qc.cx(1,2)\n",
    "qc.x(2)\n",
    "qc.u1(gamma/2,2)\n",
    "qc.x(2)\n",
    "qc.u1(-gamma/2,2)\n",
    "qc.cx(1,2)\n",
    "\n",
    "\n",
    "# # NOW DO IT AGAIN\n",
    "# #first beta\n",
    "# qc.u3(2*beta2,-pi/2,pi/2,0)\n",
    "# qc.u3(2*beta2,-pi/2,pi/2,1)\n",
    "\n",
    "# qc.u3(2*beta2,-pi/2,pi/2,1)\n",
    "\n",
    "\n",
    "\n",
    "# #first gamma\n",
    "# qc.x(1)\n",
    "# qc.u1(-gamma2/2,1)\n",
    "# qc.x(1)\n",
    "# qc.u1(-gamma2/2,1)\n",
    "# qc.cx(1,0)\n",
    "# qc.x(0)\n",
    "# qc.u1(gamma2/2,0)\n",
    "# qc.x(0)\n",
    "# qc.u1(-gamma2/2,0)\n",
    "# qc.cx(1,0)\n",
    "\n",
    "\n",
    "# qc.x(1)\n",
    "# qc.u1(-gamma2/2,1)\n",
    "# qc.x(1)\n",
    "# qc.u1(-gamma2/2,1)\n",
    "# qc.cx(1,2)\n",
    "# qc.x(2)\n",
    "# qc.u1(gamma2/2,2)\n",
    "# qc.x(2)\n",
    "# qc.u1(-gamma2/2,2)\n",
    "# qc.cx(1,2)\n",
    "\n",
    "\n",
    "\n",
    "#qc.draw()\n"
   ]
  },
  {
   "cell_type": "code",
   "execution_count": null,
   "metadata": {},
   "outputs": [],
   "source": []
  },
  {
   "cell_type": "code",
   "execution_count": 726,
   "metadata": {},
   "outputs": [
    {
     "name": "stdout",
     "output_type": "stream",
     "text": [
      "[ 0.        +0.j         -0.70710678+0.70710678j  0.        +0.j\n",
      "  0.        +0.j          0.        +0.j          0.        +0.j\n",
      "  0.        +0.j          0.        +0.j        ]\n"
     ]
    }
   ],
   "source": [
    "qc.measure([0,1,2], [0,1,2])\n",
    "\n",
    "# Select the StatevectorSimulator from the Aer provider\n",
    "simulator = Aer.get_backend('statevector_simulator')\n",
    "\n",
    "# Execute and get counts\n",
    "result = execute(qc, simulator).result()\n",
    "statevector = result.get_statevector(qc)\n",
    "plot_state_city(statevector, title='poop')\n",
    "print(statevector)\n"
   ]
  },
  {
   "cell_type": "code",
   "execution_count": 730,
   "metadata": {},
   "outputs": [
    {
     "data": {
      "image/png": "[encoded data removed]",
      "text/plain": [
       "<Figure size 504x360 with 1 Axes>"
      ]
     },
     "execution_count": 730,
     "metadata": {},
     "output_type": "execute_result"
    }
   ],
   "source": [
    "qc.measure([0,1,2], [0,1,2])\n",
    "\n",
    "# Select the QasmSimulator from the Aer provider\n",
    "simulator = Aer.get_backend('qasm_simulator')\n",
    "\n",
    "sims = 300000\n",
    "\n",
    "# Execute and get counts\n",
    "result = execute(qc, simulator, shots=sims).result()\n",
    "counts = result.get_counts(qc)\n",
    "plot_histogram(counts, title=\"Bell initial statevector\")\n",
    "# counts = sorted(counts.items(), key = lambda x:(x[1], x[0]), reverse=True)\n",
    "# optimal = counts[0][0]\n",
    "\n",
    "# X=sims/2**3\n",
    "# X2=0\n",
    "# Variance = 0\n",
    "\n",
    "# for i in range(0,2**3):\n",
    "#     Variance = Variance + ((counts[i][1]-X)**2)*(2**3)/sims\n",
    "    \n",
    "# print(Variance/sims)\n",
    "# for i in range(0,2**3):\n",
    "#     X2 = X2+counts[i][1]**2\n",
    "#     X = X+counts[i][1]\n",
    "    \n",
    "# X2 = X2/(2**3)\n",
    "# X = X/(2**3)\n",
    "# Variance = X2-X**2\n",
    "# print(Variance/sims)"
   ]
  },
  {
   "cell_type": "code",
   "execution_count": 728,
   "metadata": {},
   "outputs": [
    {
     "name": "stdout",
     "output_type": "stream",
     "text": [
      "[ 0.   +0.j    -0.707+0.707j  0.   +0.j     0.   +0.j     0.   +0.j\n",
      "  0.   +0.j     0.   +0.j     0.   +0.j   ]\n"
     ]
    }
   ],
   "source": [
    "qc.measure([0,1,2], [0,1,2])\n",
    "simulator = Aer.get_backend('statevector_simulator')\n",
    "\n",
    "job = execute(qc, simulator)\n",
    "result = job.result()\n",
    "outputstate = result.get_statevector(qc, decimals=3)\n",
    "print(outputstate)"
   ]
  },
  {
   "cell_type": "code",
   "execution_count": null,
   "metadata": {},
   "outputs": [],
   "source": []
  },
  {
   "cell_type": "code",
   "execution_count": 802,
   "metadata": {},
   "outputs": [
    {
     "name": "stdout",
     "output_type": "stream",
     "text": [
      "[[5. 0. 0. 0. 5. 0. 0. 0. 0. 0.]\n",
      " [0. 0. 0. 0. 2. 5. 5. 0. 0. 5.]\n",
      " [5. 0. 0. 0. 2. 0. 2. 0. 0. 5.]\n",
      " [2. 0. 0. 0. 0. 0. 0. 0. 0. 2.]\n",
      " [0. 0. 0. 0. 5. 0. 0. 0. 0. 0.]\n",
      " [2. 0. 0. 0. 0. 0. 2. 5. 0. 2.]\n",
      " [2. 0. 0. 0. 0. 0. 0. 0. 2. 0.]\n",
      " [5. 0. 0. 0. 0. 5. 0. 0. 0. 0.]\n",
      " [0. 0. 5. 5. 0. 0. 0. 2. 0. 0.]\n",
      " [0. 0. 5. 0. 0. 0. 0. 0. 2. 0.]\n",
      " [5. 0. 5. 2. 5. 5. 0. 0. 2. 5.]\n",
      " [0. 0. 0. 0. 0. 0. 0. 0. 0. 0.]\n",
      " [0. 0. 5. 0. 0. 2. 0. 0. 0. 0.]\n",
      " [0. 0. 0. 0. 0. 0. 0. 0. 0. 5.]\n",
      " [5. 5. 0. 0. 0. 0. 0. 0. 0. 5.]\n",
      " [0. 0. 0. 0. 0. 0. 0. 0. 5. 2.]\n",
      " [2. 5. 0. 0. 0. 2. 0. 0. 2. 0.]\n",
      " [0. 0. 0. 2. 0. 0. 0. 0. 0. 5.]\n",
      " [0. 0. 0. 0. 0. 2. 0. 0. 0. 0.]\n",
      " [5. 0. 0. 0. 2. 0. 0. 0. 0. 0.]]\n",
      "50\n"
     ]
    },
    {
     "data": {
      "image/png": "[encoded data removed]",
      "text/plain": [
       "<Figure size 432x288 with 2 Axes>"
      ]
     },
     "metadata": {
      "needs_background": "light"
     },
     "output_type": "display_data"
    }
   ],
   "source": [
    "ngamma, nbeta = (20, 10)\n",
    "\n",
    "gamma = np.linspace(0, pi*2, ngamma)\n",
    "beta = np.linspace(0, pi, nbeta)\n",
    "\n",
    "# Select the QasmSimulator from the Aer provider\n",
    "simulator = Aer.get_backend('qasm_simulator')\n",
    "sims = 3000\n",
    "X=sims/2**3\n",
    "\n",
    "variance = np.zeros((ngamma,nbeta))\n",
    "optimal = np.zeros((ngamma,nbeta))\n",
    "\n",
    "\n",
    "for i in range(0,ngamma):\n",
    "    for j in range(0,nbeta):\n",
    "        #Initialization\n",
    "        #q = QuantumRegister(2)\n",
    "        qc = QuantumCircuit(3,3)\n",
    "        qc.h(0)\n",
    "        qc.h(1)\n",
    "\n",
    "        qc.h(2)\n",
    "\n",
    "        #first beta\n",
    "        qc.u3(2*beta[j],-pi/2,pi/2,0)\n",
    "        qc.u3(2*beta[j],-pi/2,pi/2,1)\n",
    "\n",
    "        qc.u3(2*beta[j],-pi/2,pi/2,1)\n",
    "\n",
    "\n",
    "\n",
    "        #first gamma\n",
    "        qc.x(1)\n",
    "        qc.u1(-gamma[i]/2,1)\n",
    "        qc.x(1)\n",
    "        qc.u1(-gamma[i]/2,1)\n",
    "        qc.cx(1,0)\n",
    "        qc.x(0)\n",
    "        qc.u1(gamma[i]/2,0)\n",
    "        qc.x(0)\n",
    "        qc.u1(-gamma[i]/2,0)\n",
    "        qc.cx(1,0)\n",
    "\n",
    "\n",
    "        qc.x(1)\n",
    "        qc.u1(-gamma[i]/2,1)\n",
    "        qc.x(1)\n",
    "        qc.u1(-gamma[i]/2,1)\n",
    "        qc.cx(1,2)\n",
    "        qc.x(2)\n",
    "        qc.u1(gamma[i]/2,2)\n",
    "        qc.x(2)\n",
    "        qc.u1(-gamma[i]/2,2)\n",
    "        qc.cx(1,2)\n",
    "        \n",
    "        qc.measure([0,1,2], [0,1,2])\n",
    "\n",
    "\n",
    "\n",
    "\n",
    "\n",
    "        # Execute and get counts\n",
    "        result = execute(qc, simulator, shots=sims).result()\n",
    "        counts = result.get_counts(qc)\n",
    "        plot_histogram(counts, title=\"Bell initial statevector\")\n",
    "        counts = sorted(counts.items(), key = lambda x:(x[1], x[0]), reverse=True)\n",
    "        optimal[i,j] = int(counts[0][0],2)\n",
    "        \n",
    "        \n",
    "        \n",
    "        for k in range(0,2**3):\n",
    "            variance[i,j] = variance[i,j] + ((counts[k][1]-X)**2)*(2**3)/sims\n",
    "#print(variance/sims)\n",
    "variance[ (variance/sims <= 0.000) ] = 0\n",
    "#print(variance/sims)\n",
    "optimal[~(optimal == int('010',2)) & ~(optimal == int('101',2))] = 0\n",
    "print(optimal)\n",
    "print(np.count_nonzero(optimal))\n",
    "plt.imshow(variance);\n",
    "plt.colorbar()\n",
    "plt.show()"
   ]
  },
  {
   "cell_type": "code",
   "execution_count": null,
   "metadata": {},
   "outputs": [],
   "source": []
  },
  {
   "cell_type": "code",
   "execution_count": null,
   "metadata": {},
   "outputs": [],
   "source": []
  }
 ],
 "metadata": {
  "kernelspec": {
   "display_name": "Python 3",
   "language": "python",
   "name": "python3"
  },
  "language_info": {
   "codemirror_mode": {
    "name": "ipython",
    "version": 3
   },
   "file_extension": ".py",
   "mimetype": "text/x-python",
   "name": "python",
   "nbconvert_exporter": "python",
   "pygments_lexer": "ipython3",
   "version": "3.7.6"
  }
 },
 "nbformat": 4,
 "nbformat_minor": 4
}
